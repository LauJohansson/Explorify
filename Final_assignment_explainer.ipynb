{
  "nbformat": 4,
  "nbformat_minor": 0,
  "metadata": {
    "colab": {
      "name": "Final_assignment_explainer.ipynb",
      "provenance": [],
      "collapsed_sections": [
        "lu_ZXcXQ7Cwl",
        "q5nIQhLRLZXe",
        "TQfl0JWJ3ORC",
        "1Rn8elA0OcGL"
      ],
      "include_colab_link": true
    },
    "kernelspec": {
      "name": "python3",
      "display_name": "Python 3"
    }
  },
  "cells": [
    {
      "cell_type": "markdown",
      "metadata": {
        "id": "view-in-github",
        "colab_type": "text"
      },
      "source": [
        "<a href=\"https://colab.research.google.com/github/LauJohansson/Explorify/blob/master/Final_assignment_explainer.ipynb\" target=\"_parent\"><img src=\"https://colab.research.google.com/assets/colab-badge.svg\" alt=\"Open In Colab\"/></a>"
      ]
    },
    {
      "cell_type": "markdown",
      "metadata": {
        "id": "bqhcGKe06dO4",
        "colab_type": "text"
      },
      "source": [
        "#1. Motivation (Mandatory)"
      ]
    },
    {
      "cell_type": "markdown",
      "metadata": {
        "id": "uLtU9OV_AHdR",
        "colab_type": "text"
      },
      "source": [
        "In general, we have been puzzled, when media outlets and politicians look at a specific statistic regarding Danish citizens with foreign backgrounds typically where the group is over-represented in some non-desirable way, but do not attempt to look for other explanation than ethnicity when trying to explain a phenomenon. We therefore wanted to look into one of the reccuring themes we have seen over the years, which is that there is a relationship between the share of students from foreign backgrounds and the performance of the school. "
      ]
    },
    {
      "cell_type": "markdown",
      "metadata": {
        "id": "B_9-Rn1c13iQ",
        "colab_type": "text"
      },
      "source": [
        "### *What is your dataset?* \n",
        "\n",
        "Our dataset describes school performance (based on a calculated metric using grade point average and average well-being) for schools in the municipality of Copenhagen. It also ecompasses data about the institutions, and socio-economic data about the school districts. <br> \n",
        "<br>\n",
        "### *Why did you choose this/these particular dataset(s)?* <br>\n",
        "The dataset explained our problem of interest which is the effect (or lack thereof) of a higher share of students from foreign backgrounds on school performance. We knew about the data that The Ministry of Education keeps in their publicly open data warehouse, and we found that this was a trustworthy source of information.<br>\n",
        "<br>\n",
        "### *What was your goal for the end user's experience?*<br>\n",
        "We hope to show the end user, that only looking at the bivariate relations between share of students with a foreign background and school perforamnce is an misleading oversimplification. We also hope to install a critical approach in our readers which could lead them to quesiton the apparent relations being presented to them, and look for alternative explanations. "
      ]
    },
    {
      "cell_type": "markdown",
      "metadata": {
        "id": "OAdR1tJ96hJf",
        "colab_type": "text"
      },
      "source": [
        "#2. Basic stats (Mandatory  <---- Data preparation er sat herind)"
      ]
    },
    {
      "cell_type": "markdown",
      "metadata": {
        "id": "PfhTo0kzkaow",
        "colab_type": "text"
      },
      "source": [
        "## Imports"
      ]
    },
    {
      "cell_type": "code",
      "metadata": {
        "id": "ceoPSYqbf8AF",
        "colab_type": "code",
        "outputId": "6fec458a-9699-4450-d3e3-40ac53351a22",
        "colab": {
          "base_uri": "https://localhost:8080/",
          "height": 71
        }
      },
      "source": [
        "import pandas as pd\n",
        "import numpy as np\n",
        "import math\n",
        "\n",
        "import statsmodels.formula.api as smf\n",
        "import statsmodels.api as sm\n",
        "from sklearn import preprocessing\n",
        "\n",
        "from bokeh.plotting import figure, output_file, save, show\n",
        "from bokeh.models import ColumnDataSource, NumeralTickFormatter, HoverTool, ColorBar, Tabs, Panel\n",
        "from bokeh.models import Whisker, Span, Legend, ColumnDataSource, Label, LabelSet, Range1d\n",
        "from bokeh.models import Arrow, NormalHead, OpenHead, VeeHead, LinearColorMapper\n",
        "from bokeh.io import show, output_notebook, output_file\n",
        "from bokeh.layouts import layout, column\n",
        "from bokeh.transform import linear_cmap\n",
        "from bokeh.embed import file_html\n",
        "from bokeh.resources import CDN\n",
        "from bokeh.palettes import brewer, viridis, Spectral6\n",
        "output_notebook()\n",
        "\n",
        "import warnings\n",
        "warnings.simplefilter('ignore')"
      ],
      "execution_count": 0,
      "outputs": [
        {
          "output_type": "stream",
          "text": [
            "/usr/local/lib/python3.6/dist-packages/statsmodels/tools/_testing.py:19: FutureWarning: pandas.util.testing is deprecated. Use the functions in the public API at pandas.testing instead.\n",
            "  import pandas.util.testing as tm\n"
          ],
          "name": "stderr"
        }
      ]
    },
    {
      "cell_type": "code",
      "metadata": {
        "id": "10eJHUgei9pe",
        "colab_type": "code",
        "outputId": "d5ae7485-723e-44c0-826e-8115e9d2952f",
        "colab": {
          "base_uri": "https://localhost:8080/",
          "height": 122
        }
      },
      "source": [
        "from google.colab import drive\n",
        "drive.mount('/content/drive')"
      ],
      "execution_count": 0,
      "outputs": [
        {
          "output_type": "stream",
          "text": [
            "Go to this URL in a browser: https://accounts.google.com/o/oauth2/auth?client_id=947318989803-6bn6qk8qdgf4n4g3pfee6491hc0brc4i.apps.googleusercontent.com&redirect_uri=urn%3aietf%3awg%3aoauth%3a2.0%3aoob&response_type=code&scope=email%20https%3a%2f%2fwww.googleapis.com%2fauth%2fdocs.test%20https%3a%2f%2fwww.googleapis.com%2fauth%2fdrive%20https%3a%2f%2fwww.googleapis.com%2fauth%2fdrive.photos.readonly%20https%3a%2f%2fwww.googleapis.com%2fauth%2fpeopleapi.readonly\n",
            "\n",
            "Enter your authorization code:\n",
            "··········\n",
            "Mounted at /content/drive\n"
          ],
          "name": "stdout"
        }
      ]
    },
    {
      "cell_type": "markdown",
      "metadata": {
        "id": "CnbsYevxkYQg",
        "colab_type": "text"
      },
      "source": [
        "## Data preparation"
      ]
    },
    {
      "cell_type": "markdown",
      "metadata": {
        "id": "efviJcy0j2By",
        "colab_type": "text"
      },
      "source": [
        "Several data sources with filetypes including .shp, .csv and .xlsx. have been prepared and combined in order to reach the final dataset we have worked with. Almost everything is processed in the software Alteryx, and thus, it cannot be included in this workbook. However, the following section will aim at explaining the steps taken towards the final clean data set including illustrations of the workflow.\n",
        "\n",
        "We were able to obtain data from a range of publicly available sources, such as OpenData.dk [6], The Ministry of Education [2][3] and a non-publicly available source Folkekirkens Nødhjælp.\n",
        "\n",
        "With this we had data describing socio-economic data on municipality, zip code and parish level for the whole country. The most granular level obtained is parish level, so this is what we used for further analysis. Also, we had data related to districts in Copenhagen and schools in some data sets for all of Denmark. \n",
        "\n",
        "Copenhagen is the city we all know the best and therefore expected to best be able to relate to throughout the project. Also this was the area we found most data for and thus, naturally, the area where we could be most convincing.\n",
        "\n",
        "Unfortunately, no socio-economic data on school district level was available, so in order to approximate representative data, weighted values were calculated for each school district based on the proportional overlap of districts and parishes.\n",
        "\n",
        "First, spatial objects were generated from a file with parish data and combined with a .shp file containing school districts to get overlaps as new spatial objects. Next, the area of each of the three special objects was calculated to derive the proportion of each overlap, e.g. how much parish 1 overlaps with school district 1 and vice versa. The output was both exported as .shp to generate maps in python and brought further in the workflow. \n"
      ]
    },
    {
      "cell_type": "markdown",
      "metadata": {
        "id": "27xXtJneknEf",
        "colab_type": "text"
      },
      "source": [
        "![alt text](https://drive.google.com/uc?id=1QErvFnpgQ5jDR2VXzzuQaBQBDn9rvb4_)"
      ]
    },
    {
      "cell_type": "markdown",
      "metadata": {
        "id": "9VMpYvzTmu_p",
        "colab_type": "text"
      },
      "source": [
        "The next data source is from Folkekirkens Nødhjælp with key socio-economic data on every parish in Denmark. The first step here was to filter parishes to only include municipalities in the Copenhagen area and to correct discrepancies in parish names between aforementioned dataset and this one as their respective ID’s did not match."
      ]
    },
    {
      "cell_type": "markdown",
      "metadata": {
        "id": "M-weh07vmvds",
        "colab_type": "text"
      },
      "source": [
        "![alt text](https://drive.google.com/uc?id=1B2dLqQRoq_9cZgOypR7XKmbUgx1HyWHC)"
      ]
    },
    {
      "cell_type": "markdown",
      "metadata": {
        "id": "z_36XoNOmvgX",
        "colab_type": "text"
      },
      "source": [
        "Next, the two datasets are joined and the proportions calculated before are used to get weighted socio-economic data on school district level."
      ]
    },
    {
      "cell_type": "markdown",
      "metadata": {
        "id": "y1f3YqAknf0e",
        "colab_type": "text"
      },
      "source": [
        "![alt text](https://drive.google.com/uc?id=1y5GExfg6KPYverSIm1em-5uzb0kiQnJT)"
      ]
    },
    {
      "cell_type": "markdown",
      "metadata": {
        "id": "7OXAtI6Pn8Q1",
        "colab_type": "text"
      },
      "source": [
        "So far, the proces looks like this:"
      ]
    },
    {
      "cell_type": "markdown",
      "metadata": {
        "id": "ys_3O8e4ntnf",
        "colab_type": "text"
      },
      "source": [
        "![alt text](https://drive.google.com/uc?id=13RmcIFUABumXMtjUoTvU4T8JXa8mvX3l)"
      ]
    },
    {
      "cell_type": "markdown",
      "metadata": {
        "id": "K9G_5bowmvih",
        "colab_type": "text"
      },
      "source": [
        "Then, the three different files with school related data including grades, pupils’ well-being, school size, links to their websites, latitude and longitude, etc. are joined with the rest of the data in a number of steps as there are discrepancies in names and missing data in the data sets.\n",
        "Finally, three new variables are generated with feature engineering. Share of foreign pupils = the sum of immigrants and descendants; Education score = the amount of years the highest educated parent has after primary school on average; Performance = the sum of standardized values for results from mandatory tests and avg. well-being among pupils."
      ]
    },
    {
      "cell_type": "markdown",
      "metadata": {
        "id": "C9qrgYK6mvkk",
        "colab_type": "text"
      },
      "source": [
        "![alt text](https://drive.google.com/uc?id=1AGzPQwhmO7mUjqwBykCoUkIA3__Qq_UP)"
      ]
    },
    {
      "cell_type": "markdown",
      "metadata": {
        "id": "UcryOtRbnrbb",
        "colab_type": "text"
      },
      "source": [
        "This final dataset then contains socio-economic data on each school district and thus on the pupils of each public school in Copenhagen as well as detailed data on the individual schools including among others competency level of the teacher staff, parents’ level of education and number of pupils."
      ]
    },
    {
      "cell_type": "markdown",
      "metadata": {
        "id": "vyNErw91oGlQ",
        "colab_type": "text"
      },
      "source": [
        "\n",
        "\n",
        "---\n"
      ]
    },
    {
      "cell_type": "code",
      "metadata": {
        "id": "Ivlne6AIkaMo",
        "colab_type": "code",
        "colab": {}
      },
      "source": [
        "# Enable full view of columns\n",
        "pd.set_option('display.max_rows', 57)\n",
        "pd.set_option('display.max_columns', 57)"
      ],
      "execution_count": 0,
      "outputs": []
    },
    {
      "cell_type": "code",
      "metadata": {
        "id": "GPtcd6_LhYkK",
        "colab_type": "code",
        "outputId": "2c568dd6-dca5-41d0-a044-3700033524a5",
        "colab": {
          "base_uri": "https://localhost:8080/",
          "height": 360
        }
      },
      "source": [
        "df=pd.read_csv(\"/content/drive/My Drive/Social dataanalyse + viz/Social data analysis and visualization/Final assignment/BerigelseKBH.csv\",delimiter=\",\")\n",
        "df.head()"
      ],
      "execution_count": 0,
      "outputs": [
        {
          "output_type": "execute_result",
          "data": {
            "text/html": [
              "<div>\n",
              "<style scoped>\n",
              "    .dataframe tbody tr th:only-of-type {\n",
              "        vertical-align: middle;\n",
              "    }\n",
              "\n",
              "    .dataframe tbody tr th {\n",
              "        vertical-align: top;\n",
              "    }\n",
              "\n",
              "    .dataframe thead th {\n",
              "        text-align: right;\n",
              "    }\n",
              "</style>\n",
              "<table border=\"1\" class=\"dataframe\">\n",
              "  <thead>\n",
              "    <tr style=\"text-align: right;\">\n",
              "      <th></th>\n",
              "      <th>School ID</th>\n",
              "      <th>School name</th>\n",
              "      <th>Total people 16+</th>\n",
              "      <th>Unemployed</th>\n",
              "      <th>Unemployment rate</th>\n",
              "      <th>Avg household income</th>\n",
              "      <th>Home page</th>\n",
              "      <th>Students</th>\n",
              "      <th>Qualified coverage</th>\n",
              "      <th>Share 10th</th>\n",
              "      <th>Share gym</th>\n",
              "      <th>Share vocational</th>\n",
              "      <th>Share short</th>\n",
              "      <th>Share medium</th>\n",
              "      <th>Share long</th>\n",
              "      <th>Share Danish</th>\n",
              "      <th>Share descendants</th>\n",
              "      <th>Share immigrants</th>\n",
              "      <th>Share foreign</th>\n",
              "      <th>Avg well-being</th>\n",
              "      <th>Result - mandatory tests</th>\n",
              "      <th>Education score</th>\n",
              "      <th>DistriktID</th>\n",
              "      <th>lon</th>\n",
              "      <th>lat</th>\n",
              "      <th>Performance</th>\n",
              "    </tr>\n",
              "  </thead>\n",
              "  <tbody>\n",
              "    <tr>\n",
              "      <th>0</th>\n",
              "      <td>101001</td>\n",
              "      <td>Den Classenske Legatskole</td>\n",
              "      <td>10475</td>\n",
              "      <td>1188</td>\n",
              "      <td>0.113413</td>\n",
              "      <td>642261</td>\n",
              "      <td>http://www.dcl.kk.dk</td>\n",
              "      <td>657.0</td>\n",
              "      <td>0.8642</td>\n",
              "      <td>0.0244</td>\n",
              "      <td>0.0518</td>\n",
              "      <td>0.1035</td>\n",
              "      <td>0.0381</td>\n",
              "      <td>0.2572</td>\n",
              "      <td>0.5114</td>\n",
              "      <td>0.9115</td>\n",
              "      <td>0.0550</td>\n",
              "      <td>0.0336</td>\n",
              "      <td>0.0886</td>\n",
              "      <td>-0.163675</td>\n",
              "      <td>1.674843</td>\n",
              "      <td>6.62415</td>\n",
              "      <td>1.0</td>\n",
              "      <td>12.575728</td>\n",
              "      <td>55.672916</td>\n",
              "      <td>6.511168</td>\n",
              "    </tr>\n",
              "    <tr>\n",
              "      <th>1</th>\n",
              "      <td>101003</td>\n",
              "      <td>Nyboder Skole</td>\n",
              "      <td>9724</td>\n",
              "      <td>1589</td>\n",
              "      <td>0.163410</td>\n",
              "      <td>750569</td>\n",
              "      <td>http://www.nyboderskole.kk.dk</td>\n",
              "      <td>701.0</td>\n",
              "      <td>0.8612</td>\n",
              "      <td>0.0500</td>\n",
              "      <td>0.0529</td>\n",
              "      <td>0.1771</td>\n",
              "      <td>0.0414</td>\n",
              "      <td>0.2514</td>\n",
              "      <td>0.4114</td>\n",
              "      <td>0.8616</td>\n",
              "      <td>0.1013</td>\n",
              "      <td>0.0285</td>\n",
              "      <td>0.1298</td>\n",
              "      <td>1.293412</td>\n",
              "      <td>1.520539</td>\n",
              "      <td>6.08655</td>\n",
              "      <td>103.0</td>\n",
              "      <td>12.586239</td>\n",
              "      <td>55.690566</td>\n",
              "      <td>7.813951</td>\n",
              "    </tr>\n",
              "    <tr>\n",
              "      <th>2</th>\n",
              "      <td>101005</td>\n",
              "      <td>Sølvgades Skole</td>\n",
              "      <td>6681</td>\n",
              "      <td>871</td>\n",
              "      <td>0.130370</td>\n",
              "      <td>631753</td>\n",
              "      <td>http://www.soel.kk.dk</td>\n",
              "      <td>603.0</td>\n",
              "      <td>0.8641</td>\n",
              "      <td>0.0183</td>\n",
              "      <td>0.0383</td>\n",
              "      <td>0.1050</td>\n",
              "      <td>0.0567</td>\n",
              "      <td>0.2500</td>\n",
              "      <td>0.5317</td>\n",
              "      <td>0.9301</td>\n",
              "      <td>0.0499</td>\n",
              "      <td>0.0200</td>\n",
              "      <td>0.0699</td>\n",
              "      <td>-0.747375</td>\n",
              "      <td>0.903322</td>\n",
              "      <td>6.78780</td>\n",
              "      <td>6.0</td>\n",
              "      <td>12.583239</td>\n",
              "      <td>55.686490</td>\n",
              "      <td>5.155947</td>\n",
              "    </tr>\n",
              "    <tr>\n",
              "      <th>3</th>\n",
              "      <td>101007</td>\n",
              "      <td>Nørrebro Park Skole</td>\n",
              "      <td>13387</td>\n",
              "      <td>1373</td>\n",
              "      <td>0.102562</td>\n",
              "      <td>431108</td>\n",
              "      <td>http://www.nps.kk.dk</td>\n",
              "      <td>960.0</td>\n",
              "      <td>0.8115</td>\n",
              "      <td>0.0938</td>\n",
              "      <td>0.0625</td>\n",
              "      <td>0.1948</td>\n",
              "      <td>0.0510</td>\n",
              "      <td>0.2458</td>\n",
              "      <td>0.3198</td>\n",
              "      <td>0.6823</td>\n",
              "      <td>0.2469</td>\n",
              "      <td>0.0542</td>\n",
              "      <td>0.3011</td>\n",
              "      <td>1.306383</td>\n",
              "      <td>-0.794023</td>\n",
              "      <td>5.49710</td>\n",
              "      <td>48.0</td>\n",
              "      <td>12.544698</td>\n",
              "      <td>55.690281</td>\n",
              "      <td>5.512360</td>\n",
              "    </tr>\n",
              "    <tr>\n",
              "      <th>4</th>\n",
              "      <td>101008</td>\n",
              "      <td>Blågård Skole</td>\n",
              "      <td>15850</td>\n",
              "      <td>1594</td>\n",
              "      <td>0.100568</td>\n",
              "      <td>469857</td>\n",
              "      <td>http://www.blg.kk.dk</td>\n",
              "      <td>783.0</td>\n",
              "      <td>0.8444</td>\n",
              "      <td>0.1277</td>\n",
              "      <td>0.0575</td>\n",
              "      <td>0.2184</td>\n",
              "      <td>0.0447</td>\n",
              "      <td>0.2158</td>\n",
              "      <td>0.3218</td>\n",
              "      <td>0.7356</td>\n",
              "      <td>0.2363</td>\n",
              "      <td>0.0281</td>\n",
              "      <td>0.2644</td>\n",
              "      <td>-2.044485</td>\n",
              "      <td>-2.182761</td>\n",
              "      <td>5.37310</td>\n",
              "      <td>47.0</td>\n",
              "      <td>12.550206</td>\n",
              "      <td>55.687820</td>\n",
              "      <td>0.772754</td>\n",
              "    </tr>\n",
              "  </tbody>\n",
              "</table>\n",
              "</div>"
            ],
            "text/plain": [
              "   School ID                School name  Total people 16+  Unemployed  \\\n",
              "0     101001  Den Classenske Legatskole             10475        1188   \n",
              "1     101003              Nyboder Skole              9724        1589   \n",
              "2     101005            Sølvgades Skole              6681         871   \n",
              "3     101007        Nørrebro Park Skole             13387        1373   \n",
              "4     101008              Blågård Skole             15850        1594   \n",
              "\n",
              "   Unemployment rate  Avg household income                      Home page  \\\n",
              "0           0.113413                642261           http://www.dcl.kk.dk   \n",
              "1           0.163410                750569  http://www.nyboderskole.kk.dk   \n",
              "2           0.130370                631753          http://www.soel.kk.dk   \n",
              "3           0.102562                431108           http://www.nps.kk.dk   \n",
              "4           0.100568                469857           http://www.blg.kk.dk   \n",
              "\n",
              "   Students  Qualified coverage  Share 10th  Share gym  Share vocational  \\\n",
              "0     657.0              0.8642      0.0244     0.0518            0.1035   \n",
              "1     701.0              0.8612      0.0500     0.0529            0.1771   \n",
              "2     603.0              0.8641      0.0183     0.0383            0.1050   \n",
              "3     960.0              0.8115      0.0938     0.0625            0.1948   \n",
              "4     783.0              0.8444      0.1277     0.0575            0.2184   \n",
              "\n",
              "   Share short  Share medium  Share long  Share Danish  Share descendants  \\\n",
              "0       0.0381        0.2572      0.5114        0.9115             0.0550   \n",
              "1       0.0414        0.2514      0.4114        0.8616             0.1013   \n",
              "2       0.0567        0.2500      0.5317        0.9301             0.0499   \n",
              "3       0.0510        0.2458      0.3198        0.6823             0.2469   \n",
              "4       0.0447        0.2158      0.3218        0.7356             0.2363   \n",
              "\n",
              "   Share immigrants  Share foreign  Avg well-being  Result - mandatory tests  \\\n",
              "0            0.0336         0.0886       -0.163675                  1.674843   \n",
              "1            0.0285         0.1298        1.293412                  1.520539   \n",
              "2            0.0200         0.0699       -0.747375                  0.903322   \n",
              "3            0.0542         0.3011        1.306383                 -0.794023   \n",
              "4            0.0281         0.2644       -2.044485                 -2.182761   \n",
              "\n",
              "   Education score  DistriktID        lon        lat  Performance  \n",
              "0          6.62415         1.0  12.575728  55.672916     6.511168  \n",
              "1          6.08655       103.0  12.586239  55.690566     7.813951  \n",
              "2          6.78780         6.0  12.583239  55.686490     5.155947  \n",
              "3          5.49710        48.0  12.544698  55.690281     5.512360  \n",
              "4          5.37310        47.0  12.550206  55.687820     0.772754  "
            ]
          },
          "metadata": {
            "tags": []
          },
          "execution_count": 4
        }
      ]
    },
    {
      "cell_type": "code",
      "metadata": {
        "id": "A1HYIQkZkqMT",
        "colab_type": "code",
        "colab": {}
      },
      "source": [
        "# Adding helping variables to nicefy hover tooltip\n",
        "df['Income_string']=df['Avg household income'].apply(lambda x: '{:,}'.format(x)+'DKK')\n",
        "df['Avg household income']=df['Avg household income'].replace(float('nan'),\"NAN\")\n",
        "\n",
        "df['Share foreign_percent']=df['Share foreign']*100\n",
        "df['Share foreign_percent_string']=df['Share foreign_percent'].apply(lambda x: str(int(x))+'%' if not math.isnan(x) else x)\n",
        "\n",
        "df['Performance']=np.round(df['Performance'].astype(float),decimals=1)\n",
        "df['Performance_edit']=df['Performance'].replace(float('nan'),\"NAN\")\n",
        "df['Performance_edit_string']=df['Performance_edit'].astype(str)\n",
        "\n",
        "df['Education score']=np.round(df['Education score'].astype(float),decimals=1)\n",
        "df['Education score_edit']=df['Education score'].replace(float('nan'),\"NAN\")\n",
        "df['Education score_edit_string']=df['Education score_edit'].astype(str)"
      ],
      "execution_count": 0,
      "outputs": []
    },
    {
      "cell_type": "code",
      "metadata": {
        "id": "CDr7EBTUhgxG",
        "colab_type": "code",
        "colab": {}
      },
      "source": [
        "#Adding all variables to the source\n",
        "source = ColumnDataSource(data={\n",
        "    \n",
        "    'School name'               : df['School name'],   \n",
        "    'School ID'                 : df['School ID'],\n",
        "    'Total people 16+'          : df['Total people 16+'],\n",
        "    'Unemployed'                : df['Unemployed'],\n",
        "    'Unemployment rate'         : df['Unemployment rate'],\n",
        "    'Avg household income'      : df['Avg household income'],\n",
        "    'Home page'                 : df['Home page'],\n",
        "    'Students'                  : df['Students'],\n",
        "    'Qualified coverage'        : df['Qualified coverage'],\n",
        "    'Share 10th'                : df['Share 10th'],\n",
        "    'Share gym'                 : df['Share gym'],\n",
        "    'Share vocational'          : df['Share vocational'],\n",
        "    'Share short'               : df['Share short'],\n",
        "    'Share medium'              : df['Share medium'],\n",
        "    'Share long'                : df['Share long'],\n",
        "    'Share Danish'              : df['Share Danish'],\n",
        "    'Share descendants'         : df['Share descendants'],\n",
        "    'Share immigrants'          : df['Share immigrants'],\n",
        "    'Share foreign'             : df['Share foreign'],\n",
        "    'Avg well-being'            : df['Avg well-being'],\n",
        "    'Result - mandatory tests'  : df['Result - mandatory tests'],\n",
        "    'DistriktID'                : df['DistriktID'],\n",
        "    'lon'                       : df['lon'],\n",
        "    'lat'                       : df['lat'],\n",
        "    'Performance'               : df['Performance'],\n",
        "    'Education score'           : df['Education score'],\n",
        "    \n",
        "    'sizeInc'                   : df['Avg household income']/min(df['Avg household income'])/100,\n",
        "    'sizeEdu'                   :(df['Education score']**1)/(min(df['Education score'])**1)/100,\n",
        "    'income_string'             : df['Income_string'],\n",
        "    'Share foreign_percent_string' : df['Share foreign_percent_string'],\n",
        "    'Performance_edit_string'   : df['Performance_edit_string'],\n",
        "    'Education score_edit_string'  : df['Education score_edit_string']\n",
        "})"
      ],
      "execution_count": 0,
      "outputs": []
    },
    {
      "cell_type": "markdown",
      "metadata": {
        "id": "ovzjl11b6xo_",
        "colab_type": "text"
      },
      "source": [
        "#3. Data analysis (Mandatory)"
      ]
    },
    {
      "cell_type": "markdown",
      "metadata": {
        "id": "objzFSyU19dH",
        "colab_type": "text"
      },
      "source": [
        "During the project's initial phase, when looking for data to validate the planned narrative, we learning that the borders school districts are in fact defined and redefined constantly to account for shifting demographics. Both in terms of number of school children but in particular also in terms of the share of pupils with foreign backgrounds. We were surprised that this was a driving mechanism, instead of other socio-economic factors such as household income. Also, according to foreign studies the average household income is changing according to the performance of schools as more wealthy families have better opportunities to choose residence based on the local public school.\n",
        "\n",
        "It was only in the later stages of the project that we concluded that GPA was not necessarily the best way to meassure the performance of a school, so we found some data describing pupils' well-being and made a metric combining the two.\n",
        "\n",
        "Accordign to studies [4].\n",
        "\n",
        "### *Describe your data analysis and explain what you've learned about the dataset*<br>\n",
        "\n",
        "We have gone from looking at the bivariate relationship between share of students with a foreign background and school performance, to a more nuanced model where variables on the institution level and variable regarding socio-economic conditions in the school districts are also included. By expanding the model in this way, we have learned that variables on the socio-economic level, specifically average household income and parents educational score, have much higher explanatory power than share of students with foreign background. Actually, when including these in the model, the effect goes from negative and significant to insignificant (and positve).<br>\n",
        "\n",
        "From our maps we have learned about the distribution of the different variables across Copenhagen. Schools districs located in the city center generally perform better, have higher household incomes, higher levels of education and lower levels of students with foreign backgrounds. School districs in the north (Nordvest and Nørrebro) and in the south (Sydhavnen and Valby) perform worse, have lower household incomes, lower levels of education and higher levels of students with foreign backgrounds. This supported our expectation of the distribution in Copenhagen. What did surprise us, though, was the disparity between the richest and the poorest school districts, which is approximately a factor of 2, between Grøndalsvænget School (poorest, 382,152 DKK) and Nyboder School (richest, 750,569 DKK).<br>\n",
        "\n",
        "\n",
        "### *If relevant, talk about your machine-learning.*\n",
        "\n",
        "To test our hypothesis, that other factors than ethnicity explain a large portion of school performance, and that share of students from foreign background might not have an impact at all, when accounting for these other factors. So we ran a simple linear regression model on the dataset of public schools in Copenhagen, with one independent variale: Share of student with foreign backgrounds, and the dependent variable: School performance (calculated as shown above). The simple model supported the claim that schools with more students from foreign backgrounds perform worse. We then tested the strength of this relation, by first adding variables regarding the school and then informaiton about the socio-economic conditions in the school district. The three models were the following:<br>\n",
        "<br>\n",
        "**Model 1 (Ethnicity)**\n",
        "- Share of students from foreign background\n",
        "\n",
        "This model is used as a baseline, showing the simplistic dynamics of school performance that we are trying to challenge.<br>\n",
        "<br>\n",
        "**Model 2 (Ethnicity + Institutional)**\n",
        "- Share of students from foreign background\n",
        "- Number of students attending the school\n",
        "- Qualified coverage\n",
        "\n",
        "Maybe the number of students affect the performance? Students might feel \"lost\" at some the bigger schools. The level of qualified coverage could also affect the performance, in the sense that higher levels of qualified coverage should lead to higher grades and happier kids. <br>\n",
        "<br>\n",
        "**Model 3 (Ethnicity + Institutional + Socio-economic)**\n",
        "- Share of students from foreign background\n",
        "- Number of students attending the school\n",
        "- Qualified coverage\n",
        "- Unemployment rate\n",
        "- Average household income\n",
        "- Education score\n",
        "\n",
        "High levels of unemployment, low average household income and low levels of education are all expected to negatively affect the the grades and well-being in school of the students. \n",
        "\n",
        "**Results** <br>\n",
        "As will be shown in section 5. Visualizations, the results of running the models were along the lines of what we expected. Variables about the schools didn't explain school performance, **HVORFOR DET?**. On the other hand, including socio-economic factors had a big impact on the model, and the effect of share of students from foreign backgrounds became insignificant. Only average household income had a significant effect on shcool perforamnce, though education score was almost significant (and might have been if there were more datapoints). \n",
        "\n"
      ]
    },
    {
      "cell_type": "markdown",
      "metadata": {
        "id": "3t1MWmUS66Ie",
        "colab_type": "text"
      },
      "source": [
        "## 3 regression models"
      ]
    },
    {
      "cell_type": "code",
      "metadata": {
        "id": "iuf6aqEMjHQl",
        "colab_type": "code",
        "colab": {}
      },
      "source": [
        "data = pd.read_csv('/content/drive/My Drive/Social data analysis and visualization/BerigelseKBH.csv') "
      ],
      "execution_count": 0,
      "outputs": []
    },
    {
      "cell_type": "markdown",
      "metadata": {
        "id": "_BllyjD3IIm1",
        "colab_type": "text"
      },
      "source": [
        "\n",
        "### Model 1"
      ]
    },
    {
      "cell_type": "code",
      "metadata": {
        "id": "mNYQ9N7CIIm2",
        "colab_type": "code",
        "outputId": "c865dc1e-f2e3-456e-b131-4cd831a78011",
        "colab": {
          "base_uri": "https://localhost:8080/",
          "height": 444
        }
      },
      "source": [
        "# Model with just share of students with foreign background\n",
        "\n",
        "# drop NaNs\n",
        "df = data.dropna()\n",
        "\n",
        "# standardize X and add constant\n",
        "X1=df[['Share foreign']]\n",
        "X1=preprocessing.scale(X1)\n",
        "X1=pd.DataFrame.from_records(X1) # this ensures that it keeps the var-names\n",
        "X1.columns=['Share foreign'] # this ensures that it keeps the var-names\n",
        "X1=sm.add_constant(X1) \n",
        "\n",
        "y = df[\"Performance\"].values # .values removes the index, so they are aligned\n",
        "\n",
        "# estimate model \n",
        "model1 = sm.OLS(y, X1).fit() \n",
        "predictions1 = model1.predict(X1)\n",
        "\n",
        "# Print out the statistics\n",
        "model1.summary()\n",
        "\n"
      ],
      "execution_count": 0,
      "outputs": [
        {
          "output_type": "execute_result",
          "data": {
            "text/html": [
              "<table class=\"simpletable\">\n",
              "<caption>OLS Regression Results</caption>\n",
              "<tr>\n",
              "  <th>Dep. Variable:</th>            <td>y</td>        <th>  R-squared:         </th> <td>   0.246</td>\n",
              "</tr>\n",
              "<tr>\n",
              "  <th>Model:</th>                   <td>OLS</td>       <th>  Adj. R-squared:    </th> <td>   0.229</td>\n",
              "</tr>\n",
              "<tr>\n",
              "  <th>Method:</th>             <td>Least Squares</td>  <th>  F-statistic:       </th> <td>   14.05</td>\n",
              "</tr>\n",
              "<tr>\n",
              "  <th>Date:</th>             <td>Thu, 14 May 2020</td> <th>  Prob (F-statistic):</th> <td>0.000526</td>\n",
              "</tr>\n",
              "<tr>\n",
              "  <th>Time:</th>                 <td>09:39:33</td>     <th>  Log-Likelihood:    </th> <td> -75.884</td>\n",
              "</tr>\n",
              "<tr>\n",
              "  <th>No. Observations:</th>      <td>    45</td>      <th>  AIC:               </th> <td>   155.8</td>\n",
              "</tr>\n",
              "<tr>\n",
              "  <th>Df Residuals:</th>          <td>    43</td>      <th>  BIC:               </th> <td>   159.4</td>\n",
              "</tr>\n",
              "<tr>\n",
              "  <th>Df Model:</th>              <td>     1</td>      <th>                     </th>     <td> </td>   \n",
              "</tr>\n",
              "<tr>\n",
              "  <th>Covariance Type:</th>      <td>nonrobust</td>    <th>                     </th>     <td> </td>   \n",
              "</tr>\n",
              "</table>\n",
              "<table class=\"simpletable\">\n",
              "<tr>\n",
              "        <td></td>           <th>coef</th>     <th>std err</th>      <th>t</th>      <th>P>|t|</th>  <th>[0.025</th>    <th>0.975]</th>  \n",
              "</tr>\n",
              "<tr>\n",
              "  <th>const</th>         <td>    4.8535</td> <td>    0.199</td> <td>   24.360</td> <td> 0.000</td> <td>    4.452</td> <td>    5.255</td>\n",
              "</tr>\n",
              "<tr>\n",
              "  <th>Share foreign</th> <td>   -0.7469</td> <td>    0.199</td> <td>   -3.749</td> <td> 0.001</td> <td>   -1.149</td> <td>   -0.345</td>\n",
              "</tr>\n",
              "</table>\n",
              "<table class=\"simpletable\">\n",
              "<tr>\n",
              "  <th>Omnibus:</th>       <td> 4.151</td> <th>  Durbin-Watson:     </th> <td>   1.921</td>\n",
              "</tr>\n",
              "<tr>\n",
              "  <th>Prob(Omnibus):</th> <td> 0.126</td> <th>  Jarque-Bera (JB):  </th> <td>   4.147</td>\n",
              "</tr>\n",
              "<tr>\n",
              "  <th>Skew:</th>          <td>-0.128</td> <th>  Prob(JB):          </th> <td>   0.126</td>\n",
              "</tr>\n",
              "<tr>\n",
              "  <th>Kurtosis:</th>      <td> 4.465</td> <th>  Cond. No.          </th> <td>    1.00</td>\n",
              "</tr>\n",
              "</table><br/><br/>Warnings:<br/>[1] Standard Errors assume that the covariance matrix of the errors is correctly specified."
            ],
            "text/plain": [
              "<class 'statsmodels.iolib.summary.Summary'>\n",
              "\"\"\"\n",
              "                            OLS Regression Results                            \n",
              "==============================================================================\n",
              "Dep. Variable:                      y   R-squared:                       0.246\n",
              "Model:                            OLS   Adj. R-squared:                  0.229\n",
              "Method:                 Least Squares   F-statistic:                     14.05\n",
              "Date:                Thu, 14 May 2020   Prob (F-statistic):           0.000526\n",
              "Time:                        09:39:33   Log-Likelihood:                -75.884\n",
              "No. Observations:                  45   AIC:                             155.8\n",
              "Df Residuals:                      43   BIC:                             159.4\n",
              "Df Model:                           1                                         \n",
              "Covariance Type:            nonrobust                                         \n",
              "=================================================================================\n",
              "                    coef    std err          t      P>|t|      [0.025      0.975]\n",
              "---------------------------------------------------------------------------------\n",
              "const             4.8535      0.199     24.360      0.000       4.452       5.255\n",
              "Share foreign    -0.7469      0.199     -3.749      0.001      -1.149      -0.345\n",
              "==============================================================================\n",
              "Omnibus:                        4.151   Durbin-Watson:                   1.921\n",
              "Prob(Omnibus):                  0.126   Jarque-Bera (JB):                4.147\n",
              "Skew:                          -0.128   Prob(JB):                        0.126\n",
              "Kurtosis:                       4.465   Cond. No.                         1.00\n",
              "==============================================================================\n",
              "\n",
              "Warnings:\n",
              "[1] Standard Errors assume that the covariance matrix of the errors is correctly specified.\n",
              "\"\"\""
            ]
          },
          "metadata": {
            "tags": []
          },
          "execution_count": 9
        }
      ]
    },
    {
      "cell_type": "markdown",
      "metadata": {
        "scrolled": true,
        "id": "-H03pZgHIIm6",
        "colab_type": "text"
      },
      "source": [
        "### Model 2"
      ]
    },
    {
      "cell_type": "code",
      "metadata": {
        "scrolled": true,
        "id": "CCcevT9KIIm6",
        "colab_type": "code",
        "outputId": "33dec346-57b1-4df4-c57c-40de90ef6762",
        "colab": {
          "base_uri": "https://localhost:8080/",
          "height": 486
        }
      },
      "source": [
        "\n",
        "## Now with independent variables added on institutional level ## \n",
        "\n",
        "# drop NaNs\n",
        "df = data.dropna()\n",
        "\n",
        "# standardize X and add constant\n",
        "X2=df[['Share foreign','Students','Qualified coverage']]\n",
        "X2=preprocessing.scale(X2)\n",
        "X2=pd.DataFrame.from_records(X2) # this ensures that it keeps the var-names\n",
        "X2.columns=['Share foreign','Students','Qualified coverage'] # this ensures that it keeps the var-names\n",
        "X2=sm.add_constant(X2) \n",
        "\n",
        "y = df[\"Performance\"].values # .values removes the index, so they are aligned\n",
        "\n",
        "# estimate model \n",
        "model2 = sm.OLS(y, X2).fit() \n",
        "predictions2 = model2.predict(X2)\n",
        "\n",
        "# Print out the statistics\n",
        "model2.summary()\n"
      ],
      "execution_count": 0,
      "outputs": [
        {
          "output_type": "execute_result",
          "data": {
            "text/html": [
              "<table class=\"simpletable\">\n",
              "<caption>OLS Regression Results</caption>\n",
              "<tr>\n",
              "  <th>Dep. Variable:</th>            <td>y</td>        <th>  R-squared:         </th> <td>   0.261</td>\n",
              "</tr>\n",
              "<tr>\n",
              "  <th>Model:</th>                   <td>OLS</td>       <th>  Adj. R-squared:    </th> <td>   0.207</td>\n",
              "</tr>\n",
              "<tr>\n",
              "  <th>Method:</th>             <td>Least Squares</td>  <th>  F-statistic:       </th> <td>   4.836</td>\n",
              "</tr>\n",
              "<tr>\n",
              "  <th>Date:</th>             <td>Thu, 14 May 2020</td> <th>  Prob (F-statistic):</th>  <td>0.00567</td>\n",
              "</tr>\n",
              "<tr>\n",
              "  <th>Time:</th>                 <td>09:39:40</td>     <th>  Log-Likelihood:    </th> <td> -75.429</td>\n",
              "</tr>\n",
              "<tr>\n",
              "  <th>No. Observations:</th>      <td>    45</td>      <th>  AIC:               </th> <td>   158.9</td>\n",
              "</tr>\n",
              "<tr>\n",
              "  <th>Df Residuals:</th>          <td>    41</td>      <th>  BIC:               </th> <td>   166.1</td>\n",
              "</tr>\n",
              "<tr>\n",
              "  <th>Df Model:</th>              <td>     3</td>      <th>                     </th>     <td> </td>   \n",
              "</tr>\n",
              "<tr>\n",
              "  <th>Covariance Type:</th>      <td>nonrobust</td>    <th>                     </th>     <td> </td>   \n",
              "</tr>\n",
              "</table>\n",
              "<table class=\"simpletable\">\n",
              "<tr>\n",
              "           <td></td>             <th>coef</th>     <th>std err</th>      <th>t</th>      <th>P>|t|</th>  <th>[0.025</th>    <th>0.975]</th>  \n",
              "</tr>\n",
              "<tr>\n",
              "  <th>const</th>              <td>    4.8535</td> <td>    0.202</td> <td>   24.028</td> <td> 0.000</td> <td>    4.446</td> <td>    5.261</td>\n",
              "</tr>\n",
              "<tr>\n",
              "  <th>Share foreign</th>      <td>   -0.7989</td> <td>    0.213</td> <td>   -3.750</td> <td> 0.001</td> <td>   -1.229</td> <td>   -0.369</td>\n",
              "</tr>\n",
              "<tr>\n",
              "  <th>Students</th>           <td>   -0.1890</td> <td>    0.214</td> <td>   -0.884</td> <td> 0.382</td> <td>   -0.621</td> <td>    0.243</td>\n",
              "</tr>\n",
              "<tr>\n",
              "  <th>Qualified coverage</th> <td>    0.0164</td> <td>    0.206</td> <td>    0.079</td> <td> 0.937</td> <td>   -0.400</td> <td>    0.433</td>\n",
              "</tr>\n",
              "</table>\n",
              "<table class=\"simpletable\">\n",
              "<tr>\n",
              "  <th>Omnibus:</th>       <td> 4.542</td> <th>  Durbin-Watson:     </th> <td>   1.920</td>\n",
              "</tr>\n",
              "<tr>\n",
              "  <th>Prob(Omnibus):</th> <td> 0.103</td> <th>  Jarque-Bera (JB):  </th> <td>   4.229</td>\n",
              "</tr>\n",
              "<tr>\n",
              "  <th>Skew:</th>          <td>-0.291</td> <th>  Prob(JB):          </th> <td>   0.121</td>\n",
              "</tr>\n",
              "<tr>\n",
              "  <th>Kurtosis:</th>      <td> 4.385</td> <th>  Cond. No.          </th> <td>    1.42</td>\n",
              "</tr>\n",
              "</table><br/><br/>Warnings:<br/>[1] Standard Errors assume that the covariance matrix of the errors is correctly specified."
            ],
            "text/plain": [
              "<class 'statsmodels.iolib.summary.Summary'>\n",
              "\"\"\"\n",
              "                            OLS Regression Results                            \n",
              "==============================================================================\n",
              "Dep. Variable:                      y   R-squared:                       0.261\n",
              "Model:                            OLS   Adj. R-squared:                  0.207\n",
              "Method:                 Least Squares   F-statistic:                     4.836\n",
              "Date:                Thu, 14 May 2020   Prob (F-statistic):            0.00567\n",
              "Time:                        09:39:40   Log-Likelihood:                -75.429\n",
              "No. Observations:                  45   AIC:                             158.9\n",
              "Df Residuals:                      41   BIC:                             166.1\n",
              "Df Model:                           3                                         \n",
              "Covariance Type:            nonrobust                                         \n",
              "======================================================================================\n",
              "                         coef    std err          t      P>|t|      [0.025      0.975]\n",
              "--------------------------------------------------------------------------------------\n",
              "const                  4.8535      0.202     24.028      0.000       4.446       5.261\n",
              "Share foreign         -0.7989      0.213     -3.750      0.001      -1.229      -0.369\n",
              "Students              -0.1890      0.214     -0.884      0.382      -0.621       0.243\n",
              "Qualified coverage     0.0164      0.206      0.079      0.937      -0.400       0.433\n",
              "==============================================================================\n",
              "Omnibus:                        4.542   Durbin-Watson:                   1.920\n",
              "Prob(Omnibus):                  0.103   Jarque-Bera (JB):                4.229\n",
              "Skew:                          -0.291   Prob(JB):                        0.121\n",
              "Kurtosis:                       4.385   Cond. No.                         1.42\n",
              "==============================================================================\n",
              "\n",
              "Warnings:\n",
              "[1] Standard Errors assume that the covariance matrix of the errors is correctly specified.\n",
              "\"\"\""
            ]
          },
          "metadata": {
            "tags": []
          },
          "execution_count": 10
        }
      ]
    },
    {
      "cell_type": "markdown",
      "metadata": {
        "id": "L0que63YIIm_",
        "colab_type": "text"
      },
      "source": [
        "### Model 3"
      ]
    },
    {
      "cell_type": "code",
      "metadata": {
        "scrolled": false,
        "id": "F36PwHkJIIm_",
        "colab_type": "code",
        "outputId": "e609fefb-678b-42ad-d306-3d107bdbdb35",
        "colab": {
          "base_uri": "https://localhost:8080/",
          "height": 549
        }
      },
      "source": [
        "## Now with independent variables added on socio-economic level ## \n",
        "\n",
        "# drop NaNs\n",
        "df = data.dropna()\n",
        "\n",
        "# standardize X and add constant\n",
        "X3=df[['Share foreign',\n",
        "      'Students',\n",
        "      'Qualified coverage','Unemployment rate','Avg household income',\n",
        "      'Education score']]\n",
        "X3=preprocessing.scale(X3)\n",
        "X3=pd.DataFrame.from_records(X3) # this ensures that it keeps the var-names\n",
        "X3.columns=['Share foreign',\n",
        "           'Students',\n",
        "           'Qualified coverage','Unemployment rate','Avg household income',\n",
        "           'Education score'] # this ensures that it keeps the var-names\n",
        "X3=sm.add_constant(X3) \n",
        "\n",
        "y = df[\"Performance\"].values # .values removes the index, so they are aligned\n",
        "\n",
        "# estimate model \n",
        "model3 = sm.OLS(y, X3).fit() \n",
        "predictions3 = model3.predict(X3)\n",
        "\n",
        "# Print out the statistics\n",
        "model3.summary()"
      ],
      "execution_count": 0,
      "outputs": [
        {
          "output_type": "execute_result",
          "data": {
            "text/html": [
              "<table class=\"simpletable\">\n",
              "<caption>OLS Regression Results</caption>\n",
              "<tr>\n",
              "  <th>Dep. Variable:</th>            <td>y</td>        <th>  R-squared:         </th> <td>   0.404</td>\n",
              "</tr>\n",
              "<tr>\n",
              "  <th>Model:</th>                   <td>OLS</td>       <th>  Adj. R-squared:    </th> <td>   0.310</td>\n",
              "</tr>\n",
              "<tr>\n",
              "  <th>Method:</th>             <td>Least Squares</td>  <th>  F-statistic:       </th> <td>   4.299</td>\n",
              "</tr>\n",
              "<tr>\n",
              "  <th>Date:</th>             <td>Thu, 14 May 2020</td> <th>  Prob (F-statistic):</th>  <td>0.00211</td>\n",
              "</tr>\n",
              "<tr>\n",
              "  <th>Time:</th>                 <td>09:39:43</td>     <th>  Log-Likelihood:    </th> <td> -70.589</td>\n",
              "</tr>\n",
              "<tr>\n",
              "  <th>No. Observations:</th>      <td>    45</td>      <th>  AIC:               </th> <td>   155.2</td>\n",
              "</tr>\n",
              "<tr>\n",
              "  <th>Df Residuals:</th>          <td>    38</td>      <th>  BIC:               </th> <td>   167.8</td>\n",
              "</tr>\n",
              "<tr>\n",
              "  <th>Df Model:</th>              <td>     6</td>      <th>                     </th>     <td> </td>   \n",
              "</tr>\n",
              "<tr>\n",
              "  <th>Covariance Type:</th>      <td>nonrobust</td>    <th>                     </th>     <td> </td>   \n",
              "</tr>\n",
              "</table>\n",
              "<table class=\"simpletable\">\n",
              "<tr>\n",
              "            <td></td>              <th>coef</th>     <th>std err</th>      <th>t</th>      <th>P>|t|</th>  <th>[0.025</th>    <th>0.975]</th>  \n",
              "</tr>\n",
              "<tr>\n",
              "  <th>const</th>                <td>    4.8535</td> <td>    0.188</td> <td>   25.759</td> <td> 0.000</td> <td>    4.472</td> <td>    5.235</td>\n",
              "</tr>\n",
              "<tr>\n",
              "  <th>Share foreign</th>        <td>    0.7200</td> <td>    0.667</td> <td>    1.080</td> <td> 0.287</td> <td>   -0.629</td> <td>    2.069</td>\n",
              "</tr>\n",
              "<tr>\n",
              "  <th>Students</th>             <td>   -0.1673</td> <td>    0.214</td> <td>   -0.783</td> <td> 0.439</td> <td>   -0.600</td> <td>    0.265</td>\n",
              "</tr>\n",
              "<tr>\n",
              "  <th>Qualified coverage</th>   <td>    0.0986</td> <td>    0.197</td> <td>    0.501</td> <td> 0.619</td> <td>   -0.300</td> <td>    0.497</td>\n",
              "</tr>\n",
              "<tr>\n",
              "  <th>Unemployment rate</th>    <td>    0.0288</td> <td>    0.215</td> <td>    0.134</td> <td> 0.894</td> <td>   -0.407</td> <td>    0.464</td>\n",
              "</tr>\n",
              "<tr>\n",
              "  <th>Avg household income</th> <td>    0.5697</td> <td>    0.260</td> <td>    2.190</td> <td> 0.035</td> <td>    0.043</td> <td>    1.096</td>\n",
              "</tr>\n",
              "<tr>\n",
              "  <th>Education score</th>      <td>    1.2020</td> <td>    0.643</td> <td>    1.869</td> <td> 0.069</td> <td>   -0.100</td> <td>    2.504</td>\n",
              "</tr>\n",
              "</table>\n",
              "<table class=\"simpletable\">\n",
              "<tr>\n",
              "  <th>Omnibus:</th>       <td> 1.399</td> <th>  Durbin-Watson:     </th> <td>   2.249</td>\n",
              "</tr>\n",
              "<tr>\n",
              "  <th>Prob(Omnibus):</th> <td> 0.497</td> <th>  Jarque-Bera (JB):  </th> <td>   0.589</td>\n",
              "</tr>\n",
              "<tr>\n",
              "  <th>Skew:</th>          <td>-0.030</td> <th>  Prob(JB):          </th> <td>   0.745</td>\n",
              "</tr>\n",
              "<tr>\n",
              "  <th>Kurtosis:</th>      <td> 3.557</td> <th>  Cond. No.          </th> <td>    7.78</td>\n",
              "</tr>\n",
              "</table><br/><br/>Warnings:<br/>[1] Standard Errors assume that the covariance matrix of the errors is correctly specified."
            ],
            "text/plain": [
              "<class 'statsmodels.iolib.summary.Summary'>\n",
              "\"\"\"\n",
              "                            OLS Regression Results                            \n",
              "==============================================================================\n",
              "Dep. Variable:                      y   R-squared:                       0.404\n",
              "Model:                            OLS   Adj. R-squared:                  0.310\n",
              "Method:                 Least Squares   F-statistic:                     4.299\n",
              "Date:                Thu, 14 May 2020   Prob (F-statistic):            0.00211\n",
              "Time:                        09:39:43   Log-Likelihood:                -70.589\n",
              "No. Observations:                  45   AIC:                             155.2\n",
              "Df Residuals:                      38   BIC:                             167.8\n",
              "Df Model:                           6                                         \n",
              "Covariance Type:            nonrobust                                         \n",
              "========================================================================================\n",
              "                           coef    std err          t      P>|t|      [0.025      0.975]\n",
              "----------------------------------------------------------------------------------------\n",
              "const                    4.8535      0.188     25.759      0.000       4.472       5.235\n",
              "Share foreign            0.7200      0.667      1.080      0.287      -0.629       2.069\n",
              "Students                -0.1673      0.214     -0.783      0.439      -0.600       0.265\n",
              "Qualified coverage       0.0986      0.197      0.501      0.619      -0.300       0.497\n",
              "Unemployment rate        0.0288      0.215      0.134      0.894      -0.407       0.464\n",
              "Avg household income     0.5697      0.260      2.190      0.035       0.043       1.096\n",
              "Education score          1.2020      0.643      1.869      0.069      -0.100       2.504\n",
              "==============================================================================\n",
              "Omnibus:                        1.399   Durbin-Watson:                   2.249\n",
              "Prob(Omnibus):                  0.497   Jarque-Bera (JB):                0.589\n",
              "Skew:                          -0.030   Prob(JB):                        0.745\n",
              "Kurtosis:                       3.557   Cond. No.                         7.78\n",
              "==============================================================================\n",
              "\n",
              "Warnings:\n",
              "[1] Standard Errors assume that the covariance matrix of the errors is correctly specified.\n",
              "\"\"\""
            ]
          },
          "metadata": {
            "tags": []
          },
          "execution_count": 11
        }
      ]
    },
    {
      "cell_type": "markdown",
      "metadata": {
        "id": "ciHljNp1KrQJ",
        "colab_type": "text"
      },
      "source": [
        "We note that the adjusted R-squared falls slightly between Model 1 and Model 2, and then jumps quite significantly between Model 2 and Model 3 - ending at 0.310, which is acceptable for a problem from the more societal domain. So we feel confident with moving on to the plots."
      ]
    },
    {
      "cell_type": "markdown",
      "metadata": {
        "id": "lu_ZXcXQ7Cwl",
        "colab_type": "text"
      },
      "source": [
        "#4. Genre (Mandatory)"
      ]
    },
    {
      "cell_type": "markdown",
      "metadata": {
        "id": "cKdvXciB19vX",
        "colab_type": "text"
      },
      "source": [
        "\n",
        "\n",
        "###*Which genre of data story did you use?*\n",
        "\n",
        "Our narrative visualization is a mix of ***annotated graphs/maps*** within a ***slideshow format***. Overall, we follow a ***martini glass*** structure where the two linear elements to begin with (scatterplot and regression visualization) followed by a map with a more user directed path.\n",
        "\n",
        "###*Which tools did you use from each of the 3 categories of Visual Narrative (Figure 7 in Segal and Heer). Why?*\n",
        "\n",
        "\n",
        "**Visual structuring:** In the maps of Copenhagen we use a ***consistent visual platform***, where the graphical layout of Copenhagen remains the same, while each feature is given a distinct colouring scheme that represents low/high levels of the given feature. This is done ease transition between features, but also confirm that a change has taken place.<br>\n",
        "<br> \n",
        "**Highlighting:** In the scatterplot we use ***feature distinction*** to show first just the relationship between school performance and share of students with foreign background, then we add average household income through colours and finally education score through size of the dots. By adding features to the same plot, but through distinct ways, we hope to create a feeling of a gradually changing interpretation. From confirming the claim of a strong relationship between school performance and share of students with foreign backgrounds, to a feeling of uncertainty since the added variable also appear to be very correlated with school performance.<br>\n",
        "<br> \n",
        "**Transition guidance:** Here we use ***object continuity***. For example, in the plot of coefficients for share of students with foreign background from all three models, the coefficients within Model 3 are coloured green – while all coefficients in the next plot (showing entire Model 3) are also coloured green. The colours are also used in the accompanying text. If the reader is unfamiliar with linear regression, then it is easy to lose one’s way in this section. So, maintaining some continuity in the use of colours hopefully can help guide the reader through this part.\n",
        "\n",
        "###*Which tools did you use from each of the 3 categories of Narrative Structure (Figure 7 in Segal and Heer). Why?*\n",
        "\n",
        "**Ordering:** The scatterplot and regression coefficient of share foreign visualizations have tabs on them direct the reader along an author driven ***linear path*** much like a slideshow. The visualization with multiple maps (also using tabs) is more reader driven and allows a ***user directed path***, since the maps are do not show anything evolving, but just the distribution of relevant variables across Copenhagen. Using a linear path allows us to communicate a specific message, while the user directed path hopefully engages the reader more and speaks towards his/her curiosity.<br>\n",
        "<br>\n",
        "**Interactivity:** All of our plots have ***hover highlighting*** with details-on-demand. Our plots with tabs (scatterplot, first plot of model regression coefficients and final model of maps) have ***navigation buttons*** that enables moving from tab to tab at the reader own pace. The details-on-demand in for example the maps cater to the different attitudes of readers: some might just want to look at the overall distribution in Copenhagen, while others might want to know the specific levels in a set of school districts.<br>\n",
        "<br>  \n",
        "**Messaging:** Our narrative visualization uses a lot of the elements in this category, but most distinctive would be that the visualizations have an ***accompanying article*** that sets up the intended interpretation of the plots. In this project, we are trying to communicate something very specific and slightly complicated: that it is an oversimplification when media and politicians look at the bivariate relation between share of students with foreign backgrounds and school performance. So, the accompanying article lets us set the stage for the visualizations and comment on what they mean afterwards. Specially the visualizations of linear regression coefficients would be impossible to communicate to a non-technical reader without the accompanying article."
      ]
    },
    {
      "cell_type": "markdown",
      "metadata": {
        "id": "74VAb2QW7G6m",
        "colab_type": "text"
      },
      "source": [
        "#5. Visualizations (Mandatory)"
      ]
    },
    {
      "cell_type": "markdown",
      "metadata": {
        "id": "2cQ21aMk1-FZ",
        "colab_type": "text"
      },
      "source": [
        "\n",
        "## **Scatter plot**<br>\n",
        "### *Explain the visualizations you've chosen.*\n",
        "First the reader is presented with a scatterplot with three tabs. The first tab shows the relationship between share of foreign pupils and the performance of schools. The two other tabs each add another dimension to the plot. Thus, the second tab includes the average household income in the school district on a color scale from light blue to dark blue as lowest to highest. The last tab adds education score as the size of the circles. Moreover, annotations are added to the two latter tabs to draw attention to the point being made. Ultimately, the plot includes 4 dimensions in a simple and universally understandable way.\n",
        "\n",
        "### *Why are they right for the story you want to tell?*\n",
        "The scatter plot is a simple plot that everyone is familiar with and it is clear to see that it appears that the popular opinion is true, i.e. that the two variables are negatively correlated. However, when prompted to browse through the tabs, more information is added to the same plot showing that there are other factors influencing the case. The intended effect is that the viewer will first see the plot and be confirmed in their inherited bias. Each new click should then *wow* the viewer making them receptible for the rest of the narrative. <br> <br>\n",
        "\n",
        "## **Visualizing linear regression models** <br>\n",
        "\n",
        "### *Explain the visualizations you've chosen.*\n",
        "**Coefficients of share foreign in the three models**<br>\n",
        "We wanted to test our belief that share of students from foreign backgrounds actually doesn't explain the performance of the school, if one is to account for more variables than just share of foreign students. Furthermore, we would like to show the result of this test, in a visual way, to our reader. So we ran the three regression models, and extract the coefficients and confidence intervals for share of foreign student from each model.<br>\n",
        "\n",
        "The coefficients of share of foreign students are then plotted together from all three models along with whiskers that indicate the 95-pct. confidence intervals.<br> \n",
        "\n",
        "We hope (and anticipate) that the coefficient will go from being negative and significant to being insignificant. This will show the reader that it is an oversimplification just to look at share of foreign students and school performance, and then infer that schools with higher shares of  student from foreign background perform worse.<br>\n",
        "We place the coefficient of share of students with foreign backgrounds on tabs in the top of the plot, so the reader can \"discover\" the effect of adding varialbes to the model.   \n",
        "\n",
        "**Coefficients of Model 3 (Ethnicity + Institutional + Socio-economic)**<br>\n",
        "The coefficients of all variables in Model 3 are plotted along with whiskers that indicate the 95-pct. confidence intervals.<br> \n",
        "\n",
        "**Fake coefficients of a weight-loss model**<br>\n",
        "We create some fake data about coefficient for a hypothetic weight-loss model and plot the coefficients and 95-pct. confidence intervals in the same way as for Model 3. \n",
        "\n",
        "### *Why are they right for the story you want to tell?*\n",
        "**Coefficients of share foreign in the three models**<br>\n",
        "We want to convince readers that only looking at share of student with foreign backgrounds is an oversimplification, or simply confirm their beliefs. So only plotting the coefficient for share of students with foreign backgrounds lets the reader focus entirely on the effect of that specific variable. Arranging it in tabs, so the reader can be the one who \"discovers\" the truth, should hopefully add a little exitement, but also encode it better in the long term memory of the reader, since they are activated more than simply just looking at the plot. \n",
        "\n",
        "**Coefficients of Model 3 (Ethnicity + Institutional + Socio-economic)**<br>\n",
        "Now that we - hopefully - have convinced the reader that looking only at etnicity is too simple, the reader can dive into a plot of what actually does affect school performance. This plot answers the obvious question which is \"if not ethnicity, then what explains school performance\". So this plot naturally follows the narrative line drawn by the scatter plot which creates uncertainty about the bivariate relationship, then the plot with coefficients of share foreign that disprove the bivariate relationship, and then nuances the understanding of the dynamics behind school performance with variables that better explains it.  \n",
        "\n",
        "**Fake coefficients of a weight-loss model**<br>\n",
        "When explaining the findings in the plots, we felt it was necessary to give the reader a short crash course about linear regression. So this toy-example plot is meant as a visual aid towards that goal.  <br> <br>\n",
        "\n",
        "## **Mapping schooldistricts** <br>\n",
        "### *Explain the visualization you've chosen*<br>\n",
        "Making interactive maps of the school districts in Copenhagen emphasizes a more reader-driven narrative. The reader has the oppurtunity to explore specific districts which is in the interests of the reader.  The variables to be visualized on the maps has from an author-driven perspective been selected deliberately. That means, the reader can only interact with the variables (Share of foreign, Income, education score and performance) which fits the narrative of the project. Maps gives an intuitive representation of spatial data, which in this case is data on the districts (polygons).  The maps also provides the possibility to compare values between the districts and thereby e.g. compare performances of different schools districts. The hover function to present data makes it easy for the reader to locate a district visually and just move the mouse to the specific district. The maps are choropleth maps where the districts are colored in proportion to e.g socioeconomic variables. Choropleth maps makes it easy for the reader to identify school districts that is associated with high (dark colors) or low (bright colors) values of the specific variable.\n",
        "\n",
        "### *Why are they right for the story you want to tell?* <br>\n",
        "The project examines the relation between school performances and socioeconomic variables related to the school district. School districts are geospatial data, and since geospatial data can be represented in a map, they are obvious to be choosen as visualization tool. The maps will stand in contrast to the regression models, which are represented in a \"classical\" coordinate system. To catch the non-technical reader's attention it is important to make use of visualizations that are well known. Although the maps are basically coordinates (longitudes and latitude), we expect the reader to find maps very intuitive to use, as most people use maps in their everyday lives (e.g. GPS in the car).\n",
        "\n",
        "\n",
        "\n"
      ]
    },
    {
      "cell_type": "markdown",
      "metadata": {
        "id": "tSsx-WShQjCa",
        "colab_type": "text"
      },
      "source": [
        "## Scatter plots "
      ]
    },
    {
      "cell_type": "markdown",
      "metadata": {
        "id": "dZxdHnExhtB6",
        "colab_type": "text"
      },
      "source": [
        "\n",
        "\n",
        "In this section, the explorer is guided through some of the main points of the narrative by an invition to interact with a scatterplot to reveal hidden and often not mentioned dependencies to school performance. \n",
        "\n",
        "A selection of scatterplots is made, to enable the explorer to see the relationship between some of the variables against school performance and share of foreigners pr school. \n",
        "\n",
        "Through each of the following three cells, a plot is generated adding a new dimension to it in each cell and all three are displayed together in different tabs in the last cell.\n",
        "\n",
        "The selected variables are 'Avg household income' and 'Education score' as these are expected to be interesting for a broard audience and fit well with the planned narative of the explanatory data analysis."
      ]
    },
    {
      "cell_type": "code",
      "metadata": {
        "id": "y6KhFr4Tk1ey",
        "colab_type": "code",
        "colab": {}
      },
      "source": [
        "palette = brewer['PuBu'][8]\n",
        "palette = palette[::-1] # reverse order of colors so higher values have darker colors\n",
        "\n",
        "radii = 0.01 #Size of initial scatters\n",
        "TOOLS=\"wheel_zoom, zoom_in, zoom_out, box_zoom, pan, reset\"\n",
        "\n",
        "# Defining x and y axes\n",
        "x = 'Share foreign'\n",
        "y = 'Performance'"
      ],
      "execution_count": 0,
      "outputs": []
    },
    {
      "cell_type": "code",
      "metadata": {
        "id": "d4EzQ_Ybhz4p",
        "colab_type": "code",
        "colab": {}
      },
      "source": [
        "radii = 0.01 #Size of scatters\n",
        "\n",
        "p0 = figure(tools=TOOLS)\n",
        "\n",
        "Schools = p0.circle(x, y, radius=radii, fill_alpha=0.6, fill_color=palette[3], line_color='grey', source=source)\n",
        "\n",
        "### Axis labels\n",
        "p0.xaxis.axis_label = \"% of foreigners\"\n",
        "p0.xaxis[0].formatter = NumeralTickFormatter(format=\"0.0%\")\n",
        "p0.yaxis.axis_label = \"School performance\"\n",
        "\n",
        "\n",
        "### Create hover tool ###\n",
        "p0.add_tools(HoverTool(renderers = [Schools],\n",
        "                      tooltips = [('School','@{School name}'),\n",
        "                                  ('Share of foreigners', '@{Share foreign_percent_string}'),\n",
        "                                  ('Performance','@Performance_edit_string')]))\n",
        "\n",
        "p0.xgrid.grid_line_color = None\n",
        "p0.ygrid.grid_line_color = None\n",
        "\n",
        "tabscat0 = Panel(child=p0, title=\"Foreigners vs. School performance\")"
      ],
      "execution_count": 0,
      "outputs": []
    },
    {
      "cell_type": "code",
      "metadata": {
        "id": "tbtPcM4Sh4ET",
        "colab_type": "code",
        "colab": {}
      },
      "source": [
        "z = 'Avg household income'\n",
        "radii = 0.01\n",
        "    \n",
        "p1 = figure(tools=TOOLS)\n",
        "\n",
        "# The value of Avg household income defines the color of data points\n",
        "colors = linear_cmap(field_name=z, palette=palette, low=min(df[z]), high=max(df[z]))\n",
        "\n",
        "color_mapper = LinearColorMapper(palette = palette, low = min(df[z]), high = max(df[z]),nan_color='grey')\n",
        "\n",
        "# Define custom tick labels for color bar.\n",
        "tick_labels = {400000: '400k', 450000: '450k',\n",
        " 500000:'500k', 550000:'550k',\n",
        " 600000:'600k', 650000:'650k',\n",
        " 700000:'700k', 750000:'750k'}\n",
        "\n",
        "# Create color bar.\n",
        "color_bar = ColorBar(color_mapper = color_mapper,\n",
        "                     label_standoff = 8,\n",
        "                     width = 20, height = 550,\n",
        "                     border_line_color = None,\n",
        "                     location = (0,-20),\n",
        "                     orientation = 'vertical',\n",
        "                     major_label_overrides = tick_labels)\n",
        "\n",
        "p1.add_layout(color_bar, 'right')\n",
        "\n",
        "Schools = p1.circle(x, y, radius=radii, fill_alpha=0.75, fill_color=colors, line_color='grey', source=source)\n",
        "\n",
        "### Axis labels\n",
        "p1.xaxis.axis_label = \"% of foreigners\"\n",
        "p1.xaxis[0].formatter = NumeralTickFormatter(format=\"0.0%\")\n",
        "p1.yaxis.axis_label = \"School performance\"\n",
        "\n",
        "\n",
        "### Create hover tool ###\n",
        "p1.add_tools(HoverTool(renderers = [Schools],\n",
        "                      tooltips = [('School','@{School name}'),\n",
        "                                  ('Share of foreigners', '@{Share foreign_percent_string}'),\n",
        "                                  ('Performance', '@Performance_edit_string'),\n",
        "                                  ('Avg household income', '@income_string')]))\n",
        "\n",
        "p1.xgrid.grid_line_color = None\n",
        "p1.ygrid.grid_line_color = None\n",
        "\n",
        "###\n",
        "### add annotation (citations)\n",
        " \n",
        "citation1 = Label(x=0.4, y=7,# x_units='screen', y_units='screen',\n",
        "                 text='Notice any difference?', render_mode='css',\n",
        "                 border_line_color='black', border_line_alpha=0.7,\n",
        "                 background_fill_color='white', background_fill_alpha=10.0, text_font_size='10pt')\n",
        " \n",
        "citation2 = Label(x=0.11, y=8,# x_units='screen', y_units='screen',\n",
        "                 text='Dark', render_mode='css',\n",
        "                 border_line_color='black', border_line_alpha=0.7,\n",
        "                 background_fill_color='white', background_fill_alpha=10.0, text_font_size='10pt')\n",
        " \n",
        "\n",
        "citation3 = Label(x=0.62, y=2.8,# x_units='screen', y_units='screen',\n",
        "                 text='Light', render_mode='css',\n",
        "                 border_line_color='black', border_line_alpha=0.7,\n",
        "                 background_fill_color='white', background_fill_alpha=10.0, text_font_size='10pt')\n",
        " \n",
        "p1.add_layout(citation1)\n",
        "p1.add_layout(citation2)\n",
        "p1.add_layout(citation3)\n",
        "\n",
        "\n",
        " \n",
        "\n",
        "# add arrows\n",
        "p1.add_layout(Arrow(end=NormalHead(size=10,fill_color=\"black\"),\n",
        "                   x_start=0.48, y_start=7.3, x_end=0.17, y_end=7.8))\n",
        "\n",
        "p1.add_layout(Arrow(end=NormalHead(size=10,fill_color=\"black\"),\n",
        "                   x_start=0.5, y_start=7.2, x_end=0.625, y_end=3.7))\n",
        "\n",
        "###\n",
        "\n",
        "tabscat1 = Panel(child=p1, title=\"Add dimension income as color\")"
      ],
      "execution_count": 0,
      "outputs": []
    },
    {
      "cell_type": "code",
      "metadata": {
        "id": "7gnh4zkbh7Fx",
        "colab_type": "code",
        "outputId": "b8079cbc-8195-4f37-fcfb-653b127f968b",
        "colab": {
          "base_uri": "https://localhost:8080/",
          "height": 648
        }
      },
      "source": [
        "w = 'Education score'\n",
        "\n",
        "# Value of Education score defines size of data points\n",
        "radii = 'sizeEdu'\n",
        "\n",
        "p2 = figure(tools=TOOLS)\n",
        "\n",
        "p2.add_layout(color_bar, 'right')\n",
        "\n",
        "# Set autohide to true to only show the toolbar when mouse is over plot\n",
        "#p2.toolbar.autohide = True\n",
        "\n",
        "Schools = p2.circle(x=x, y=y, radius=radii, fill_alpha=0.75, fill_color=colors, line_color='grey', source=source)\n",
        "\n",
        "### Axis labels\n",
        "p2.xaxis.axis_label = \"% of foreigners\"\n",
        "p2.xaxis[0].formatter = NumeralTickFormatter(format=\"0.0%\")\n",
        "p2.yaxis.axis_label = \"School performance\"\n",
        "\n",
        "\n",
        "### Create hover tool ###\n",
        "p2.add_tools(HoverTool(renderers = [Schools],\n",
        "                      tooltips = [('School','@{School name}'),\n",
        "                                  ('Share of foreigners', '@{Share foreign_percent_string}'),\n",
        "                                  ('Performance','@Performance_edit_string'),\n",
        "                                  ('Avg household income', '@{income_string}'),\n",
        "                                  ('Education score','@{Education score_edit_string}')]))\n",
        "        \n",
        "p2.xgrid.grid_line_color = None\n",
        "p2.ygrid.grid_line_color = None\n",
        "\n",
        "\n",
        "###\n",
        "### add annotation (citations)\n",
        " \n",
        "citation1 = Label(x=0.4, y=7,# x_units='screen', y_units='screen',\n",
        "                 text='Notice any difference?', render_mode='css',\n",
        "                 border_line_color='black', border_line_alpha=0.7,\n",
        "                 background_fill_color='white', background_fill_alpha=10.0, text_font_size='10pt')\n",
        " \n",
        "citation2 = Label(x=0.115, y=8.1,# x_units='screen', y_units='screen',\n",
        "                 text='Big', render_mode='css',\n",
        "                 border_line_color='black', border_line_alpha=0.7,\n",
        "                 background_fill_color='white', background_fill_alpha=10.0, text_font_size='10pt')\n",
        " \n",
        "\n",
        "citation3 = Label(x=0.62, y=2.8,# x_units='screen', y_units='screen',\n",
        "                 text='Small', render_mode='css',\n",
        "                 border_line_color='black', border_line_alpha=0.7,\n",
        "                 background_fill_color='white', background_fill_alpha=10.0, text_font_size='10pt')\n",
        " \n",
        "p2.add_layout(citation1)\n",
        "p2.add_layout(citation2)\n",
        "p2.add_layout(citation3)\n",
        " \n",
        "\n",
        "# add arrows\n",
        "p2.add_layout(Arrow(end=NormalHead(size=10,fill_color=\"black\"),\n",
        "                 x_start=0.48, y_start=7.3, x_end=0.17, y_end=7.8))\n",
        "\n",
        "p2.add_layout(Arrow(end=NormalHead(size=10,fill_color=\"black\"),\n",
        "                   x_start=0.5, y_start=7.2, x_end=0.625, y_end=3.7))\n",
        "\n",
        "###\n",
        "\n",
        "tabscat2 = Panel(child=p2, title=\"Add dimension education score as size\")\n",
        "\n",
        "tabscatter = Tabs(tabs=[tabscat0, tabscat1, tabscat2],sizing_mode=\"stretch_width\")\n",
        "\n",
        "show(tabscatter)"
      ],
      "execution_count": 0,
      "outputs": [
        {
          "output_type": "display_data",
          "data": {
            "application/javascript": [
              "\n",
              "(function(root) {\n",
              "  function now() {\n",
              "    return new Date();\n",
              "  }\n",
              "\n",
              "  var force = true;\n",
              "\n",
              "  if (typeof root._bokeh_onload_callbacks === \"undefined\" || force === true) {\n",
              "    root._bokeh_onload_callbacks = [];\n",
              "    root._bokeh_is_loading = undefined;\n",
              "  }\n",
              "\n",
              "  var JS_MIME_TYPE = 'application/javascript';\n",
              "  var HTML_MIME_TYPE = 'text/html';\n",
              "  var EXEC_MIME_TYPE = 'application/vnd.bokehjs_exec.v0+json';\n",
              "  var CLASS_NAME = 'output_bokeh rendered_html';\n",
              "\n",
              "  /**\n",
              "   * Render data to the DOM node\n",
              "   */\n",
              "  function render(props, node) {\n",
              "    var script = document.createElement(\"script\");\n",
              "    node.appendChild(script);\n",
              "  }\n",
              "\n",
              "  /**\n",
              "   * Handle when an output is cleared or removed\n",
              "   */\n",
              "  function handleClearOutput(event, handle) {\n",
              "    var cell = handle.cell;\n",
              "\n",
              "    var id = cell.output_area._bokeh_element_id;\n",
              "    var server_id = cell.output_area._bokeh_server_id;\n",
              "    // Clean up Bokeh references\n",
              "    if (id != null && id in Bokeh.index) {\n",
              "      Bokeh.index[id].model.document.clear();\n",
              "      delete Bokeh.index[id];\n",
              "    }\n",
              "\n",
              "    if (server_id !== undefined) {\n",
              "      // Clean up Bokeh references\n",
              "      var cmd = \"from bokeh.io.state import curstate; print(curstate().uuid_to_server['\" + server_id + \"'].get_sessions()[0].document.roots[0]._id)\";\n",
              "      cell.notebook.kernel.execute(cmd, {\n",
              "        iopub: {\n",
              "          output: function(msg) {\n",
              "            var id = msg.content.text.trim();\n",
              "            if (id in Bokeh.index) {\n",
              "              Bokeh.index[id].model.document.clear();\n",
              "              delete Bokeh.index[id];\n",
              "            }\n",
              "          }\n",
              "        }\n",
              "      });\n",
              "      // Destroy server and session\n",
              "      var cmd = \"import bokeh.io.notebook as ion; ion.destroy_server('\" + server_id + \"')\";\n",
              "      cell.notebook.kernel.execute(cmd);\n",
              "    }\n",
              "  }\n",
              "\n",
              "  /**\n",
              "   * Handle when a new output is added\n",
              "   */\n",
              "  function handleAddOutput(event, handle) {\n",
              "    var output_area = handle.output_area;\n",
              "    var output = handle.output;\n",
              "\n",
              "    // limit handleAddOutput to display_data with EXEC_MIME_TYPE content only\n",
              "    if ((output.output_type != \"display_data\") || (!output.data.hasOwnProperty(EXEC_MIME_TYPE))) {\n",
              "      return\n",
              "    }\n",
              "\n",
              "    var toinsert = output_area.element.find(\".\" + CLASS_NAME.split(' ')[0]);\n",
              "\n",
              "    if (output.metadata[EXEC_MIME_TYPE][\"id\"] !== undefined) {\n",
              "      toinsert[toinsert.length - 1].firstChild.textContent = output.data[JS_MIME_TYPE];\n",
              "      // store reference to embed id on output_area\n",
              "      output_area._bokeh_element_id = output.metadata[EXEC_MIME_TYPE][\"id\"];\n",
              "    }\n",
              "    if (output.metadata[EXEC_MIME_TYPE][\"server_id\"] !== undefined) {\n",
              "      var bk_div = document.createElement(\"div\");\n",
              "      bk_div.innerHTML = output.data[HTML_MIME_TYPE];\n",
              "      var script_attrs = bk_div.children[0].attributes;\n",
              "      for (var i = 0; i < script_attrs.length; i++) {\n",
              "        toinsert[toinsert.length - 1].firstChild.setAttribute(script_attrs[i].name, script_attrs[i].value);\n",
              "      }\n",
              "      // store reference to server id on output_area\n",
              "      output_area._bokeh_server_id = output.metadata[EXEC_MIME_TYPE][\"server_id\"];\n",
              "    }\n",
              "  }\n",
              "\n",
              "  function register_renderer(events, OutputArea) {\n",
              "\n",
              "    function append_mime(data, metadata, element) {\n",
              "      // create a DOM node to render to\n",
              "      var toinsert = this.create_output_subarea(\n",
              "        metadata,\n",
              "        CLASS_NAME,\n",
              "        EXEC_MIME_TYPE\n",
              "      );\n",
              "      this.keyboard_manager.register_events(toinsert);\n",
              "      // Render to node\n",
              "      var props = {data: data, metadata: metadata[EXEC_MIME_TYPE]};\n",
              "      render(props, toinsert[toinsert.length - 1]);\n",
              "      element.append(toinsert);\n",
              "      return toinsert\n",
              "    }\n",
              "\n",
              "    /* Handle when an output is cleared or removed */\n",
              "    events.on('clear_output.CodeCell', handleClearOutput);\n",
              "    events.on('delete.Cell', handleClearOutput);\n",
              "\n",
              "    /* Handle when a new output is added */\n",
              "    events.on('output_added.OutputArea', handleAddOutput);\n",
              "\n",
              "    /**\n",
              "     * Register the mime type and append_mime function with output_area\n",
              "     */\n",
              "    OutputArea.prototype.register_mime_type(EXEC_MIME_TYPE, append_mime, {\n",
              "      /* Is output safe? */\n",
              "      safe: true,\n",
              "      /* Index of renderer in `output_area.display_order` */\n",
              "      index: 0\n",
              "    });\n",
              "  }\n",
              "\n",
              "  // register the mime type if in Jupyter Notebook environment and previously unregistered\n",
              "  if (root.Jupyter !== undefined) {\n",
              "    var events = require('base/js/events');\n",
              "    var OutputArea = require('notebook/js/outputarea').OutputArea;\n",
              "\n",
              "    if (OutputArea.prototype.mime_types().indexOf(EXEC_MIME_TYPE) == -1) {\n",
              "      register_renderer(events, OutputArea);\n",
              "    }\n",
              "  }\n",
              "\n",
              "  \n",
              "  if (typeof (root._bokeh_timeout) === \"undefined\" || force === true) {\n",
              "    root._bokeh_timeout = Date.now() + 5000;\n",
              "    root._bokeh_failed_load = false;\n",
              "  }\n",
              "\n",
              "  var NB_LOAD_WARNING = {'data': {'text/html':\n",
              "     \"<div style='background-color: #fdd'>\\n\"+\n",
              "     \"<p>\\n\"+\n",
              "     \"BokehJS does not appear to have successfully loaded. If loading BokehJS from CDN, this \\n\"+\n",
              "     \"may be due to a slow or bad network connection. Possible fixes:\\n\"+\n",
              "     \"</p>\\n\"+\n",
              "     \"<ul>\\n\"+\n",
              "     \"<li>re-rerun `output_notebook()` to attempt to load from CDN again, or</li>\\n\"+\n",
              "     \"<li>use INLINE resources instead, as so:</li>\\n\"+\n",
              "     \"</ul>\\n\"+\n",
              "     \"<code>\\n\"+\n",
              "     \"from bokeh.resources import INLINE\\n\"+\n",
              "     \"output_notebook(resources=INLINE)\\n\"+\n",
              "     \"</code>\\n\"+\n",
              "     \"</div>\"}};\n",
              "\n",
              "  function display_loaded() {\n",
              "    var el = document.getElementById(null);\n",
              "    if (el != null) {\n",
              "      el.textContent = \"BokehJS is loading...\";\n",
              "    }\n",
              "    if (root.Bokeh !== undefined) {\n",
              "      if (el != null) {\n",
              "        el.textContent = \"BokehJS \" + root.Bokeh.version + \" successfully loaded.\";\n",
              "      }\n",
              "    } else if (Date.now() < root._bokeh_timeout) {\n",
              "      setTimeout(display_loaded, 100)\n",
              "    }\n",
              "  }\n",
              "\n",
              "\n",
              "  function run_callbacks() {\n",
              "    try {\n",
              "      root._bokeh_onload_callbacks.forEach(function(callback) {\n",
              "        if (callback != null)\n",
              "          callback();\n",
              "      });\n",
              "    } finally {\n",
              "      delete root._bokeh_onload_callbacks\n",
              "    }\n",
              "    console.debug(\"Bokeh: all callbacks have finished\");\n",
              "  }\n",
              "\n",
              "  function load_libs(css_urls, js_urls, callback) {\n",
              "    if (css_urls == null) css_urls = [];\n",
              "    if (js_urls == null) js_urls = [];\n",
              "\n",
              "    root._bokeh_onload_callbacks.push(callback);\n",
              "    if (root._bokeh_is_loading > 0) {\n",
              "      console.debug(\"Bokeh: BokehJS is being loaded, scheduling callback at\", now());\n",
              "      return null;\n",
              "    }\n",
              "    if (js_urls == null || js_urls.length === 0) {\n",
              "      run_callbacks();\n",
              "      return null;\n",
              "    }\n",
              "    console.debug(\"Bokeh: BokehJS not loaded, scheduling load and callback at\", now());\n",
              "    root._bokeh_is_loading = css_urls.length + js_urls.length;\n",
              "\n",
              "    function on_load() {\n",
              "      root._bokeh_is_loading--;\n",
              "      if (root._bokeh_is_loading === 0) {\n",
              "        console.debug(\"Bokeh: all BokehJS libraries/stylesheets loaded\");\n",
              "        run_callbacks()\n",
              "      }\n",
              "    }\n",
              "\n",
              "    function on_error() {\n",
              "      console.error(\"failed to load \" + url);\n",
              "    }\n",
              "\n",
              "    for (var i = 0; i < css_urls.length; i++) {\n",
              "      var url = css_urls[i];\n",
              "      const element = document.createElement(\"link\");\n",
              "      element.onload = on_load;\n",
              "      element.onerror = on_error;\n",
              "      element.rel = \"stylesheet\";\n",
              "      element.type = \"text/css\";\n",
              "      element.href = url;\n",
              "      console.debug(\"Bokeh: injecting link tag for BokehJS stylesheet: \", url);\n",
              "      document.body.appendChild(element);\n",
              "    }\n",
              "\n",
              "    for (var i = 0; i < js_urls.length; i++) {\n",
              "      var url = js_urls[i];\n",
              "      var element = document.createElement('script');\n",
              "      element.onload = on_load;\n",
              "      element.onerror = on_error;\n",
              "      element.async = false;\n",
              "      element.src = url;\n",
              "      console.debug(\"Bokeh: injecting script tag for BokehJS library: \", url);\n",
              "      document.head.appendChild(element);\n",
              "    }\n",
              "  };\n",
              "\n",
              "  function inject_raw_css(css) {\n",
              "    const element = document.createElement(\"style\");\n",
              "    element.appendChild(document.createTextNode(css));\n",
              "    document.body.appendChild(element);\n",
              "  }\n",
              "\n",
              "  \n",
              "  var js_urls = [\"https://cdn.pydata.org/bokeh/release/bokeh-1.4.0.min.js\", \"https://cdn.pydata.org/bokeh/release/bokeh-widgets-1.4.0.min.js\", \"https://cdn.pydata.org/bokeh/release/bokeh-tables-1.4.0.min.js\", \"https://cdn.pydata.org/bokeh/release/bokeh-gl-1.4.0.min.js\"];\n",
              "  var css_urls = [];\n",
              "  \n",
              "\n",
              "  var inline_js = [\n",
              "    function(Bokeh) {\n",
              "      Bokeh.set_log_level(\"info\");\n",
              "    },\n",
              "    function(Bokeh) {\n",
              "    \n",
              "    \n",
              "    }\n",
              "  ];\n",
              "\n",
              "  function run_inline_js() {\n",
              "    \n",
              "    if (root.Bokeh !== undefined || force === true) {\n",
              "      \n",
              "    for (var i = 0; i < inline_js.length; i++) {\n",
              "      inline_js[i].call(root, root.Bokeh);\n",
              "    }\n",
              "    } else if (Date.now() < root._bokeh_timeout) {\n",
              "      setTimeout(run_inline_js, 100);\n",
              "    } else if (!root._bokeh_failed_load) {\n",
              "      console.log(\"Bokeh: BokehJS failed to load within specified timeout.\");\n",
              "      root._bokeh_failed_load = true;\n",
              "    } else if (force !== true) {\n",
              "      var cell = $(document.getElementById(null)).parents('.cell').data().cell;\n",
              "      cell.output_area.append_execute_result(NB_LOAD_WARNING)\n",
              "    }\n",
              "\n",
              "  }\n",
              "\n",
              "  if (root._bokeh_is_loading === 0) {\n",
              "    console.debug(\"Bokeh: BokehJS loaded, going straight to plotting\");\n",
              "    run_inline_js();\n",
              "  } else {\n",
              "    load_libs(css_urls, js_urls, function() {\n",
              "      console.debug(\"Bokeh: BokehJS plotting callback run at\", now());\n",
              "      run_inline_js();\n",
              "    });\n",
              "  }\n",
              "}(window));"
            ],
            "application/vnd.bokehjs_load.v0+json": "\n(function(root) {\n  function now() {\n    return new Date();\n  }\n\n  var force = true;\n\n  if (typeof root._bokeh_onload_callbacks === \"undefined\" || force === true) {\n    root._bokeh_onload_callbacks = [];\n    root._bokeh_is_loading = undefined;\n  }\n\n  \n\n  \n  if (typeof (root._bokeh_timeout) === \"undefined\" || force === true) {\n    root._bokeh_timeout = Date.now() + 5000;\n    root._bokeh_failed_load = false;\n  }\n\n  var NB_LOAD_WARNING = {'data': {'text/html':\n     \"<div style='background-color: #fdd'>\\n\"+\n     \"<p>\\n\"+\n     \"BokehJS does not appear to have successfully loaded. If loading BokehJS from CDN, this \\n\"+\n     \"may be due to a slow or bad network connection. Possible fixes:\\n\"+\n     \"</p>\\n\"+\n     \"<ul>\\n\"+\n     \"<li>re-rerun `output_notebook()` to attempt to load from CDN again, or</li>\\n\"+\n     \"<li>use INLINE resources instead, as so:</li>\\n\"+\n     \"</ul>\\n\"+\n     \"<code>\\n\"+\n     \"from bokeh.resources import INLINE\\n\"+\n     \"output_notebook(resources=INLINE)\\n\"+\n     \"</code>\\n\"+\n     \"</div>\"}};\n\n  function display_loaded() {\n    var el = document.getElementById(null);\n    if (el != null) {\n      el.textContent = \"BokehJS is loading...\";\n    }\n    if (root.Bokeh !== undefined) {\n      if (el != null) {\n        el.textContent = \"BokehJS \" + root.Bokeh.version + \" successfully loaded.\";\n      }\n    } else if (Date.now() < root._bokeh_timeout) {\n      setTimeout(display_loaded, 100)\n    }\n  }\n\n\n  function run_callbacks() {\n    try {\n      root._bokeh_onload_callbacks.forEach(function(callback) {\n        if (callback != null)\n          callback();\n      });\n    } finally {\n      delete root._bokeh_onload_callbacks\n    }\n    console.debug(\"Bokeh: all callbacks have finished\");\n  }\n\n  function load_libs(css_urls, js_urls, callback) {\n    if (css_urls == null) css_urls = [];\n    if (js_urls == null) js_urls = [];\n\n    root._bokeh_onload_callbacks.push(callback);\n    if (root._bokeh_is_loading > 0) {\n      console.debug(\"Bokeh: BokehJS is being loaded, scheduling callback at\", now());\n      return null;\n    }\n    if (js_urls == null || js_urls.length === 0) {\n      run_callbacks();\n      return null;\n    }\n    console.debug(\"Bokeh: BokehJS not loaded, scheduling load and callback at\", now());\n    root._bokeh_is_loading = css_urls.length + js_urls.length;\n\n    function on_load() {\n      root._bokeh_is_loading--;\n      if (root._bokeh_is_loading === 0) {\n        console.debug(\"Bokeh: all BokehJS libraries/stylesheets loaded\");\n        run_callbacks()\n      }\n    }\n\n    function on_error() {\n      console.error(\"failed to load \" + url);\n    }\n\n    for (var i = 0; i < css_urls.length; i++) {\n      var url = css_urls[i];\n      const element = document.createElement(\"link\");\n      element.onload = on_load;\n      element.onerror = on_error;\n      element.rel = \"stylesheet\";\n      element.type = \"text/css\";\n      element.href = url;\n      console.debug(\"Bokeh: injecting link tag for BokehJS stylesheet: \", url);\n      document.body.appendChild(element);\n    }\n\n    for (var i = 0; i < js_urls.length; i++) {\n      var url = js_urls[i];\n      var element = document.createElement('script');\n      element.onload = on_load;\n      element.onerror = on_error;\n      element.async = false;\n      element.src = url;\n      console.debug(\"Bokeh: injecting script tag for BokehJS library: \", url);\n      document.head.appendChild(element);\n    }\n  };\n\n  function inject_raw_css(css) {\n    const element = document.createElement(\"style\");\n    element.appendChild(document.createTextNode(css));\n    document.body.appendChild(element);\n  }\n\n  \n  var js_urls = [\"https://cdn.pydata.org/bokeh/release/bokeh-1.4.0.min.js\", \"https://cdn.pydata.org/bokeh/release/bokeh-widgets-1.4.0.min.js\", \"https://cdn.pydata.org/bokeh/release/bokeh-tables-1.4.0.min.js\", \"https://cdn.pydata.org/bokeh/release/bokeh-gl-1.4.0.min.js\"];\n  var css_urls = [];\n  \n\n  var inline_js = [\n    function(Bokeh) {\n      Bokeh.set_log_level(\"info\");\n    },\n    function(Bokeh) {\n    \n    \n    }\n  ];\n\n  function run_inline_js() {\n    \n    if (root.Bokeh !== undefined || force === true) {\n      \n    for (var i = 0; i < inline_js.length; i++) {\n      inline_js[i].call(root, root.Bokeh);\n    }\n    } else if (Date.now() < root._bokeh_timeout) {\n      setTimeout(run_inline_js, 100);\n    } else if (!root._bokeh_failed_load) {\n      console.log(\"Bokeh: BokehJS failed to load within specified timeout.\");\n      root._bokeh_failed_load = true;\n    } else if (force !== true) {\n      var cell = $(document.getElementById(null)).parents('.cell').data().cell;\n      cell.output_area.append_execute_result(NB_LOAD_WARNING)\n    }\n\n  }\n\n  if (root._bokeh_is_loading === 0) {\n    console.debug(\"Bokeh: BokehJS loaded, going straight to plotting\");\n    run_inline_js();\n  } else {\n    load_libs(css_urls, js_urls, function() {\n      console.debug(\"Bokeh: BokehJS plotting callback run at\", now());\n      run_inline_js();\n    });\n  }\n}(window));"
          },
          "metadata": {
            "tags": []
          }
        },
        {
          "output_type": "display_data",
          "data": {
            "text/html": [
              "\n",
              "\n",
              "\n",
              "\n",
              "\n",
              "\n",
              "  <div class=\"bk-root\" id=\"08f37322-923f-4987-8b80-6ee2d9068edd\" data-root-id=\"9876\"></div>\n"
            ]
          },
          "metadata": {
            "tags": []
          }
        },
        {
          "output_type": "display_data",
          "data": {
            "application/javascript": [
              "(function(root) {\n",
              "  function embed_document(root) {\n",
              "    \n",
              "  var docs_json = {\"4d16759d-702d-451a-8d63-069a1a37f30c\":{\"roots\":{\"references\":[{\"attributes\":{\"callback\":null,\"sizing_mode\":\"stretch_width\",\"tabs\":[{\"id\":\"1043\",\"type\":\"Panel\"},{\"id\":\"7579\",\"type\":\"Panel\"},{\"id\":\"9875\",\"type\":\"Panel\"}]},\"id\":\"9876\",\"type\":\"Tabs\"},{\"attributes\":{\"format\":\"0.0%\"},\"id\":\"7566\",\"type\":\"NumeralTickFormatter\"},{\"attributes\":{\"callback\":null,\"renderers\":[{\"id\":\"7564\",\"type\":\"GlyphRenderer\"}],\"tooltips\":[[\"School\",\"@{School name}\"],[\"Share of foreigners\",\"@{Share foreign_percent_string}\"],[\"Performance\",\"@Performance_edit_string\"],[\"Avg household income\",\"@income_string\"]]},\"id\":\"7568\",\"type\":\"HoverTool\"},{\"attributes\":{\"background_fill_alpha\":{\"value\":10.0},\"background_fill_color\":{\"value\":\"white\"},\"border_line_alpha\":{\"value\":0.7},\"border_line_color\":{\"value\":\"black\"},\"render_mode\":\"css\",\"text\":\"Dark\",\"text_font_size\":{\"value\":\"10pt\"},\"x\":0.11,\"y\":8},\"id\":\"7571\",\"type\":\"Label\"},{\"attributes\":{\"background_fill_alpha\":{\"value\":10.0},\"background_fill_color\":{\"value\":\"white\"},\"border_line_alpha\":{\"value\":0.7},\"border_line_color\":{\"value\":\"black\"},\"render_mode\":\"css\",\"text\":\"Light\",\"text_font_size\":{\"value\":\"10pt\"},\"x\":0.62,\"y\":2.8},\"id\":\"7572\",\"type\":\"Label\"},{\"attributes\":{\"size\":10},\"id\":\"7573\",\"type\":\"NormalHead\"},{\"attributes\":{\"size\":10},\"id\":\"7576\",\"type\":\"NormalHead\"},{\"attributes\":{\"end\":{\"id\":\"7573\",\"type\":\"NormalHead\"},\"source\":null,\"start\":null,\"x_end\":{\"value\":0.17},\"x_start\":{\"value\":0.48},\"y_end\":{\"value\":7.8},\"y_start\":{\"value\":7.3}},\"id\":\"7574\",\"type\":\"Arrow\"},{\"attributes\":{\"callback\":null},\"id\":\"9826\",\"type\":\"DataRange1d\"},{\"attributes\":{\"child\":{\"id\":\"7526\",\"subtype\":\"Figure\",\"type\":\"Plot\"},\"title\":\"Add dimension income as color\"},\"id\":\"7579\",\"type\":\"Panel\"},{\"attributes\":{},\"id\":\"7531\",\"type\":\"LinearScale\"},{\"attributes\":{\"end\":{\"id\":\"7576\",\"type\":\"NormalHead\"},\"source\":null,\"start\":null,\"x_end\":{\"value\":0.625},\"x_start\":{\"value\":0.5},\"y_end\":{\"value\":3.7},\"y_start\":{\"value\":7.2}},\"id\":\"7577\",\"type\":\"Arrow\"},{\"attributes\":{},\"id\":\"9832\",\"type\":\"LinearScale\"},{\"attributes\":{},\"id\":\"1007\",\"type\":\"LinearScale\"},{\"attributes\":{\"below\":[{\"id\":\"1011\",\"type\":\"LinearAxis\"}],\"center\":[{\"id\":\"1015\",\"type\":\"Grid\"},{\"id\":\"1020\",\"type\":\"Grid\"}],\"left\":[{\"id\":\"1016\",\"type\":\"LinearAxis\"}],\"renderers\":[{\"id\":\"1037\",\"type\":\"GlyphRenderer\"}],\"title\":{\"id\":\"1146\",\"type\":\"Title\"},\"toolbar\":{\"id\":\"1027\",\"type\":\"Toolbar\"},\"x_range\":{\"id\":\"1003\",\"type\":\"DataRange1d\"},\"x_scale\":{\"id\":\"1007\",\"type\":\"LinearScale\"},\"y_range\":{\"id\":\"1005\",\"type\":\"DataRange1d\"},\"y_scale\":{\"id\":\"1009\",\"type\":\"LinearScale\"}},\"id\":\"1002\",\"subtype\":\"Figure\",\"type\":\"Plot\"},{\"attributes\":{\"callback\":null,\"data\":{\"Avg household income\":[642261,750569,631753,431108,469857,484097,580960,382152,546314,503348,571628,473045,499075,385089,444321,391085,426058,567820,613734,493368,681775,399544,497778,501071,547846,435567,482637,521481,482598,458120,498779,498779,530810,456708,459185,483595,489329,529014,459010,541876,472478,478835,651048,626556,461013,488042,501628,625514,522545,480891,420427,513975,571329,636528,472133,505844,624113],\"Avg well-being\":{\"__ndarray__\":\"KgUXI0/zxL9PIYvk0LH0P4MpM7R+6ue/fKKrFPLm9D89BGYTG1sAwNU2x/xvUOq/nEKFWopv7L8FP9pVbovzvycRxEIAyvE/49zrt5K12r8NSi0+HYf1v7au1zJjaNK/nM5hglENwT/d+VS/NH+Vv5PXhQXUsdm/PtGkXO0M5T8qGB8lYkXIvw/L1a4ce9e/RRVXQe7mx78exW2CBOLiP/ULaTjUkO8/NQQ7oqEu7j/pBfmaL43hv+k075c/dNY/dESDa++jA0Dj3Ou3krXav98CTcWB/+C/J+EqFVV1rL+QviPeC6/hP1Qi55UsItM/uStn3u8V8L/yA+2WTE8AwM8ts/qpKdU/EINF4/klAMBIKF9DATnLv40PdpgHQuO/DRiHY8cI8z+lfEXhYXGwv3WOS8p3hb8/eMgaFV869b+CYwMdb8HeP+QvfJvKUvc/imTnDqnw3j+5v8Rsg8kCQMwK9NeCbeK/8Em7iRP6sj8MsDPkvtjwv/zB0S0T0tW/AAAAAAAA+H8AAAAAAAD4fwAAAAAAAPh/AAAAAAAA+H8p3lPiEpr/PxfB3bocJeI/erjNrAkp1L9fAXfaqrjgv0MJHTD/W/A/\",\"dtype\":\"float64\",\"shape\":[57]},\"DistriktID\":{\"__ndarray__\":\"AAAAAAAA8D8AAAAAAMBZQAAAAAAAABhAAAAAAAAASEAAAAAAAIBHQAAAAAAAADpAAAAAAACAT0AAAAAAAABGQAAAAAAAgE5AAAAAAAAAOEAAAAAAAAA2QAAAAAAAgERAAAAAAACARkAAAAAAAIBFQAAAAAAAADxAAAAAAAAAR0AAAAAAACBgQAAAAAAAgEhAAAAAAAAACEAAAAAAAIBDQAAAAAAAAENAAAAAAAAAIEAAAAAAAIBAQAAAAAAAAD9AAAAAAAAAQkAAAAAAAABBQAAAAAAAgElAAAAAAAAAPkAAAAAAAABVQAAAAAAAQFFAAAAAAACAU0AAAAAAAABRQAAAAAAAADNAAAAAAAAAMEAAAAAAAAAyQAAAAAAAACxAAAAAAAAALkAAAAAAAAAxQAAAAAAAABBAAAAAAAAAAEAAAAAAAMBaQAAAAAAAAEpAAAAAAABAW0AAAAAAAABMQAAAAAAAADtAAAAAAADAUkAAAAAAAEBTQAAAAAAAIGVAAAAAAAAA+H8AAAAAAAD4fwAAAAAAAPh/AAAAAAAA+H8AAAAAAIBBQAAAAAAA4GZAAAAAAABAVUAAAAAAAKBiQAAAAAAAAEtA\",\"dtype\":\"float64\",\"shape\":[57]},\"Education score\":{\"__ndarray__\":\"ZmZmZmZmGkBmZmZmZmYYQDMzMzMzMxtAAAAAAAAAFkCamZmZmZkVQJqZmZmZmRVAzczMzMzMGEBmZmZmZmYSQGZmZmZmZhZAAAAAAAAAGkAzMzMzMzMZQGZmZmZmZhRAAAAAAAAAFkAzMzMzMzMPQGZmZmZmZhZAMzMzMzMzFUDNzMzMzMwYQJqZmZmZmRlAZmZmZmZmGEDNzMzMzMwWQDMzMzMzMxtAAAAAAAAAFECamZmZmZkZQDMzMzMzMxVAZmZmZmZmGECamZmZmZkVQGZmZmZmZhZAzczMzMzMEkCamZmZmZkTQGZmZmZmZhBAAAAAAAAAGkAAAAAAAAAaQDMzMzMzMxtAAAAAAAAAEkBmZmZmZmYSQM3MzMzMzBZAmpmZmZmZFUDNzMzMzMwWQJqZmZmZmRNAZmZmZmZmFEAAAAAAAAAaQGZmZmZmZhZAMzMzMzMzG0AzMzMzMzMbQM3MzMzMzBZAAAAAAAAAGEDNzMzMzMwaQJqZmZmZmRdAAAAAAAAA+H8AAAAAAAD4fwAAAAAAAPh/AAAAAAAA+H/NzMzMzMwaQAAAAAAAABpAzczMzMzMGECamZmZmZkZQDMzMzMzMxlA\",\"dtype\":\"float64\",\"shape\":[57]},\"Education score_edit_string\":[\"6.6\",\"6.1\",\"6.8\",\"5.5\",\"5.4\",\"5.4\",\"6.2\",\"4.6\",\"5.6\",\"6.5\",\"6.3\",\"5.1\",\"5.5\",\"3.9\",\"5.6\",\"5.3\",\"6.2\",\"6.4\",\"6.1\",\"5.7\",\"6.8\",\"5.0\",\"6.4\",\"5.3\",\"6.1\",\"5.4\",\"5.6\",\"4.7\",\"4.9\",\"4.1\",\"6.5\",\"6.5\",\"6.8\",\"4.5\",\"4.6\",\"5.7\",\"5.4\",\"5.7\",\"4.9\",\"5.1\",\"6.5\",\"5.6\",\"6.8\",\"6.8\",\"5.7\",\"6.0\",\"6.7\",\"5.9\",\"NAN\",\"NAN\",\"NAN\",\"NAN\",\"6.7\",\"6.5\",\"6.2\",\"6.4\",\"6.3\"],\"Home page\":[\"http://www.dcl.kk.dk\",\"http://www.nyboderskole.kk.dk\",\"http://www.soel.kk.dk\",\"http://www.nps.kk.dk\",\"http://www.blg.kk.dk\",\"http://www.bellahoej.kk.dk\",\"http://www.brh.kk.dk\",\"http://www.gvs.kk.dk\",\"http://www.husumskole.kk.dk\",\"http://www.katrinedalsskole.kk.dk\",\"http://www.kirkebjergskole.kk.dk\",\"http://www.korsagerskole.kk.dk\",\"http://www.roed.kk.dk\",\"http://www.tgb.kk.dk\",\"http://www.holbergskolen.kk.dk\",\"http://www.raadmandsgadesskole.kk.dk\",\"http://www.guldbergskole.kk.dk\",\"http://www.rg.kk.dk\",\"http://www.strandvejsskolen.kk.dk\",\"http://www.vi.kk.dk\",\"http://www.oef.kk.dk\",\"http://www.klo.kk.dk\",\"http://www.chr.kk.dk\",\"http://www.dyveke.kk.dk\",\"http://www.gerbrandskolen.kk.dk\",\"http://www.sundbyoesterskole.kk.dk\",\"http://www.lps.kk.dk\",\"http://www.pederlykkeskolen.kk.dk\",\"http://www.bav.kk.dk\",\"http://www.ellebjergskole.kk.dk\",\"http://www.tds.kk.dk\",\"http://www.oeh.kk.dk\",\"http://www.hanssted.kk.dk\",\"http://www.kir.kk.dk\",\"http://www.lykkeboskole.kk.dk\",\"http://www.valbyskole.kk.dk\",\"http://www.vas.kk.dk\",\"http://www.aalholmskole.kk.dk\",\"http://www.lundehus.kk.dk\",\"http://www.kildevaeld.kk.dk\",\"http://www.sortedamskolen.kk.dk\",\"http://www.afs.kk.dk\",\"http://www.langelinieskolen.kk.dk\",\"http://www.heibergskolen.kk.dk\",\"http://www.utterslevskole.kk.dk\",\"http://www.vesterbronyskole.kk.dk\",\"http://www.gas.kk.dk\",\"http://www.oerestadskole.kk.dk\",\"http://www.hyltebjergskole.kk.dk\",\"http://www.soenderbroskole.kk.dk\",\"http://www.tingbjergskole.kk.dk\",\"http://www.van.kk.dk\",\"NaN\",\"NaN\",\"NaN\",\"NaN\",\"NaN\"],\"Performance\":{\"__ndarray__\":\"AAAAAAAAGkAzMzMzMzMfQM3MzMzMzBRAAAAAAAAAFkCamZmZmZnpPwAAAAAAABBAzczMzMzMEEAAAAAAAAAIQGZmZmZmZhhAmpmZmZmZF0DNzMzMzMwSQDMzMzMzMw9AMzMzMzMzE0AzMzMzMzMLQJqZmZmZmRFAMzMzMzMzD0AzMzMzMzMRQJqZmZmZmRVAmpmZmZmZE0DNzMzMzMwWQAAAAAAAABxAzczMzMzMGEAAAAAAAAAWQAAAAAAAAPh/AAAAAAAA+H8AAAAAAAD4f5qZmZmZmRFAzczMzMzMEEAzMzMzMzMTQAAAAAAAABJAAAAAAAAADEAzMzMzMzMLQM3MzMzMzBhAAAAAAAAAAEBmZmZmZmYOQGZmZmZmZgpAzczMzMzMFkBmZmZmZmYQQDMzMzMzMw9AAAAAAAAACEBmZmZmZmYYQGZmZmZmZhhAzczMzMzMGkAAAAAAAAAjQGZmZmZmZg5AzczMzMzMFkDNzMzMzMwUQGZmZmZmZhRAAAAAAAAA+H8AAAAAAAD4fwAAAAAAAPh/AAAAAAAA+H+amZmZmZkhQAAAAAAAABpAAAAAAAAA+H+amZmZmZkJQAAAAAAAAPh/\",\"dtype\":\"float64\",\"shape\":[57]},\"Performance_edit_string\":[\"6.5\",\"7.8\",\"5.2\",\"5.5\",\"0.8\",\"4.0\",\"4.2\",\"3.0\",\"6.1\",\"5.9\",\"4.7\",\"3.9\",\"4.8\",\"3.4\",\"4.4\",\"3.9\",\"4.3\",\"5.4\",\"4.9\",\"5.7\",\"7.0\",\"6.2\",\"5.5\",\"NAN\",\"NAN\",\"NAN\",\"4.4\",\"4.2\",\"4.8\",\"4.5\",\"3.5\",\"3.4\",\"6.2\",\"2.0\",\"3.8\",\"3.3\",\"5.7\",\"4.1\",\"3.9\",\"3.0\",\"6.1\",\"6.1\",\"6.7\",\"9.5\",\"3.8\",\"5.7\",\"5.2\",\"5.1\",\"NAN\",\"NAN\",\"NAN\",\"NAN\",\"8.8\",\"6.5\",\"NAN\",\"3.2\",\"NAN\"],\"Qualified coverage\":{\"__ndarray__\":\"nYAmwoan6z8eFmpN847rP7snDwu1pus/K4cW2c736T++wRcmUwXrP13cRgN4C+o/at5xio7k7D9gdk8eFmrtP1JJnYAmwuo/x0s3iUFg6z9os+pztRXtPxueXinLEOs/c9cS8kHP6j/DZKpgVFLtPyo6kst/SOs/V+wvuycP6z/dJAaBlUPrP7ByaJHtfO0/9pfdk4eF7D8cfGEyVTDsP/2H9NvXge0/zhlR2ht86z+zDHGsi9vsP921hHzQs+s/EHo2qz5X6z9nRGlv8IXrPz81XrpJDOw/H/RsVn2u6j+IFtnO91PrP/W52or9Zes/idLe4AuT6z9R2ht8YTLpP+LplbIMcew/l/+Qfvs67D86I0p7gy/uPxfZzvdT4+s/SS7/If326z/T3uALk6nqP03zjlN0JOk/JuSDns2q6z+1FfvL7sntP6RwPQrXo+w/Dk+vlGWI6T/Qs1n1udrqP2lv8IXJVOk/Imx4eqUs7T+1pnnHKTruPwskKH6Mues/AAAAAAAA+H8AAAAAAAD4fwAAAAAAAPh/AAAAAAAA+H82zTtO0ZHqP0mdgCbChus/Qxzr4jYa6j/AyqFFtvPpPwTnjCjtDew/\",\"dtype\":\"float64\",\"shape\":[57]},\"Result - mandatory tests\":{\"__ndarray__\":\"MKAVGijM+j+IL/R5IFT4P+fa3PID6Ow/wNAC0KNo6b+ILpdES3YBwBoy3Tuboca/aNY5xt7ewD/A0ALQo2jpvyBujdbxCpe/Cr/S2Rjc9T8Q3o+ZCezwP8DQAtCjaOm/JVt0Huww1b/wmqgIeAz5vxoy3Tuboca/mgvKqH+E+788HfqeChHfv9v5mbL09+c/aNY5xt7ewD9o1jnG3t7APxDej5kJ7PA/Xa2i441P0j8Q3o+ZCezwPwAAAAAAAPh/AAAAAAAA+H8AAAAAAAD4fyBujdbxCpe/wNAC0KNo6b/A0ALQo2jpv8DQAtCjaOm/PB36ngoR3791byhkrC/cP+fa3PID6Ow/07FFELNY7r/TsUUQs1juv3lJRChhpPG/PB36ngoR37/A0ALQo2jpv/a5ZchoHPS/tO+/j5R45L/GGFdy5QfjPyVbdB7sMNW/jU6xORFk8z/U+Dx9HxoBQLTvv4+UeOS/xhhXcuUH4z+NTrE5EWTzP3VvKGSsL9w/AAAAAAAA+H8AAAAAAAD4fwAAAAAAAPh/AAAAAAAA+H+uEDe6L0T9P+fa3PID6Ow/AAAAAAAA+H/2uWXIaBz0vwAAAAAAAPh/\",\"dtype\":\"float64\",\"shape\":[57]},\"School ID\":[101001,101003,101005,101007,101008,101011,101012,101015,101017,101019,101020,101021,101022,101029,101030,101034,101035,101039,101041,101042,101043,101045,101047,101049,101051,101055,101058,101060,101062,101063,101064,101069,101070,101071,101072,101074,101075,101076,101138,101151,101157,101174,101175,101537,101540,101572,101586,280047,101018,101050,101023,101024,101053,101059,280129,280425,280491],\"School name\":[\"Den Classenske Legatskole\",\"Nyboder Skole\",\"S\\u00f8lvgades Skole\",\"N\\u00f8rrebro Park Skole\",\"Bl\\u00e5g\\u00e5rd Skole\",\"Bellah\\u00f8j Skole\",\"Br\\u00f8nsh\\u00f8j Skole\",\"Gr\\u00f8ndalsv\\u00e6ngets Skole\",\"Husum Skole\",\"Katrinedals Skole\",\"Kirkebjerg Skole\",\"Korsager Skole\",\"R\\u00f8dkilde Skole\",\"Tagensbo Skole\",\"Holbergskolen\",\"R\\u00e5dmandsgades Skole\",\"Guldberg Skole\",\"Randersgades Skole\",\"Strandvejsskolen\",\"Vibenshus Skole\",\"\\u00d8ster Farimagsgades Skole\",\"N\\u00f8rre F\\u00e6lled Skole\",\"Christianshavns Skole\",\"Dyvekeskolen\",\"Gerbrandskolen\",\"Sundby\\u00f8ster Skole\",\"Lergravsparkens Skole\",\"Peder Lykke Skolen\",\"Bavneh\\u00f8j Skole\",\"Ellebjerg Skole\",\"Tove Ditlevsens Skole\",\"Oehlenschl\\u00e6gersgades Skole\",\"Hanssted Skole\",\"Kirseb\\u00e6rhavens Skole\",\"Lykkebo Skole\",\"Valby Skole\",\"Vigerslev All\\u00e9s Skole\",\"\\u00c5lholm Skole\",\"Lundehusskolen\",\"Kildev\\u00e6ldsskolen\",\"Sortedamskolen\",\"Amager F\\u00e6lled Skole\",\"Langelinieskolen\",\"Heibergskolen\",\"Utterslev Skole\",\"Vesterbro Ny Skole\",\"Gasv\\u00e6rksvejens Skole\",\"\\u00d8restad Skole\",\"Hyltebjerg Skole\",\"S\\u00f8nderbro Skole\",\"Tingbjerg Heldags Skole\",\"Vanl\\u00f8se Skole\",\"Skolen ved Sundet\",\"Skolen p\\u00e5 Islands Brygge\",\"Skolen i Sydhavnen\",\"Skolen p\\u00e5 Strandboulevarden\",\"Kalvebod F\\u00e6lled Skole\"],\"Share 10th\":{\"__ndarray__\":\"B/AWSFD8mD+amZmZmZmpPwU0ETY8vZI/iGNd3EYDuD9jf9k9eVjAP5oIG55eKbs/sHJoke18rz8yVTAqqRPAP9zXgXNGlLY/bqMBvAUSpD+Ens2qz9WmP5LLf0i/fb0/6Ugu/yH9tj/1SlmGONbNP/H0SlmGOLY/pHA9CtejwD+ppE5AE2GzP5MYBFYOLaI/845TdCSXrz/Q1VbsL7u3P5jdk4eFWpM/7MA5I0p7wz8PnDOitDeoPz7o2az6XL0/PnlYqDXNqz+1FfvL7smzPy/dJAaBlbM/QKTfvg6cwz+V1AloImy4P/32deCcEc0/RUdy+Q/ppz+2hHzQs1mlP2q8dJMYBJY/SS7/If32xT/IBz2bVZ/DP7raiv1l97Q/oWez6nO1tT9NFYxK6gS0P9Pe4AuTqcI/Gw3gLZCgwD8/V1uxv+yeP5VliGNd3LY/RiV1ApoIiz8vbqMBvAWSPwskKH6Mubs/g1FJnYAmsj/V52or9pedP0VHcvkP6ac/AAAAAAAA+H8AAAAAAAD4fwAAAAAAAPh/AAAAAAAA+H8kufyH9NuXP8l2vp8aL50/Qj7o2az6rD+At0CC4seYP23F/rJ78qA/\",\"dtype\":\"float64\",\"shape\":[57]},\"Share Danish\":{\"__ndarray__\":\"XrpJDAIr7T+neccpOpLrP6VOQBNhw+0/E/JBz2bV5T/SAN4CCYrnP5jdk4eFWuU/Ad4CCYof6T8noImw4endPyxlGeJYF+c/hJ7Nqs/V7D+fPCzUmubrPx04Z0Rpb+I/IbByaJHt5j8zMzMzMzPXP1dbsb/snuQ/a5p3nKIj4z/gLZCg+DHqP0SLbOf7qes/oBov3SQG6z91kxgEVg7nP4qw4emVsuw/2ht8YTJV4j/hehSuR+HsP0GC4seYu+g/B1+YTBWM6j9JLv8h/fbpP8pUwaikTuo/xY8xdy0h4T8FNBE2PL3kP8UgsHJokd0/bHh6pSxD7D94nKIjufzrP3ZPHhZqTe0/Qs9m1edq4z/ImLuWkA/iP6OSOgFNhOk/+THmriXk5z8B3gIJih/pPw6+MJkqGOM/J8KGp1fK5D8EVg4tsp3rP34dOGdEaec/irDh6ZWy7D8xmSoYldTtP1FrmnecouU/aZHtfD816j8N4C2QoPjtP3jpJjEIrOg/AAAAAAAA+H8AAAAAAAD4fwAAAAAAAPh/AAAAAAAA+H89CtejcD3uPzMzMzMzM+0/Lv8h/fZ16j9ANV66SQzqPwrXo3A9Cus/\",\"dtype\":\"float64\",\"shape\":[57]},\"Share descendants\":{\"__ndarray__\":\"KVyPwvUorD90tRX7y+65P3gLJCh+jKk/fPKwUGuazz8CvAUSFD/OP30/NV66SdA/vHSTGARWxj8Cmggbnl7VPyJseHqlLMs/f2q8dJMYtD9BYOXQItu5Px3J5T+k39I/63O1FfvLzj/8qfHSTWLgP6MBvAUSFNM/2ht8YTJV1D8SFD/G3LXEP30/NV66Sbw/DJOpglFJvT/1SlmGONbNP8KGp1fKMrQ/NKK0N/jC2D8/xty1hHygP84ZUdobfMk/D5wzorQ3uD/hC5OpglG5PxsN4C2QoMA/F0hQ/Bhz2z93vp8aL93EP+2ePCzUmt4/Di2yne+ntj8cfGEyVTC6PxniWBe30bA/Qs9m1edq0z+8lpAPejbTP5yiI7n8h8Q/wOyePCzUwj+ZKhiV1AnIP/yp8dJNYtQ/9ihcj8L10D8pyxDHuri9P588LNSa5s0/2PD0SlmGqD/1udqK/WWnPwfOGVHaG9A/o5I6AU2EvT8g0m9fB86pP8gHPZtVn8M/AAAAAAAA+H8AAAAAAAD4fwAAAAAAAPh/AAAAAAAA+H/5oGez6nOlPzLmriXkg64/FNBE2PD0uj+FfNCzWfWpP1Z9rrZif7k/\",\"dtype\":\"float64\",\"shape\":[57]},\"Share foreign\":{\"__ndarray__\":\"H/RsVn2utj+TqYJRSZ3AP9uK/WX35LE/odY07zhF0z9d/kP67evQP23F/rJ78tQ//Yf029eByz8QejarPlffP6g1zTtO0dE/4QuTqYJRuT/jx5i7lpC/PwK8BRIUP9o/vp8aL90k0j9mZmZmZmbkP1JJnYAmwtY/MnctIR/02D+ASL99HTjHP/LSTWIQWME/aLPqc7UVwz/y0k1iEFjRP4C3QILix7g/S8gHPZtV2z/P91PjpZu0P/32deCcEc0/Qj7o2az6xD9HA3gLJCjGP2iR7Xw/NcY/duCcEaW93T+bVZ+rrdjTP53vp8ZLN+E/nzws1JrmvT8ijnVxGw3AP02EDU+vlLU/fGEyVTAq2T8K16NwPQrbP3S1FfvL7sk/78nDQq1pzj90JJf/kH7LP662Yn/ZPdk/VFInoImw1T/vp8ZLN4nBPwXFjzF3LdE/rkfhehSutz96Nqs+V1uxP9Ei2/l+atQ/CD2bVZ+rxT+X/5B++zqwPzxO0ZFc/ss/AAAAAAAA+H8AAAAAAAD4fwAAAAAAAPh/AAAAAAAA+H8HzhlR2husP02EDU+vlLU/z2bV52orxj8SFD/G3LXEP9ejcD0K18M/\",\"dtype\":\"float64\",\"shape\":[57]},\"Share foreign_percent_string\":[\"8%\",\"12%\",\"6%\",\"30%\",\"26%\",\"32%\",\"21%\",\"48%\",\"27%\",\"9%\",\"12%\",\"41%\",\"28%\",\"63%\",\"35%\",\"38%\",\"18%\",\"13%\",\"14%\",\"27%\",\"9%\",\"42%\",\"8%\",\"22%\",\"16%\",\"17%\",\"17%\",\"46%\",\"31%\",\"53%\",\"11%\",\"12%\",\"8%\",\"39%\",\"42%\",\"20%\",\"23%\",\"21%\",\"39%\",\"33%\",\"13%\",\"26%\",\"9%\",\"6%\",\"31%\",\"16%\",\"6%\",\"21%\",\"NaN\",\"NaN\",\"NaN\",\"NaN\",\"5%\",\"8%\",\"17%\",\"16%\",\"15%\"],\"Share gym\":{\"__ndarray__\":\"9pfdk4eFqj9os+pztRWrP0Ck374OnKM/AAAAAAAAsD9xPQrXo3CtPyDSb18Hzqk/XkvIBz2bpT80orQ3+MK0P0Rpb/CFyaQ/lrIMcayLmz/4wmSqYFSiP3KKjuTyH7I/jgbwFkhQrD/qlbIMcay7P9BE2PD0Sqk/8BZIUPwYsz/f4AuTqYKhP1pkO99PjZc/7C+7Jw8LpT9j7lpCPuipP/5l9+RhoaY/Nqs+V1uxrz8/xty1hHygPxUdyeU/pJ8/PL1SliGOpT+kcD0K16OgP00VjErqBKQ/Gw3gLZCgqD+V1AloImyoP+5aQj7o2bw/xf6ye/KwoD8ofoy5awmpPwyTqYJRSY0/gLdAguLHqD8nwoanV8qyP/5D+u3rwKk/yJi7lpAPqj/XEvJBz2alPxBYObTIdq4/fdCzWfW5qj/XEvJBz2alP2PuWkI+6Kk/MlUwKqkToD/c14FzRpSmP2fV52or9qc/ysNCrWneoT+PU3Qkl/+gP0VHcvkP6ac/AAAAAAAA+H8AAAAAAAD4fwAAAAAAAPh/AAAAAAAA+H8y5q4l5IOeP9QrZRniWJc/bcX+snvyoD8YBFYOLbKdP/5l9+RhoZY/\",\"dtype\":\"float64\",\"shape\":[57]},\"Share immigrants\":{\"__ndarray__\":\"FYxK6gQ0oT/Jdr6fGi+dP3sUrkfhepQ/HOviNhrAqz+8BRIUP8acP8IXJlMFo7I/AU2EDU+vpD8awFsgQfHDP13+Q/rt67A/iIVa07zjlD+Ens2qz9WWP5LLf0i/fb0/SS7/If32pT+q8dJNYhDAP3E9CtejcK0/XW3F/rJ7sj9uowG8BRKUP5qZmZmZmZk/h6dXyjLEoT+6awn5oGejP/jCZKpgVJI/vjCZKhiVpD9fKcsQx7qoP3jpJjEIrJw/duCcEaW9sT+t+lxtxf6yPzQRNjy9UqY/+MJkqmBUoj/A7J48LNTCP3UCmggbnq4/Qj7o2az6nD+dgCbChqeXP86I0t7gC5M/6Ugu/yH9tj87AU2EDU+/P15LyAc9m6U/XrpJDAIrtz/azvdT46WbP8oyxLEubrM/eqUsQxzrsj/XEvJBz2aVP6g1zTtO0aE/hJ7Nqs/Vpj/+ZffkYaGWPyZTBaOSOrE/2s73U+Olqz86tMh2vp+KP+eMKO0NvrA/AAAAAAAA+H8AAAAAAAD4fwAAAAAAAPh/AAAAAAAA+H86tMh2vp+KP9BE2PD0Spk/i/1l9+RhsT/i6ZWyDHG8P6+UZYhjXaw/\",\"dtype\":\"float64\",\"shape\":[57]},\"Share long\":{\"__ndarray__\":\"r5RliGNd4D/4wmSqYFTaP/kP6bevA+E/8rBQa5p31D9GlPYGX5jUP8KGp1fKMtQ/SnuDL0ym3j/RkVz+Q/rFP588LNSa5tU/CYofY+5a3j8c6+I2GsDbPyqpE9BE2NA/pHA9Ctej1D8qOpLLf0i/P/cGX5hMFdQ/1sVtNIC31D9Iv30dOGfcP3sUrkfhetw/U5YhjnVx1z9fmEwVjErWP0jhehSuR+E/3GgAb4EE0T9rK/aX3ZPfP/kP6bevA9M/WKg1zTtO3T9hw9MrZRnSPxUdyeU/pNM/FYxK6gQ0yT84Z0Rpb/DRPzJVMCqpE8A/fPKwUGua3z9eS8gHPZvdP8xdS8gHPeE/LGUZ4lgXxz8Spb3BFybLPx04Z0Rpb9Q/TmIQWDm01D/arPpcbcXWP5m7lpAPes4/wFsgQfFj0D8FxY8xdy3dP3qlLEMc69I/vw6cM6K04T9DrWnecYrgPyh+jLlrCdk/jZduEoPA2j/qlbIMcazfPzSitDf4wtg/AAAAAAAA+H8AAAAAAAD4fwAAAAAAAPh/AAAAAAAA+H9fKcsQx7rgPyKOdXEbDeA/XW3F/rJ72j/eAgmKH2PgP1InoImw4dk/\",\"dtype\":\"float64\",\"shape\":[57]},\"Share medium\":{\"__ndarray__\":\"Lv8h/fZ10D+7uI0G8BbQPwAAAAAAANA/n6ut2F92zz/IBz2bVZ/LP/CFyVTBqMw/TDeJQWDlyD8bL90kBoHNP1UwKqkT0Mw/PL1SliGO0T/mriXkg57RP9Ei2/l+asw/EVg5tMh2zj/MXUvIBz3DP2Q730+Nl84/3SQGgZVDyz9L6gQ0ETbQP+XQItv5ftI/aLPqc7UV0z+mm8QgsHLQP1uxv+yePNA/T0ATYcPTyz9iEFg5tMjOP3qlLEMc68o/xm00gLdAyj/TTWIQWDnQPzbNO07RkdA/qmBUUiegyT817zhFR3LJP7Kd76fGS8c/ldQJaCJs0D+6awn5oGfTP3PXEvJBz84/odY07zhFxz956SYxCKzEP8X+snvysNA/W7G/7J48zD99rrZif9nNP2UZ4lgXt8k/o5I6AU2EzT9JnYAmwobTP2UZ4lgXt9E/iGNd3EYD0D9sCfmgZ7PSP/AWSFD8GMs/qMZLN4lB0D89LNSa5h3TP+jZrPpcbc0/AAAAAAAA+H8AAAAAAAD4fwAAAAAAAPh/AAAAAAAA+H8ukKD4MebOP67YX3ZPHs4/YcPTK2UZ0j+x4emVsgzJP/s6cM6I0tI/\",\"dtype\":\"float64\",\"shape\":[57]},\"Share short\":{\"__ndarray__\":\"/Yf029eBoz9R2ht8YTKlP2TMXUvIB60/6SYxCKwcqj+lLEMc6+KmPwfOGVHaG6w/u0kMAiuHpj8Mk6mCUUmtP+CcEaW9wac/fdCzWfW5mj/ImLuWkA+qP2iz6nO1Fas/a5p3nKIjqT8Sg8DKoUWmP1tCPujZrKo/Gw3gLZCgqD990LNZ9bmaPx/0bFZ9rqY/B/AWSFD8qD/jpZvEILCiPzAqqRPQRKg/EoPAyqFFpj/sUbgeheuhP18HzhlR2qs/t2J/2T15qD/y0k1iEFipP3ZxGw3gLbA/TDeJQWDlsD/1udqK/WWnP18pyxDHuqg/uB6F61G4nj8/V1uxv+yeP/jCZKpgVKI/GlHaG3xhsj/wp8ZLN4mxP0GC4seYu6Y/uB6F61G4rj92Tx4Wak2jPxBYObTIdq4/gLdAguLHqD/ysFBrmnecP2b35GGh1qQ/kQ96Nqs+pz9hVFInoImgPxsv3SQGgaU/ysNCrWneoT/mP6Tfvg6cPxKlvcEXJrM/AAAAAAAA+H8AAAAAAAD4fwAAAAAAAPh/AAAAAAAA+H+lLEMc6+KmP+7rwDkjSqs/escpOpLLrz9YqDXNO06xP6VOQBNhw7M/\",\"dtype\":\"float64\",\"shape\":[57]},\"Share vocational\":{\"__ndarray__\":\"5dAi2/l+uj+XkA96NqvGP+F6FK5H4bo/5WGh1jTvyD+jI7n8h/TLP1MFo5I6Ac0/xks3iUFgxT+U9gZfmEzRP+cdp+hILs8/yjLEsS5uwz/ZzvdT46XDP89m1edqK84/p+hILv8hzT946SYxCKzUP2fV52or9s8/IR/0bFZ9xj8Wak3zjlPEP1fsL7snD8M/Vp+rrdhfxj/y0k1iEFjJP9xoAG+BBLU/WMoyxLEuzj9t5/up8dK9P9O84xQdydE/2qz6XG3Fxj/ZPXlYqDXRP/5l9+Rhoc4/t2J/2T151D/7y+7Jw0LNP1JJnYAmwtI/dEaU9gZfwD/VCWgibHi6P99PjZduEsM/r5RliGNd1D/jpZvEILDSP50Rpb3BF84/PnlYqDXNyz/NO07RkVzOP2lv8IXJVNE/8rBQa5p30D/BqKROQBPBP9Xnaiv2l80/CtejcD0Ktz/kg57Nqs+1P5f/kH77Osg/LbKd76fGwz+wA+eMKO29P/fkYaHWNMc/AAAAAAAA+H8AAAAAAAD4fwAAAAAAAPh/AAAAAAAA+H85RUdy+Q/BP8Dsnjws1MI/pgpGJXUCwj8yVTAqqRPAP8Dsnjws1MI/\",\"dtype\":\"float64\",\"shape\":[57]},\"Students\":{\"__ndarray__\":\"AAAAAACIhEAAAAAAAOiFQAAAAAAA2IJAAAAAAAAAjkAAAAAAAHiIQAAAAAAAYJFAAAAAAAAIkUAAAAAAAKiDQAAAAAAA+IpAAAAAAAAok0AAAAAAAKSTQAAAAAAAkI1AAAAAAADwjUAAAAAAAECGQAAAAAAAaIdAAAAAAAD4iUAAAAAAADCTQAAAAAAAoIFAAAAAAABQiEAAAAAAAECGQAAAAAAAsI1AAAAAAACwgkAAAAAAAICQQAAAAAAAQIVAAAAAAACwkEAAAAAAADiEQAAAAAAAkJFAAAAAAADwi0AAAAAAAHB/QAAAAAAAaINAAAAAAAC4kUAAAAAAAMCFQAAAAAAA4IVAAAAAAABQhUAAAAAAACiDQAAAAAAAuIpAAAAAAACgi0AAAAAAADCHQAAAAAAAAIVAAAAAAACIiEAAAAAAAPCKQAAAAAAAgI9AAAAAAADskkAAAAAAAEiFQAAAAAAABJBAAAAAAACIjUAAAAAAALCFQAAAAAAAuJBAAAAAAAAA+H8AAAAAAAD4fwAAAAAAAPh/AAAAAAAA+H8AAAAAAMSQQAAAAAAApJhAAAAAAACohkAAAAAAAOB5QAAAAAAAAHFA\",\"dtype\":\"float64\",\"shape\":[57]},\"Total people 16+\":[10475,9724,6681,13387,15850,3440,5564,11779,6162,5409,4691,6571,9861,20990,5947,14025,9232,4713,7773,10153,7888,9756,9258,10324,7990,10568,14468,11887,16123,6297,3124,7766,3420,11112,9501,5095,3319,5500,7471,10644,17303,10318,5754,4312,5680,5460,2961,5383,10038,13605,9396,4065,15508,2690,6076,1793,7385],\"Unemployed\":[1188,1589,871,1373,1594,641,817,1228,1155,890,744,1421,1604,2795,1146,1391,1124,536,1365,1192,939,1175,1333,1610,1321,1124,2107,1800,1544,882,274,680,510,1586,1509,673,433,820,1489,1590,2284,1430,728,435,1112,545,259,581,1628,1802,1777,651,2372,246,654,185,855],\"Unemployment rate\":{\"__ndarray__\":\"3v//f6AIvT/7//9fn+rEPwEAAGD0r8A/CwAAAIRBuj8JAAAg0L65P/X//7/l2cc/CwAAYIzLwj/x//+fWLC6P/T//38B/sc/+f//X6oPxT/v//9/Dk3EPwUAAKAvrss/BQAAQBPSxD/9//+/VwvBPwMAAEB3qsg/AwAA4NxjuT/s//9fCSu/PyAAAABHHb0/DwAAoFF6xj/p//+fKw6+P/n//1+Ceb4//f//HxLVvj8RAADgDW7CP/P//98U9sM/8v//f5YpxT/r///fVDq7P/n//58PpMI/+///v+xhwz/9//8/+oO4P/v//5+07cE/AgAAIAl0tj/9//9/aGq2P/7//790FsM/9v//H+5Ewj8FAADgY1TEPwgAAKBV6MA/9f////GywD/5//8/aRXDPw8AAODKgsk//f//v+Eewz/z//8/YuXAPwwAAEBovcE/9P//X9QxwD8JAADAWtO5PwEAAMAkD8k//f//35iNuT8BAACgdmS2PxsAAOB0obs/AwAAgG/CxD/0//8fKvTAPwMAAAAvNcg/DwAAgLd/xD8KAABg+ZPDPwAAAEBBabc/6P//fxKOuz8QAADg8Gm6P+v//99xo70/\",\"dtype\":\"float64\",\"shape\":[57]},\"income_string\":[\"642,261DKK\",\"750,569DKK\",\"631,753DKK\",\"431,108DKK\",\"469,857DKK\",\"484,097DKK\",\"580,960DKK\",\"382,152DKK\",\"546,314DKK\",\"503,348DKK\",\"571,628DKK\",\"473,045DKK\",\"499,075DKK\",\"385,089DKK\",\"444,321DKK\",\"391,085DKK\",\"426,058DKK\",\"567,820DKK\",\"613,734DKK\",\"493,368DKK\",\"681,775DKK\",\"399,544DKK\",\"497,778DKK\",\"501,071DKK\",\"547,846DKK\",\"435,567DKK\",\"482,637DKK\",\"521,481DKK\",\"482,598DKK\",\"458,120DKK\",\"498,779DKK\",\"498,779DKK\",\"530,810DKK\",\"456,708DKK\",\"459,185DKK\",\"483,595DKK\",\"489,329DKK\",\"529,014DKK\",\"459,010DKK\",\"541,876DKK\",\"472,478DKK\",\"478,835DKK\",\"651,048DKK\",\"626,556DKK\",\"461,013DKK\",\"488,042DKK\",\"501,628DKK\",\"625,514DKK\",\"522,545DKK\",\"480,891DKK\",\"420,427DKK\",\"513,975DKK\",\"571,329DKK\",\"636,528DKK\",\"472,133DKK\",\"505,844DKK\",\"624,113DKK\"],\"lat\":{\"__ndarray__\":\"yFZ/HiLWS0DGS+h2ZNhLQGYw5ure10tA0rzMIFvYS0CkC/h6CthLQDtVJBkp2ktAg5baIyLaS0BTlphVc9lLQGMCmQRh2ktApptW/FjYS0DiwUWFINlLQDY9ObzS2ktAwCUhYDfZS0CbaSji2dpLQH5L58i63EtAW/d1mnnZS0DQBPZ+v9hLQLq3GOtW2ktA0Dp+zwnbS0D54xRFuNpLQNYXloao2EtAL5QIJUnaS0BysMe/RdZLQEr3UJ4D00tAwKUWBNnSS0ARa6tqYtNLQGTjUA4c1UtAUs0xauLTS0C4qiGsK9RLQD3+dTVW00tAc2orNEnVS0DLVoO7c9VLQGW4DOBU1UtA3bF96RnTS0AOvMEfftRLQCJqnkoe1UtAkVaGQqrUS0CiTLU6xdVLQKs6+Nn220tAVtV7QIfbS0B5ZFAbT9lLQILFQfrK1EtAOsFHZ4zZS0A15Eci+9lLQIP8g/oO20tAukUTLSrVS0CbBJ7zwNVLQMTgZbfO0EtAs66BrqjXS0Cabhq04NRLQBdLeNYK3EtAGAD+Mt7XS0CPh767ldNLQPkvEATI1EtALEgzFk3TS0C55SMp6dlLQBUBTu/iz0tA\",\"dtype\":\"float64\",\"shape\":[57]},\"lon\":{\"__ndarray__\":\"9YE+1MUmKUB80UeHJywpQO2FFlmeKilA1Enms+IWKUDC6ZOLtBkpQPMZpsBSBClAam3YmFP9KEAADx+38A0pQLGORgCQ8ihA10FPnFz/KEC7PUSbPPcoQHo/2F1K8ChAjlyiypUDKUBdGTwaJxEpQA8Ho2O5DilA8laS22IZKUCQ1/MZFBspQIzNbtFcKSlAV4Nw4IwoKUAu3AAmWigpQAwN6kDmJylAmS5Z/MUdKUDcxBPdfDEpQI2XHXDaMClA0RauAr47KUC9OaOZSTopQOWbauD+OSlAX5DkK3UxKUCc39hjVxIpQHh3wiAvEClAuiPmHRwXKUAuw/ubwhkpQDio71/9+ChAH/GXXLABKUC16bAI1vcoQPBO2HWmBClAG634PCMEKUDtPWKVdv0oQOZRG7G1FilAjLgU6YgjKUDdjzWuhicpQGwF2G2gMClA/zbNOGgsKUCEXhuG6ikpQHY5JPNkCilAZVsu5MQUKUCRcU7wPR0pQCa4vN2nKSlAvW032Yb2KECatnIbuDcpQMDmcv4J+ChAMwK2t5X2KEDQmh9/aUEpQKQAUTBjKilAMBFvnX8bKUBMMnIW9iwpQI2xE16CIylA\",\"dtype\":\"float64\",\"shape\":[57]},\"sizeEdu\":{\"__ndarray__\":\"3q66d0hUkT/dmWp2MwSQP3jqDUW32pE/Hc7hHM7hjD+Eko5PX1uMP4SSjk9fW4w/qjcU3WpHkD+ytfTk6CeIP7cJNeo8aI0/ERERERERkT931b1DooqQP7TflOcSyIo/Hc7hHM7hjD97FK5H4XqEP7cJNeo8aI0/6VY7gvDUiz+qNxTdakeQP0RzZ6rZzZA/3ZlqdjMEkD9SRYi3q+6NP3jqDUW32pE/G6RBGqRBij9Ec2eq2c2QP+lWO4Lw1Is/3ZlqdjMEkD+Eko5PX1uMP7cJNeo8aI0/TfFHsleuiD+BaO5MNbuJP6+LVOK+h4U/ERERERERkT8RERERERGRP3jqDUW32pE/GHqhF3qhhz+ytfTk6CeIP1JFiLer7o0/hJKOT19bjD9SRYi3q+6NP4Fo7kw1u4k/tN+U5xLIij8RERERERGRP7cJNeo8aI0/eOoNRbfakT946g1Ft9qRP1JFiLer7o0/IPiBH/iBjz+sTGTef5eRP4a8LlKJ+44/AAAAAAAA+H8AAAAAAAD4fwAAAAAAAPh/AAAAAAAA+H+sTGTef5eRPxEREREREZE/qjcU3WpHkD9Ec2eq2c2QP3fVvUOiipA/\",\"dtype\":\"float64\",\"shape\":[57]},\"sizeInc\":{\"__ndarray__\":\"+r40R7Q1kT+6uzGNqRyUPwYLqGmf7ZA/iYthXoYahz9Ss6TiIi6JP/elFvt/8Yk/k5Eu6GUijz97FK5H4XqEP/wGwcMTR40/16PofJz5ij8T9Zd4XqKOP7J8J6PfWYk/ODoQDP2+ij+GLh97LKOEP9pN+nrMz4c/ZQemXW/1hD8XAKX7PdWGP46rvy4gbo4/6wiipQRykD8T8NossXCKP9OenO/BRJI/xTKcsHxphT/cagXIMa2KP/oqRk9f2oo/dngTYxhcjT/MzgYSs1eHP/dv0Tt43Yk/OEa0Z2Lyiz/A73RC79yJPzg0G7ccjYg/t0X2cu26ij+3RfZy7bqKPz0A9U1fcow/3yU0jb15iD/xQzQpuZuIP01H8+Cc6ok/v4ctlEc5ij+xtBx5u1mMP2NToohSmYg/EvV00TAKjT9XSL8+GFKJP2jrpARPqYk/ItwG7/pxkT+WmJET+cmQP+ypoGHNtIg/pgBBb58nij8TF5CUA+KKPzpKTj7TwpA/HbWwVvsAjD+4jZAChMWJP7p07wj9h4Y/Dc5QKmiLiz8XHihWRJ6OPyrvJa9gDpE/XIsqjVxNiT+csQjU2huLP5g3ePo2uZA/\",\"dtype\":\"float64\",\"shape\":[57]}},\"selected\":{\"id\":\"1164\",\"type\":\"Selection\"},\"selection_policy\":{\"id\":\"1165\",\"type\":\"UnionRenderers\"}},\"id\":\"1001\",\"type\":\"ColumnDataSource\"},{\"attributes\":{\"callback\":null},\"id\":\"1003\",\"type\":\"DataRange1d\"},{\"attributes\":{\"child\":{\"id\":\"1002\",\"subtype\":\"Figure\",\"type\":\"Plot\"},\"title\":\"Foreigners vs. School performance\"},\"id\":\"1043\",\"type\":\"Panel\"},{\"attributes\":{\"axis_label\":\"School performance\",\"formatter\":{\"id\":\"1152\",\"type\":\"BasicTickFormatter\"},\"ticker\":{\"id\":\"1017\",\"type\":\"BasicTicker\"}},\"id\":\"1016\",\"type\":\"LinearAxis\"},{\"attributes\":{\"callback\":null},\"id\":\"1005\",\"type\":\"DataRange1d\"},{\"attributes\":{},\"id\":\"1017\",\"type\":\"BasicTicker\"},{\"attributes\":{},\"id\":\"1009\",\"type\":\"LinearScale\"},{\"attributes\":{},\"id\":\"9830\",\"type\":\"LinearScale\"},{\"attributes\":{\"dimension\":1,\"grid_line_color\":null,\"ticker\":{\"id\":\"1017\",\"type\":\"BasicTicker\"}},\"id\":\"1020\",\"type\":\"Grid\"},{\"attributes\":{\"axis_label\":\"% of foreigners\",\"formatter\":{\"id\":\"1039\",\"type\":\"NumeralTickFormatter\"},\"ticker\":{\"id\":\"1012\",\"type\":\"BasicTicker\"}},\"id\":\"1011\",\"type\":\"LinearAxis\"},{\"attributes\":{},\"id\":\"1021\",\"type\":\"WheelZoomTool\"},{\"attributes\":{},\"id\":\"1012\",\"type\":\"BasicTicker\"},{\"attributes\":{\"fill_alpha\":{\"value\":0.6},\"fill_color\":{\"value\":\"#a6bddb\"},\"line_color\":{\"value\":\"grey\"},\"radius\":{\"units\":\"data\",\"value\":0.01},\"x\":{\"field\":\"Share foreign\"},\"y\":{\"field\":\"Performance\"}},\"id\":\"1035\",\"type\":\"Circle\"},{\"attributes\":{\"active_drag\":\"auto\",\"active_inspect\":\"auto\",\"active_multi\":null,\"active_scroll\":\"auto\",\"active_tap\":\"auto\",\"tools\":[{\"id\":\"1021\",\"type\":\"WheelZoomTool\"},{\"id\":\"1022\",\"type\":\"ZoomInTool\"},{\"id\":\"1023\",\"type\":\"ZoomOutTool\"},{\"id\":\"1024\",\"type\":\"BoxZoomTool\"},{\"id\":\"1025\",\"type\":\"PanTool\"},{\"id\":\"1026\",\"type\":\"ResetTool\"},{\"id\":\"1041\",\"type\":\"HoverTool\"}]},\"id\":\"1027\",\"type\":\"Toolbar\"},{\"attributes\":{},\"id\":\"1022\",\"type\":\"ZoomInTool\"},{\"attributes\":{\"overlay\":{\"id\":\"1163\",\"type\":\"BoxAnnotation\"}},\"id\":\"1024\",\"type\":\"BoxZoomTool\"},{\"attributes\":{},\"id\":\"1025\",\"type\":\"PanTool\"},{\"attributes\":{},\"id\":\"1026\",\"type\":\"ResetTool\"},{\"attributes\":{\"background_fill_alpha\":{\"value\":10.0},\"background_fill_color\":{\"value\":\"white\"},\"border_line_alpha\":{\"value\":0.7},\"border_line_color\":{\"value\":\"black\"},\"render_mode\":\"css\",\"text\":\"Notice any difference?\",\"text_font_size\":{\"value\":\"10pt\"},\"x\":0.4,\"y\":7},\"id\":\"9866\",\"type\":\"Label\"},{\"attributes\":{\"below\":[{\"id\":\"9834\",\"type\":\"LinearAxis\"}],\"center\":[{\"id\":\"9838\",\"type\":\"Grid\"},{\"id\":\"9843\",\"type\":\"Grid\"},{\"id\":\"9866\",\"type\":\"Label\"},{\"id\":\"9867\",\"type\":\"Label\"},{\"id\":\"9868\",\"type\":\"Label\"},{\"id\":\"9870\",\"type\":\"Arrow\"},{\"id\":\"9873\",\"type\":\"Arrow\"}],\"left\":[{\"id\":\"9839\",\"type\":\"LinearAxis\"}],\"renderers\":[{\"id\":\"9860\",\"type\":\"GlyphRenderer\"}],\"right\":[{\"id\":\"7560\",\"type\":\"ColorBar\"}],\"title\":{\"id\":\"10169\",\"type\":\"Title\"},\"toolbar\":{\"id\":\"9850\",\"type\":\"Toolbar\"},\"x_range\":{\"id\":\"9826\",\"type\":\"DataRange1d\"},\"x_scale\":{\"id\":\"9830\",\"type\":\"LinearScale\"},\"y_range\":{\"id\":\"9828\",\"type\":\"DataRange1d\"},\"y_scale\":{\"id\":\"9832\",\"type\":\"LinearScale\"}},\"id\":\"9825\",\"subtype\":\"Figure\",\"type\":\"Plot\"},{\"attributes\":{\"data_source\":{\"id\":\"1001\",\"type\":\"ColumnDataSource\"},\"glyph\":{\"id\":\"1035\",\"type\":\"Circle\"},\"hover_glyph\":null,\"muted_glyph\":null,\"nonselection_glyph\":{\"id\":\"1036\",\"type\":\"Circle\"},\"selection_glyph\":null,\"view\":{\"id\":\"1038\",\"type\":\"CDSView\"}},\"id\":\"1037\",\"type\":\"GlyphRenderer\"},{\"attributes\":{\"source\":{\"id\":\"1001\",\"type\":\"ColumnDataSource\"}},\"id\":\"1038\",\"type\":\"CDSView\"},{\"attributes\":{\"format\":\"0.0%\"},\"id\":\"1039\",\"type\":\"NumeralTickFormatter\"},{\"attributes\":{\"data_source\":{\"id\":\"1001\",\"type\":\"ColumnDataSource\"},\"glyph\":{\"id\":\"9858\",\"type\":\"Circle\"},\"hover_glyph\":null,\"muted_glyph\":null,\"nonselection_glyph\":{\"id\":\"9859\",\"type\":\"Circle\"},\"selection_glyph\":null,\"view\":{\"id\":\"9861\",\"type\":\"CDSView\"}},\"id\":\"9860\",\"type\":\"GlyphRenderer\"},{\"attributes\":{\"axis_label\":\"% of foreigners\",\"formatter\":{\"id\":\"9862\",\"type\":\"NumeralTickFormatter\"},\"ticker\":{\"id\":\"9835\",\"type\":\"BasicTicker\"}},\"id\":\"9834\",\"type\":\"LinearAxis\"},{\"attributes\":{\"callback\":null,\"renderers\":[{\"id\":\"1037\",\"type\":\"GlyphRenderer\"}],\"tooltips\":[[\"School\",\"@{School name}\"],[\"Share of foreigners\",\"@{Share foreign_percent_string}\"],[\"Performance\",\"@Performance_edit_string\"]]},\"id\":\"1041\",\"type\":\"HoverTool\"},{\"attributes\":{\"callback\":null},\"id\":\"9828\",\"type\":\"DataRange1d\"},{\"attributes\":{\"fill_alpha\":{\"value\":0.1},\"fill_color\":{\"value\":\"#1f77b4\"},\"line_alpha\":{\"value\":0.1},\"line_color\":{\"value\":\"#1f77b4\"},\"radius\":{\"field\":\"sizeEdu\",\"units\":\"data\"},\"x\":{\"field\":\"Share foreign\"},\"y\":{\"field\":\"Performance\"}},\"id\":\"9859\",\"type\":\"Circle\"},{\"attributes\":{\"grid_line_color\":null,\"ticker\":{\"id\":\"1012\",\"type\":\"BasicTicker\"}},\"id\":\"1015\",\"type\":\"Grid\"},{\"attributes\":{\"format\":\"0.0%\"},\"id\":\"9862\",\"type\":\"NumeralTickFormatter\"},{\"attributes\":{\"fill_alpha\":{\"value\":0.75},\"fill_color\":{\"field\":\"Avg household income\",\"transform\":{\"id\":\"7558\",\"type\":\"LinearColorMapper\"}},\"line_color\":{\"value\":\"grey\"},\"radius\":{\"field\":\"sizeEdu\",\"units\":\"data\"},\"x\":{\"field\":\"Share foreign\"},\"y\":{\"field\":\"Performance\"}},\"id\":\"9858\",\"type\":\"Circle\"},{\"attributes\":{},\"id\":\"9840\",\"type\":\"BasicTicker\"},{\"attributes\":{\"dimension\":1,\"grid_line_color\":null,\"ticker\":{\"id\":\"9840\",\"type\":\"BasicTicker\"}},\"id\":\"9843\",\"type\":\"Grid\"},{\"attributes\":{},\"id\":\"9844\",\"type\":\"WheelZoomTool\"},{\"attributes\":{\"active_drag\":\"auto\",\"active_inspect\":\"auto\",\"active_multi\":null,\"active_scroll\":\"auto\",\"active_tap\":\"auto\",\"tools\":[{\"id\":\"9844\",\"type\":\"WheelZoomTool\"},{\"id\":\"9845\",\"type\":\"ZoomInTool\"},{\"id\":\"9846\",\"type\":\"ZoomOutTool\"},{\"id\":\"9847\",\"type\":\"BoxZoomTool\"},{\"id\":\"9848\",\"type\":\"PanTool\"},{\"id\":\"9849\",\"type\":\"ResetTool\"},{\"id\":\"9864\",\"type\":\"HoverTool\"}]},\"id\":\"9850\",\"type\":\"Toolbar\"},{\"attributes\":{},\"id\":\"9845\",\"type\":\"ZoomInTool\"},{\"attributes\":{\"axis_label\":\"School performance\",\"formatter\":{\"id\":\"10179\",\"type\":\"BasicTickFormatter\"},\"ticker\":{\"id\":\"9840\",\"type\":\"BasicTicker\"}},\"id\":\"9839\",\"type\":\"LinearAxis\"},{\"attributes\":{\"text\":\"\"},\"id\":\"7854\",\"type\":\"Title\"},{\"attributes\":{\"grid_line_color\":null,\"ticker\":{\"id\":\"9835\",\"type\":\"BasicTicker\"}},\"id\":\"9838\",\"type\":\"Grid\"},{\"attributes\":{},\"id\":\"1023\",\"type\":\"ZoomOutTool\"},{\"attributes\":{\"fill_alpha\":{\"value\":0.1},\"fill_color\":{\"value\":\"#1f77b4\"},\"line_alpha\":{\"value\":0.1},\"line_color\":{\"value\":\"#1f77b4\"},\"radius\":{\"units\":\"data\",\"value\":0.01},\"x\":{\"field\":\"Share foreign\"},\"y\":{\"field\":\"Performance\"}},\"id\":\"1036\",\"type\":\"Circle\"},{\"attributes\":{},\"id\":\"7863\",\"type\":\"BasicTickFormatter\"},{\"attributes\":{},\"id\":\"9846\",\"type\":\"ZoomOutTool\"},{\"attributes\":{\"high\":750569,\"low\":382152,\"palette\":[\"#fff7fb\",\"#ece7f2\",\"#d0d1e6\",\"#a6bddb\",\"#74a9cf\",\"#3690c0\",\"#0570b0\",\"#034e7b\"]},\"id\":\"7558\",\"type\":\"LinearColorMapper\"},{\"attributes\":{\"below\":[{\"id\":\"7535\",\"type\":\"LinearAxis\"}],\"center\":[{\"id\":\"7539\",\"type\":\"Grid\"},{\"id\":\"7544\",\"type\":\"Grid\"},{\"id\":\"7570\",\"type\":\"Label\"},{\"id\":\"7571\",\"type\":\"Label\"},{\"id\":\"7572\",\"type\":\"Label\"},{\"id\":\"7574\",\"type\":\"Arrow\"},{\"id\":\"7577\",\"type\":\"Arrow\"}],\"left\":[{\"id\":\"7540\",\"type\":\"LinearAxis\"}],\"renderers\":[{\"id\":\"7564\",\"type\":\"GlyphRenderer\"}],\"right\":[{\"id\":\"7560\",\"type\":\"ColorBar\"}],\"title\":{\"id\":\"7854\",\"type\":\"Title\"},\"toolbar\":{\"id\":\"7551\",\"type\":\"Toolbar\"},\"x_range\":{\"id\":\"7527\",\"type\":\"DataRange1d\"},\"x_scale\":{\"id\":\"7531\",\"type\":\"LinearScale\"},\"y_range\":{\"id\":\"7529\",\"type\":\"DataRange1d\"},\"y_scale\":{\"id\":\"7533\",\"type\":\"LinearScale\"}},\"id\":\"7526\",\"subtype\":\"Figure\",\"type\":\"Plot\"},{\"attributes\":{},\"id\":\"1152\",\"type\":\"BasicTickFormatter\"},{\"attributes\":{},\"id\":\"7861\",\"type\":\"BasicTickFormatter\"},{\"attributes\":{},\"id\":\"9835\",\"type\":\"BasicTicker\"},{\"attributes\":{\"callback\":null},\"id\":\"7527\",\"type\":\"DataRange1d\"},{\"attributes\":{\"callback\":null},\"id\":\"7529\",\"type\":\"DataRange1d\"},{\"attributes\":{},\"id\":\"7862\",\"type\":\"BasicTicker\"},{\"attributes\":{},\"id\":\"9849\",\"type\":\"ResetTool\"},{\"attributes\":{},\"id\":\"7533\",\"type\":\"LinearScale\"},{\"attributes\":{\"background_fill_alpha\":{\"value\":10.0},\"background_fill_color\":{\"value\":\"white\"},\"border_line_alpha\":{\"value\":0.7},\"border_line_color\":{\"value\":\"black\"},\"render_mode\":\"css\",\"text\":\"Big\",\"text_font_size\":{\"value\":\"10pt\"},\"x\":0.115,\"y\":8.1},\"id\":\"9867\",\"type\":\"Label\"},{\"attributes\":{\"axis_label\":\"% of foreigners\",\"formatter\":{\"id\":\"7566\",\"type\":\"NumeralTickFormatter\"},\"ticker\":{\"id\":\"7536\",\"type\":\"BasicTicker\"}},\"id\":\"7535\",\"type\":\"LinearAxis\"},{\"attributes\":{},\"id\":\"9848\",\"type\":\"PanTool\"},{\"attributes\":{},\"id\":\"7536\",\"type\":\"BasicTicker\"},{\"attributes\":{\"source\":{\"id\":\"1001\",\"type\":\"ColumnDataSource\"}},\"id\":\"9861\",\"type\":\"CDSView\"},{\"attributes\":{\"grid_line_color\":null,\"ticker\":{\"id\":\"7536\",\"type\":\"BasicTicker\"}},\"id\":\"7539\",\"type\":\"Grid\"},{\"attributes\":{\"overlay\":{\"id\":\"10186\",\"type\":\"BoxAnnotation\"}},\"id\":\"9847\",\"type\":\"BoxZoomTool\"},{\"attributes\":{\"axis_label\":\"School performance\",\"formatter\":{\"id\":\"7863\",\"type\":\"BasicTickFormatter\"},\"ticker\":{\"id\":\"7541\",\"type\":\"BasicTicker\"}},\"id\":\"7540\",\"type\":\"LinearAxis\"},{\"attributes\":{},\"id\":\"7541\",\"type\":\"BasicTicker\"},{\"attributes\":{\"callback\":null,\"renderers\":[{\"id\":\"9860\",\"type\":\"GlyphRenderer\"}],\"tooltips\":[[\"School\",\"@{School name}\"],[\"Share of foreigners\",\"@{Share foreign_percent_string}\"],[\"Performance\",\"@Performance_edit_string\"],[\"Avg household income\",\"@{income_string}\"],[\"Education score\",\"@{Education score_edit_string}\"]]},\"id\":\"9864\",\"type\":\"HoverTool\"},{\"attributes\":{\"dimension\":1,\"grid_line_color\":null,\"ticker\":{\"id\":\"7541\",\"type\":\"BasicTicker\"}},\"id\":\"7544\",\"type\":\"Grid\"},{\"attributes\":{\"text\":\"\"},\"id\":\"1146\",\"type\":\"Title\"},{\"attributes\":{},\"id\":\"10179\",\"type\":\"BasicTickFormatter\"},{\"attributes\":{\"background_fill_alpha\":{\"value\":10.0},\"background_fill_color\":{\"value\":\"white\"},\"border_line_alpha\":{\"value\":0.7},\"border_line_color\":{\"value\":\"black\"},\"render_mode\":\"css\",\"text\":\"Small\",\"text_font_size\":{\"value\":\"10pt\"},\"x\":0.62,\"y\":2.8},\"id\":\"9868\",\"type\":\"Label\"},{\"attributes\":{\"fill_alpha\":{\"value\":0.75},\"fill_color\":{\"field\":\"Avg household income\",\"transform\":{\"id\":\"7558\",\"type\":\"LinearColorMapper\"}},\"line_color\":{\"value\":\"grey\"},\"radius\":{\"units\":\"data\",\"value\":0.01},\"x\":{\"field\":\"Share foreign\"},\"y\":{\"field\":\"Performance\"}},\"id\":\"7562\",\"type\":\"Circle\"},{\"attributes\":{\"high\":750569,\"low\":382152,\"nan_color\":\"grey\",\"palette\":[\"#fff7fb\",\"#ece7f2\",\"#d0d1e6\",\"#a6bddb\",\"#74a9cf\",\"#3690c0\",\"#0570b0\",\"#034e7b\"]},\"id\":\"7559\",\"type\":\"LinearColorMapper\"},{\"attributes\":{\"active_drag\":\"auto\",\"active_inspect\":\"auto\",\"active_multi\":null,\"active_scroll\":\"auto\",\"active_tap\":\"auto\",\"tools\":[{\"id\":\"7545\",\"type\":\"WheelZoomTool\"},{\"id\":\"7546\",\"type\":\"ZoomInTool\"},{\"id\":\"7547\",\"type\":\"ZoomOutTool\"},{\"id\":\"7548\",\"type\":\"BoxZoomTool\"},{\"id\":\"7549\",\"type\":\"PanTool\"},{\"id\":\"7550\",\"type\":\"ResetTool\"},{\"id\":\"7568\",\"type\":\"HoverTool\"}]},\"id\":\"7551\",\"type\":\"Toolbar\"},{\"attributes\":{},\"id\":\"7545\",\"type\":\"WheelZoomTool\"},{\"attributes\":{\"size\":10},\"id\":\"9869\",\"type\":\"NormalHead\"},{\"attributes\":{\"size\":10},\"id\":\"9872\",\"type\":\"NormalHead\"},{\"attributes\":{},\"id\":\"7546\",\"type\":\"ZoomInTool\"},{\"attributes\":{\"end\":{\"id\":\"9872\",\"type\":\"NormalHead\"},\"source\":null,\"start\":null,\"x_end\":{\"value\":0.625},\"x_start\":{\"value\":0.5},\"y_end\":{\"value\":3.7},\"y_start\":{\"value\":7.2}},\"id\":\"9873\",\"type\":\"Arrow\"},{\"attributes\":{\"end\":{\"id\":\"9869\",\"type\":\"NormalHead\"},\"source\":null,\"start\":null,\"x_end\":{\"value\":0.17},\"x_start\":{\"value\":0.48},\"y_end\":{\"value\":7.8},\"y_start\":{\"value\":7.3}},\"id\":\"9870\",\"type\":\"Arrow\"},{\"attributes\":{},\"id\":\"7547\",\"type\":\"ZoomOutTool\"},{\"attributes\":{\"bottom_units\":\"screen\",\"fill_alpha\":{\"value\":0.5},\"fill_color\":{\"value\":\"lightgrey\"},\"left_units\":\"screen\",\"level\":\"overlay\",\"line_alpha\":{\"value\":1.0},\"line_color\":{\"value\":\"black\"},\"line_dash\":[4,4],\"line_width\":{\"value\":2},\"render_mode\":\"css\",\"right_units\":\"screen\",\"top_units\":\"screen\"},\"id\":\"7872\",\"type\":\"BoxAnnotation\"},{\"attributes\":{\"child\":{\"id\":\"9825\",\"subtype\":\"Figure\",\"type\":\"Plot\"},\"title\":\"Add dimension education score as size\"},\"id\":\"9875\",\"type\":\"Panel\"},{\"attributes\":{\"overlay\":{\"id\":\"7872\",\"type\":\"BoxAnnotation\"}},\"id\":\"7548\",\"type\":\"BoxZoomTool\"},{\"attributes\":{},\"id\":\"7549\",\"type\":\"PanTool\"},{\"attributes\":{},\"id\":\"7550\",\"type\":\"ResetTool\"},{\"attributes\":{\"bottom_units\":\"screen\",\"fill_alpha\":{\"value\":0.5},\"fill_color\":{\"value\":\"lightgrey\"},\"left_units\":\"screen\",\"level\":\"overlay\",\"line_alpha\":{\"value\":1.0},\"line_color\":{\"value\":\"black\"},\"line_dash\":[4,4],\"line_width\":{\"value\":2},\"render_mode\":\"css\",\"right_units\":\"screen\",\"top_units\":\"screen\"},\"id\":\"1163\",\"type\":\"BoxAnnotation\"},{\"attributes\":{},\"id\":\"1164\",\"type\":\"Selection\"},{\"attributes\":{\"background_fill_alpha\":{\"value\":10.0},\"background_fill_color\":{\"value\":\"white\"},\"border_line_alpha\":{\"value\":0.7},\"border_line_color\":{\"value\":\"black\"},\"render_mode\":\"css\",\"text\":\"Notice any difference?\",\"text_font_size\":{\"value\":\"10pt\"},\"x\":0.4,\"y\":7},\"id\":\"7570\",\"type\":\"Label\"},{\"attributes\":{},\"id\":\"1165\",\"type\":\"UnionRenderers\"},{\"attributes\":{\"color_mapper\":{\"id\":\"7559\",\"type\":\"LinearColorMapper\"},\"formatter\":{\"id\":\"7861\",\"type\":\"BasicTickFormatter\"},\"height\":550,\"label_standoff\":8,\"location\":[0,-20],\"major_label_overrides\":{\"400000\":\"400k\",\"450000\":\"450k\",\"500000\":\"500k\",\"550000\":\"550k\",\"600000\":\"600k\",\"650000\":\"650k\",\"700000\":\"700k\",\"750000\":\"750k\"},\"ticker\":{\"id\":\"7862\",\"type\":\"BasicTicker\"},\"width\":20},\"id\":\"7560\",\"type\":\"ColorBar\"},{\"attributes\":{\"text\":\"\"},\"id\":\"10169\",\"type\":\"Title\"},{\"attributes\":{\"fill_alpha\":{\"value\":0.1},\"fill_color\":{\"value\":\"#1f77b4\"},\"line_alpha\":{\"value\":0.1},\"line_color\":{\"value\":\"#1f77b4\"},\"radius\":{\"units\":\"data\",\"value\":0.01},\"x\":{\"field\":\"Share foreign\"},\"y\":{\"field\":\"Performance\"}},\"id\":\"7563\",\"type\":\"Circle\"},{\"attributes\":{\"data_source\":{\"id\":\"1001\",\"type\":\"ColumnDataSource\"},\"glyph\":{\"id\":\"7562\",\"type\":\"Circle\"},\"hover_glyph\":null,\"muted_glyph\":null,\"nonselection_glyph\":{\"id\":\"7563\",\"type\":\"Circle\"},\"selection_glyph\":null,\"view\":{\"id\":\"7565\",\"type\":\"CDSView\"}},\"id\":\"7564\",\"type\":\"GlyphRenderer\"},{\"attributes\":{\"bottom_units\":\"screen\",\"fill_alpha\":{\"value\":0.5},\"fill_color\":{\"value\":\"lightgrey\"},\"left_units\":\"screen\",\"level\":\"overlay\",\"line_alpha\":{\"value\":1.0},\"line_color\":{\"value\":\"black\"},\"line_dash\":[4,4],\"line_width\":{\"value\":2},\"render_mode\":\"css\",\"right_units\":\"screen\",\"top_units\":\"screen\"},\"id\":\"10186\",\"type\":\"BoxAnnotation\"},{\"attributes\":{\"source\":{\"id\":\"1001\",\"type\":\"ColumnDataSource\"}},\"id\":\"7565\",\"type\":\"CDSView\"}],\"root_ids\":[\"9876\"]},\"title\":\"Bokeh Application\",\"version\":\"1.4.0\"}};\n",
              "  var render_items = [{\"docid\":\"4d16759d-702d-451a-8d63-069a1a37f30c\",\"roots\":{\"9876\":\"08f37322-923f-4987-8b80-6ee2d9068edd\"}}];\n",
              "  root.Bokeh.embed.embed_items_notebook(docs_json, render_items);\n",
              "\n",
              "  }\n",
              "  if (root.Bokeh !== undefined) {\n",
              "    embed_document(root);\n",
              "  } else {\n",
              "    var attempts = 0;\n",
              "    var timer = setInterval(function(root) {\n",
              "      if (root.Bokeh !== undefined) {\n",
              "        clearInterval(timer);\n",
              "        embed_document(root);\n",
              "      } else {\n",
              "        attempts++;\n",
              "        if (attempts > 100) {\n",
              "          clearInterval(timer);\n",
              "          console.log(\"Bokeh: ERROR: Unable to run BokehJS code because BokehJS library is missing\");\n",
              "        }\n",
              "      }\n",
              "    }, 10, root)\n",
              "  }\n",
              "})(window);"
            ],
            "application/vnd.bokehjs_exec.v0+json": ""
          },
          "metadata": {
            "tags": [],
            "application/vnd.bokehjs_exec.v0+json": {
              "id": "9876"
            }
          }
        }
      ]
    },
    {
      "cell_type": "markdown",
      "metadata": {
        "id": "Vs-40wZPr-gS",
        "colab_type": "text"
      },
      "source": [
        "Note that unfortunately it is now yet possible in Bokeh to include a legend for circle size."
      ]
    },
    {
      "cell_type": "markdown",
      "metadata": {
        "id": "aTZ5HGpSIK8S",
        "colab_type": "text"
      },
      "source": [
        "## Visualizations of the linear regression models"
      ]
    },
    {
      "cell_type": "code",
      "metadata": {
        "id": "xXrbvrunIImm",
        "colab_type": "code",
        "colab": {}
      },
      "source": [
        "#imports\n",
        "import pandas as pd\n",
        "import numpy as np\n",
        "import statsmodels.formula.api as smf\n",
        "import statsmodels.api as sm\n",
        "from sklearn import preprocessing\n",
        "from bokeh.io import output_file, show, output_notebook\n",
        "from bokeh.models import ColumnDataSource, HoverTool\n",
        "from bokeh.models import Whisker\n",
        "from bokeh.models import Span\n",
        "from bokeh.models import Legend\n",
        "from bokeh.plotting import figure, show\n",
        "from bokeh.plotting import output_file\n",
        "from bokeh.palettes import viridis\n",
        "from bokeh.palettes import Spectral6\n",
        "from bokeh.models import Panel, Tabs\n",
        "from bokeh.embed import file_html\n",
        "from bokeh.resources import CDN"
      ],
      "execution_count": 0,
      "outputs": []
    },
    {
      "cell_type": "markdown",
      "metadata": {
        "id": "BDv1tc2oIImw",
        "colab_type": "text"
      },
      "source": [
        "Loading the data"
      ]
    },
    {
      "cell_type": "code",
      "metadata": {
        "id": "-3UomdJEIImx",
        "colab_type": "code",
        "colab": {}
      },
      "source": [
        "data = pd.read_csv('/content/drive/My Drive/Social data analysis and visualization/BerigelseKBH.csv') "
      ],
      "execution_count": 0,
      "outputs": []
    },
    {
      "cell_type": "markdown",
      "metadata": {
        "id": "S_RPsTYWIIm1",
        "colab_type": "text"
      },
      "source": [
        ""
      ]
    },
    {
      "cell_type": "markdown",
      "metadata": {
        "id": "H3Bxu_XoIInD",
        "colab_type": "text"
      },
      "source": [
        "### Create data for plot #1"
      ]
    },
    {
      "cell_type": "code",
      "metadata": {
        "scrolled": true,
        "id": "OtEnFvV0IInE",
        "colab_type": "code",
        "outputId": "2affb291-23f3-47be-ea91-289d55b1e727",
        "colab": {
          "base_uri": "https://localhost:8080/",
          "height": 142
        }
      },
      "source": [
        "\n",
        "# plug in the relevant information from the model output that is needed to create the plot\n",
        "\n",
        "# var: name of the variable\n",
        "# coeff: coefficient of the variable\n",
        "# mod: declaring which model it is (1,2,3)\n",
        "# err: the width of the whiskers (95-pct. confidence interval)\n",
        "# idx: controls where the bar is placed on the y-axis\n",
        "# idxh: controls the top of the vertical ends of the whiskers\n",
        "# idxl: controls the bottom of the vertical ends of the whiskers\n",
        "# low: lowest end of the 95-pct. confidence interval\n",
        "# high: highest end of the 95-pct. confidence interval\n",
        "\n",
        "\n",
        "data = [[X3.columns[1]+'3',model3.params[1],'mod3',abs(model3.conf_int().values[1][0]-model3.conf_int().values[1][1]),0.5,0.55,0.45,model3.conf_int().values[1][0],model3.conf_int().values[1][1]],\n",
        "        [X2.columns[1]+'2',model2.params[1],'mod2',abs(model2.conf_int().values[1][0]-model2.conf_int().values[1][1]),1.5,1.55,1.45,model2.conf_int().values[1][0],model2.conf_int().values[1][1]],\n",
        "        [X1.columns[1]+'1',model1.params[1],'mod1',abs(model1.conf_int().values[1][0]-model1.conf_int().values[1][1]),2.5,2.55,2.45,model1.conf_int().values[1][0],model1.conf_int().values[1][1]]]\n",
        "\n",
        "df = pd.DataFrame(data)\n",
        "df.columns = ['var','coeff','mod','err','idx','idxh','idxl','low','high'] \n",
        "df\n"
      ],
      "execution_count": 0,
      "outputs": [
        {
          "output_type": "execute_result",
          "data": {
            "text/html": [
              "<div>\n",
              "<style scoped>\n",
              "    .dataframe tbody tr th:only-of-type {\n",
              "        vertical-align: middle;\n",
              "    }\n",
              "\n",
              "    .dataframe tbody tr th {\n",
              "        vertical-align: top;\n",
              "    }\n",
              "\n",
              "    .dataframe thead th {\n",
              "        text-align: right;\n",
              "    }\n",
              "</style>\n",
              "<table border=\"1\" class=\"dataframe\">\n",
              "  <thead>\n",
              "    <tr style=\"text-align: right;\">\n",
              "      <th></th>\n",
              "      <th>var</th>\n",
              "      <th>coeff</th>\n",
              "      <th>mod</th>\n",
              "      <th>err</th>\n",
              "      <th>idx</th>\n",
              "      <th>idxh</th>\n",
              "      <th>idxl</th>\n",
              "      <th>low</th>\n",
              "      <th>high</th>\n",
              "    </tr>\n",
              "  </thead>\n",
              "  <tbody>\n",
              "    <tr>\n",
              "      <th>0</th>\n",
              "      <td>Share foreign3</td>\n",
              "      <td>0.719997</td>\n",
              "      <td>mod3</td>\n",
              "      <td>2.698937</td>\n",
              "      <td>0.5</td>\n",
              "      <td>0.55</td>\n",
              "      <td>0.45</td>\n",
              "      <td>-0.629471</td>\n",
              "      <td>2.069466</td>\n",
              "    </tr>\n",
              "    <tr>\n",
              "      <th>1</th>\n",
              "      <td>Share foreign2</td>\n",
              "      <td>-0.798886</td>\n",
              "      <td>mod2</td>\n",
              "      <td>0.860551</td>\n",
              "      <td>1.5</td>\n",
              "      <td>1.55</td>\n",
              "      <td>1.45</td>\n",
              "      <td>-1.229161</td>\n",
              "      <td>-0.368610</td>\n",
              "    </tr>\n",
              "    <tr>\n",
              "      <th>2</th>\n",
              "      <td>Share foreign1</td>\n",
              "      <td>-0.746877</td>\n",
              "      <td>mod1</td>\n",
              "      <td>0.803620</td>\n",
              "      <td>2.5</td>\n",
              "      <td>2.55</td>\n",
              "      <td>2.45</td>\n",
              "      <td>-1.148687</td>\n",
              "      <td>-0.345067</td>\n",
              "    </tr>\n",
              "  </tbody>\n",
              "</table>\n",
              "</div>"
            ],
            "text/plain": [
              "              var     coeff   mod       err  idx  idxh  idxl       low  \\\n",
              "0  Share foreign3  0.719997  mod3  2.698937  0.5  0.55  0.45 -0.629471   \n",
              "1  Share foreign2 -0.798886  mod2  0.860551  1.5  1.55  1.45 -1.229161   \n",
              "2  Share foreign1 -0.746877  mod1  0.803620  2.5  2.55  2.45 -1.148687   \n",
              "\n",
              "       high  \n",
              "0  2.069466  \n",
              "1 -0.368610  \n",
              "2 -0.345067  "
            ]
          },
          "metadata": {
            "tags": []
          },
          "execution_count": 22
        }
      ]
    },
    {
      "cell_type": "markdown",
      "metadata": {
        "id": "avi1sTenIInM",
        "colab_type": "text"
      },
      "source": [
        "### Plot #1 with change in share of foreign students"
      ]
    },
    {
      "cell_type": "code",
      "metadata": {
        "id": "CAJMmfLaIInN",
        "colab_type": "code",
        "outputId": "e1966f4a-ca81-4764-a19a-6fbbeb8d0da0",
        "colab": {
          "base_uri": "https://localhost:8080/",
          "height": 361
        }
      },
      "source": [
        "### TAB 1 ###\n",
        "\n",
        "plot1 = figure(title='Coefficients of share of students with foreign background',\n",
        "          x_axis_label='Coefficient', # name of x-axis\n",
        "          y_axis_label='Variable', #name of y-axis #fjern ) + #\n",
        "          y_range=df['var'],\n",
        "          x_range=(-2.25,2.25))# plotting on var axis # udkommenter for var-akse på idx plot\n",
        "\n",
        "#x_range.set({\"start\": -1, \"end\": 1})\n",
        "    \n",
        "models1=[df[(df['mod']=='mod1')&(df['var']==X1.columns[1]+'1')]]\n",
        "\n",
        "names1=['Model 1']\n",
        "\n",
        "colors1=['#3288bd']\n",
        "\n",
        "for model, name, color in zip(models1,names1,colors1):\n",
        "    \n",
        "    dfp=model    \n",
        "        \n",
        "    plot1.rect('coeff', # plotting idx data\n",
        "              'idx',\n",
        "              width='err', \n",
        "              height=0.005,\n",
        "              color=color,\n",
        "              legend=name,\n",
        "              source=dfp)\n",
        "    \n",
        "    plot1.circle('coeff', # plotting idx data\n",
        "              'idx',\n",
        "              color=color,\n",
        "              size=12,\n",
        "              legend=name,\n",
        "              source=dfp)\n",
        "    \n",
        "    plot1.segment(x0='low', # til det sidste på de hjemmelavede whiskers.\n",
        "                 y0='idxl',\n",
        "                 x1='low',\n",
        "                 y1='idxh', \n",
        "                 color=color,\n",
        "                 legend=name,\n",
        "                 line_width=2,\n",
        "                 source=dfp)\n",
        "    \n",
        "    plot1.segment(x0='high', # til det sidste på de hjemmelavede whiskers.\n",
        "                 y0='idxl',\n",
        "                 x1='high',\n",
        "                 y1='idxh', \n",
        "                 color=color,\n",
        "                 legend=name,\n",
        "                 line_width=2,\n",
        "                 source=dfp)\n",
        "\n",
        "# add annotation (citations)\n",
        "\n",
        "citation = Label(x=240, y=380, x_units='screen', y_units='screen',\n",
        "                 text='In Model 1, share foreign is significant.', render_mode='css',\n",
        "                 border_line_color='black', border_line_alpha=1.0,\n",
        "                 background_fill_color='white', background_fill_alpha=10.0, text_font_size='7.4pt')\n",
        "\n",
        "plot1.add_layout(citation)\n",
        "\n",
        "\n",
        "# add arrows\n",
        "plot1.add_layout(Arrow(end=NormalHead(size=10,fill_color=\"black\"),\n",
        "                   x_start=0.2, y_start=2.2, x_end=-0.60, y_end=2.45))\n",
        "    \n",
        "\n",
        "    \n",
        "# add horizontal line\n",
        "vline = Span(location=0, dimension='height', line_color='black', line_width=2)\n",
        "plot1.renderers.extend([vline])\n",
        "\n",
        "# add tooltips + add var name permanently on! \n",
        "hover = HoverTool(tooltips=[('Variable', '@var'),('Coefficient', '@coeff')])\n",
        "plot1.add_tools(hover)\n",
        "\n",
        "plot1.legend.location = \"top_right\"\n",
        "\n",
        "tab1 = Panel(child=plot1, title=\"Ethnicity\") \n",
        "\n",
        "\n",
        "### TAB 2 ###\n",
        "\n",
        "plot2 = figure(title='Coefficients of share of students with foreign background',\n",
        "          x_axis_label='Coefficient', # name of x-axis\n",
        "          y_axis_label='Variable', #name of y-axis \n",
        "          y_range=df['var'],\n",
        "          x_range=(-2.25,2.25))\n",
        "\n",
        "\n",
        "models2=[df[(df['mod']=='mod1')&(df['var']==X1.columns[1]+'1')],\n",
        "        df[(df['mod']=='mod2')&(df['var']==X2.columns[1]+'2')]]\n",
        "\n",
        "names2=['Model 1', 'Model 2']\n",
        "\n",
        "colors2=['#3288bd','#fc8d59']\n",
        "\n",
        "for model, name, color in zip(models2,names2,colors2):\n",
        "    \n",
        "    dfp=model    \n",
        "        \n",
        "    plot2.rect('coeff',\n",
        "              'idx',\n",
        "              width='err', \n",
        "              height=0.005,\n",
        "              color=color,\n",
        "              legend=name,\n",
        "              source=dfp)\n",
        "    \n",
        "    plot2.circle('coeff', \n",
        "              'idx',\n",
        "              color=color,\n",
        "              size=12,\n",
        "              legend=name,\n",
        "              source=dfp)\n",
        "    \n",
        "    plot2.segment(x0='low', \n",
        "                 y0='idxl',\n",
        "                 x1='low',\n",
        "                 y1='idxh', \n",
        "                 color=color,\n",
        "                 legend=name,\n",
        "                 line_width=2,\n",
        "                 source=dfp)\n",
        "    \n",
        "    plot2.segment(x0='high', \n",
        "                 y0='idxl',\n",
        "                 x1='high',\n",
        "                 y1='idxh', \n",
        "                 color=color,\n",
        "                 legend=name,\n",
        "                 line_width=2,\n",
        "                 source=dfp)\n",
        "\n",
        "\n",
        "    \n",
        "# add annotation (citations)\n",
        "\n",
        "citation = Label(x=60, y=360, x_units='screen', y_units='screen',\n",
        "                 text='In Model 2, there is no change.', render_mode='css',\n",
        "                 border_line_color='black', border_line_alpha=1.0,\n",
        "                 background_fill_color='white', background_fill_alpha=10.0, text_font_size='7.4pt')\n",
        "\n",
        "plot2.add_layout(citation)\n",
        "\n",
        "\n",
        "# add arrows\n",
        "plot2.add_layout(Arrow(end=NormalHead(size=10,fill_color=\"black\"),\n",
        "                   x_start=-0.9, y_start=2.1, x_end=-0.82, y_end=1.6))    \n",
        "    \n",
        "    \n",
        "    \n",
        "    \n",
        "\n",
        "# add horizontal line\n",
        "vline = Span(location=0, dimension='height', line_color='black', line_width=2)\n",
        "plot2.renderers.extend([vline])\n",
        "\n",
        "# add tooltips \n",
        "hover = HoverTool(tooltips=[('Variable', '@var'),('Coefficient', '@coeff')])\n",
        "plot2.add_tools(hover)\n",
        "\n",
        "plot2.legend.location = \"top_right\"\n",
        "\n",
        "tab2 = Panel(child=plot2, title=\"Ethnicity + Institutional\") \n",
        "\n",
        "\n",
        "### TAB 3 ###\n",
        "\n",
        "plot3 = figure(title='Coefficients of share of students with foreign background',\n",
        "          x_axis_label='Coefficient', # name of x-axis\n",
        "          y_axis_label='Variable', #name of y-axis #fjern ) + #\n",
        "          y_range=df['var'],\n",
        "          x_range=(-2.25,2.25))# plotting on var axis # udkommenter for var-akse på idx plot\n",
        "\n",
        "\n",
        "models3=[df[(df['mod']=='mod1')&(df['var']==X1.columns[1]+'1')],\n",
        "        df[(df['mod']=='mod2')&(df['var']==X2.columns[1]+'2')],\n",
        "        df[(df['mod']=='mod3')&(df['var']==X3.columns[1]+'3')]]\n",
        "\n",
        "names3=['Model 1', 'Model 2', 'Model 3']\n",
        "\n",
        "colors3=['#3288bd','#fc8d59','#99d594']\n",
        "\n",
        "for model, name, color in zip(models3,names3,colors3):\n",
        "    \n",
        "    dfp=model    \n",
        "        \n",
        "    plot3.rect('coeff', # plotting idx data\n",
        "              'idx',\n",
        "              width='err', \n",
        "              height=0.005,\n",
        "              color=color,\n",
        "              legend=name,\n",
        "              source=dfp)\n",
        "    \n",
        "    \n",
        "    plot3.circle('coeff', # plotting idx data\n",
        "              'idx',\n",
        "              color=color,\n",
        "              size=12,\n",
        "              legend=name,\n",
        "              source=dfp)\n",
        "    \n",
        "    plot3.segment(x0='low', # til det sidste på de hjemmelavede whiskers.\n",
        "                 y0='idxl',\n",
        "                 x1='low',\n",
        "                 y1='idxh', \n",
        "                 color=color,\n",
        "                 legend=name,\n",
        "                 line_width=2,\n",
        "                 source=dfp)\n",
        "    \n",
        "    plot3.segment(x0='high', # til det sidste på de hjemmelavede whiskers.\n",
        "                 y0='idxl',\n",
        "                 x1='high',\n",
        "                 y1='idxh', \n",
        "                 color=color,\n",
        "                 legend=name,\n",
        "                 line_width=2,\n",
        "                 source=dfp)\n",
        "\n",
        "    \n",
        "\n",
        "# add annotation (citations)\n",
        "\n",
        "citation = Label(x=15, y=140, x_units='screen', y_units='screen',\n",
        "                 text='In Model 3, share foreign becomes insignificant.', render_mode='css',\n",
        "                 border_line_color='black', border_line_alpha=1.0,\n",
        "                 background_fill_color='white', background_fill_alpha=10.0, text_font_size='7.4pt')\n",
        "\n",
        "plot3.add_layout(citation)\n",
        "\n",
        "\n",
        "# add arrows\n",
        "plot3.add_layout(Arrow(end=NormalHead(size=10,fill_color=\"black\"),\n",
        "                   x_start=-0.2, y_start=0.83, x_end=0.60, y_end=0.55))\n",
        "\n",
        "    \n",
        "# add horizontal line\n",
        "vline = Span(location=0, dimension='height', line_color='black', line_width=2)\n",
        "plot3.renderers.extend([vline])\n",
        "\n",
        "# add tooltips + add var name permanently on! \n",
        "hover = HoverTool(tooltips=[('Variable', '@var'),('Coefficient', '@coeff')])\n",
        "plot3.add_tools(hover)\n",
        "\n",
        "plot3.legend.location = \"top_right\"\n",
        "\n",
        "tab3 = Panel(child=plot3, title=\"Ethnicity + Institutional + Socio-economic\")    \n",
        "\n",
        "\n",
        "\n",
        "# collect all the tabs\n",
        "tabs = Tabs(tabs=[ tab1, tab2 ,tab3 ])\n",
        "\n",
        "# create and save HTML\n",
        "htmlDAN1 = file_html(tabs, CDN, \"my plot\")\n",
        "htmlDAN1=output_file('htmlDAN1.html')\n",
        "\n",
        "show(tabs)\n"
      ],
      "execution_count": 0,
      "outputs": [
        {
          "output_type": "display_data",
          "data": {
            "application/javascript": [
              "\n",
              "(function(root) {\n",
              "  function now() {\n",
              "    return new Date();\n",
              "  }\n",
              "\n",
              "  var force = true;\n",
              "\n",
              "  if (typeof root._bokeh_onload_callbacks === \"undefined\" || force === true) {\n",
              "    root._bokeh_onload_callbacks = [];\n",
              "    root._bokeh_is_loading = undefined;\n",
              "  }\n",
              "\n",
              "  var JS_MIME_TYPE = 'application/javascript';\n",
              "  var HTML_MIME_TYPE = 'text/html';\n",
              "  var EXEC_MIME_TYPE = 'application/vnd.bokehjs_exec.v0+json';\n",
              "  var CLASS_NAME = 'output_bokeh rendered_html';\n",
              "\n",
              "  /**\n",
              "   * Render data to the DOM node\n",
              "   */\n",
              "  function render(props, node) {\n",
              "    var script = document.createElement(\"script\");\n",
              "    node.appendChild(script);\n",
              "  }\n",
              "\n",
              "  /**\n",
              "   * Handle when an output is cleared or removed\n",
              "   */\n",
              "  function handleClearOutput(event, handle) {\n",
              "    var cell = handle.cell;\n",
              "\n",
              "    var id = cell.output_area._bokeh_element_id;\n",
              "    var server_id = cell.output_area._bokeh_server_id;\n",
              "    // Clean up Bokeh references\n",
              "    if (id != null && id in Bokeh.index) {\n",
              "      Bokeh.index[id].model.document.clear();\n",
              "      delete Bokeh.index[id];\n",
              "    }\n",
              "\n",
              "    if (server_id !== undefined) {\n",
              "      // Clean up Bokeh references\n",
              "      var cmd = \"from bokeh.io.state import curstate; print(curstate().uuid_to_server['\" + server_id + \"'].get_sessions()[0].document.roots[0]._id)\";\n",
              "      cell.notebook.kernel.execute(cmd, {\n",
              "        iopub: {\n",
              "          output: function(msg) {\n",
              "            var id = msg.content.text.trim();\n",
              "            if (id in Bokeh.index) {\n",
              "              Bokeh.index[id].model.document.clear();\n",
              "              delete Bokeh.index[id];\n",
              "            }\n",
              "          }\n",
              "        }\n",
              "      });\n",
              "      // Destroy server and session\n",
              "      var cmd = \"import bokeh.io.notebook as ion; ion.destroy_server('\" + server_id + \"')\";\n",
              "      cell.notebook.kernel.execute(cmd);\n",
              "    }\n",
              "  }\n",
              "\n",
              "  /**\n",
              "   * Handle when a new output is added\n",
              "   */\n",
              "  function handleAddOutput(event, handle) {\n",
              "    var output_area = handle.output_area;\n",
              "    var output = handle.output;\n",
              "\n",
              "    // limit handleAddOutput to display_data with EXEC_MIME_TYPE content only\n",
              "    if ((output.output_type != \"display_data\") || (!output.data.hasOwnProperty(EXEC_MIME_TYPE))) {\n",
              "      return\n",
              "    }\n",
              "\n",
              "    var toinsert = output_area.element.find(\".\" + CLASS_NAME.split(' ')[0]);\n",
              "\n",
              "    if (output.metadata[EXEC_MIME_TYPE][\"id\"] !== undefined) {\n",
              "      toinsert[toinsert.length - 1].firstChild.textContent = output.data[JS_MIME_TYPE];\n",
              "      // store reference to embed id on output_area\n",
              "      output_area._bokeh_element_id = output.metadata[EXEC_MIME_TYPE][\"id\"];\n",
              "    }\n",
              "    if (output.metadata[EXEC_MIME_TYPE][\"server_id\"] !== undefined) {\n",
              "      var bk_div = document.createElement(\"div\");\n",
              "      bk_div.innerHTML = output.data[HTML_MIME_TYPE];\n",
              "      var script_attrs = bk_div.children[0].attributes;\n",
              "      for (var i = 0; i < script_attrs.length; i++) {\n",
              "        toinsert[toinsert.length - 1].firstChild.setAttribute(script_attrs[i].name, script_attrs[i].value);\n",
              "      }\n",
              "      // store reference to server id on output_area\n",
              "      output_area._bokeh_server_id = output.metadata[EXEC_MIME_TYPE][\"server_id\"];\n",
              "    }\n",
              "  }\n",
              "\n",
              "  function register_renderer(events, OutputArea) {\n",
              "\n",
              "    function append_mime(data, metadata, element) {\n",
              "      // create a DOM node to render to\n",
              "      var toinsert = this.create_output_subarea(\n",
              "        metadata,\n",
              "        CLASS_NAME,\n",
              "        EXEC_MIME_TYPE\n",
              "      );\n",
              "      this.keyboard_manager.register_events(toinsert);\n",
              "      // Render to node\n",
              "      var props = {data: data, metadata: metadata[EXEC_MIME_TYPE]};\n",
              "      render(props, toinsert[toinsert.length - 1]);\n",
              "      element.append(toinsert);\n",
              "      return toinsert\n",
              "    }\n",
              "\n",
              "    /* Handle when an output is cleared or removed */\n",
              "    events.on('clear_output.CodeCell', handleClearOutput);\n",
              "    events.on('delete.Cell', handleClearOutput);\n",
              "\n",
              "    /* Handle when a new output is added */\n",
              "    events.on('output_added.OutputArea', handleAddOutput);\n",
              "\n",
              "    /**\n",
              "     * Register the mime type and append_mime function with output_area\n",
              "     */\n",
              "    OutputArea.prototype.register_mime_type(EXEC_MIME_TYPE, append_mime, {\n",
              "      /* Is output safe? */\n",
              "      safe: true,\n",
              "      /* Index of renderer in `output_area.display_order` */\n",
              "      index: 0\n",
              "    });\n",
              "  }\n",
              "\n",
              "  // register the mime type if in Jupyter Notebook environment and previously unregistered\n",
              "  if (root.Jupyter !== undefined) {\n",
              "    var events = require('base/js/events');\n",
              "    var OutputArea = require('notebook/js/outputarea').OutputArea;\n",
              "\n",
              "    if (OutputArea.prototype.mime_types().indexOf(EXEC_MIME_TYPE) == -1) {\n",
              "      register_renderer(events, OutputArea);\n",
              "    }\n",
              "  }\n",
              "\n",
              "  \n",
              "  if (typeof (root._bokeh_timeout) === \"undefined\" || force === true) {\n",
              "    root._bokeh_timeout = Date.now() + 5000;\n",
              "    root._bokeh_failed_load = false;\n",
              "  }\n",
              "\n",
              "  var NB_LOAD_WARNING = {'data': {'text/html':\n",
              "     \"<div style='background-color: #fdd'>\\n\"+\n",
              "     \"<p>\\n\"+\n",
              "     \"BokehJS does not appear to have successfully loaded. If loading BokehJS from CDN, this \\n\"+\n",
              "     \"may be due to a slow or bad network connection. Possible fixes:\\n\"+\n",
              "     \"</p>\\n\"+\n",
              "     \"<ul>\\n\"+\n",
              "     \"<li>re-rerun `output_notebook()` to attempt to load from CDN again, or</li>\\n\"+\n",
              "     \"<li>use INLINE resources instead, as so:</li>\\n\"+\n",
              "     \"</ul>\\n\"+\n",
              "     \"<code>\\n\"+\n",
              "     \"from bokeh.resources import INLINE\\n\"+\n",
              "     \"output_notebook(resources=INLINE)\\n\"+\n",
              "     \"</code>\\n\"+\n",
              "     \"</div>\"}};\n",
              "\n",
              "  function display_loaded() {\n",
              "    var el = document.getElementById(null);\n",
              "    if (el != null) {\n",
              "      el.textContent = \"BokehJS is loading...\";\n",
              "    }\n",
              "    if (root.Bokeh !== undefined) {\n",
              "      if (el != null) {\n",
              "        el.textContent = \"BokehJS \" + root.Bokeh.version + \" successfully loaded.\";\n",
              "      }\n",
              "    } else if (Date.now() < root._bokeh_timeout) {\n",
              "      setTimeout(display_loaded, 100)\n",
              "    }\n",
              "  }\n",
              "\n",
              "\n",
              "  function run_callbacks() {\n",
              "    try {\n",
              "      root._bokeh_onload_callbacks.forEach(function(callback) {\n",
              "        if (callback != null)\n",
              "          callback();\n",
              "      });\n",
              "    } finally {\n",
              "      delete root._bokeh_onload_callbacks\n",
              "    }\n",
              "    console.debug(\"Bokeh: all callbacks have finished\");\n",
              "  }\n",
              "\n",
              "  function load_libs(css_urls, js_urls, callback) {\n",
              "    if (css_urls == null) css_urls = [];\n",
              "    if (js_urls == null) js_urls = [];\n",
              "\n",
              "    root._bokeh_onload_callbacks.push(callback);\n",
              "    if (root._bokeh_is_loading > 0) {\n",
              "      console.debug(\"Bokeh: BokehJS is being loaded, scheduling callback at\", now());\n",
              "      return null;\n",
              "    }\n",
              "    if (js_urls == null || js_urls.length === 0) {\n",
              "      run_callbacks();\n",
              "      return null;\n",
              "    }\n",
              "    console.debug(\"Bokeh: BokehJS not loaded, scheduling load and callback at\", now());\n",
              "    root._bokeh_is_loading = css_urls.length + js_urls.length;\n",
              "\n",
              "    function on_load() {\n",
              "      root._bokeh_is_loading--;\n",
              "      if (root._bokeh_is_loading === 0) {\n",
              "        console.debug(\"Bokeh: all BokehJS libraries/stylesheets loaded\");\n",
              "        run_callbacks()\n",
              "      }\n",
              "    }\n",
              "\n",
              "    function on_error() {\n",
              "      console.error(\"failed to load \" + url);\n",
              "    }\n",
              "\n",
              "    for (var i = 0; i < css_urls.length; i++) {\n",
              "      var url = css_urls[i];\n",
              "      const element = document.createElement(\"link\");\n",
              "      element.onload = on_load;\n",
              "      element.onerror = on_error;\n",
              "      element.rel = \"stylesheet\";\n",
              "      element.type = \"text/css\";\n",
              "      element.href = url;\n",
              "      console.debug(\"Bokeh: injecting link tag for BokehJS stylesheet: \", url);\n",
              "      document.body.appendChild(element);\n",
              "    }\n",
              "\n",
              "    for (var i = 0; i < js_urls.length; i++) {\n",
              "      var url = js_urls[i];\n",
              "      var element = document.createElement('script');\n",
              "      element.onload = on_load;\n",
              "      element.onerror = on_error;\n",
              "      element.async = false;\n",
              "      element.src = url;\n",
              "      console.debug(\"Bokeh: injecting script tag for BokehJS library: \", url);\n",
              "      document.head.appendChild(element);\n",
              "    }\n",
              "  };\n",
              "\n",
              "  function inject_raw_css(css) {\n",
              "    const element = document.createElement(\"style\");\n",
              "    element.appendChild(document.createTextNode(css));\n",
              "    document.body.appendChild(element);\n",
              "  }\n",
              "\n",
              "  \n",
              "  var js_urls = [\"https://cdn.pydata.org/bokeh/release/bokeh-1.4.0.min.js\", \"https://cdn.pydata.org/bokeh/release/bokeh-widgets-1.4.0.min.js\", \"https://cdn.pydata.org/bokeh/release/bokeh-tables-1.4.0.min.js\", \"https://cdn.pydata.org/bokeh/release/bokeh-gl-1.4.0.min.js\"];\n",
              "  var css_urls = [];\n",
              "  \n",
              "\n",
              "  var inline_js = [\n",
              "    function(Bokeh) {\n",
              "      Bokeh.set_log_level(\"info\");\n",
              "    },\n",
              "    function(Bokeh) {\n",
              "    \n",
              "    \n",
              "    }\n",
              "  ];\n",
              "\n",
              "  function run_inline_js() {\n",
              "    \n",
              "    if (root.Bokeh !== undefined || force === true) {\n",
              "      \n",
              "    for (var i = 0; i < inline_js.length; i++) {\n",
              "      inline_js[i].call(root, root.Bokeh);\n",
              "    }\n",
              "    } else if (Date.now() < root._bokeh_timeout) {\n",
              "      setTimeout(run_inline_js, 100);\n",
              "    } else if (!root._bokeh_failed_load) {\n",
              "      console.log(\"Bokeh: BokehJS failed to load within specified timeout.\");\n",
              "      root._bokeh_failed_load = true;\n",
              "    } else if (force !== true) {\n",
              "      var cell = $(document.getElementById(null)).parents('.cell').data().cell;\n",
              "      cell.output_area.append_execute_result(NB_LOAD_WARNING)\n",
              "    }\n",
              "\n",
              "  }\n",
              "\n",
              "  if (root._bokeh_is_loading === 0) {\n",
              "    console.debug(\"Bokeh: BokehJS loaded, going straight to plotting\");\n",
              "    run_inline_js();\n",
              "  } else {\n",
              "    load_libs(css_urls, js_urls, function() {\n",
              "      console.debug(\"Bokeh: BokehJS plotting callback run at\", now());\n",
              "      run_inline_js();\n",
              "    });\n",
              "  }\n",
              "}(window));"
            ],
            "application/vnd.bokehjs_load.v0+json": "\n(function(root) {\n  function now() {\n    return new Date();\n  }\n\n  var force = true;\n\n  if (typeof root._bokeh_onload_callbacks === \"undefined\" || force === true) {\n    root._bokeh_onload_callbacks = [];\n    root._bokeh_is_loading = undefined;\n  }\n\n  \n\n  \n  if (typeof (root._bokeh_timeout) === \"undefined\" || force === true) {\n    root._bokeh_timeout = Date.now() + 5000;\n    root._bokeh_failed_load = false;\n  }\n\n  var NB_LOAD_WARNING = {'data': {'text/html':\n     \"<div style='background-color: #fdd'>\\n\"+\n     \"<p>\\n\"+\n     \"BokehJS does not appear to have successfully loaded. If loading BokehJS from CDN, this \\n\"+\n     \"may be due to a slow or bad network connection. Possible fixes:\\n\"+\n     \"</p>\\n\"+\n     \"<ul>\\n\"+\n     \"<li>re-rerun `output_notebook()` to attempt to load from CDN again, or</li>\\n\"+\n     \"<li>use INLINE resources instead, as so:</li>\\n\"+\n     \"</ul>\\n\"+\n     \"<code>\\n\"+\n     \"from bokeh.resources import INLINE\\n\"+\n     \"output_notebook(resources=INLINE)\\n\"+\n     \"</code>\\n\"+\n     \"</div>\"}};\n\n  function display_loaded() {\n    var el = document.getElementById(null);\n    if (el != null) {\n      el.textContent = \"BokehJS is loading...\";\n    }\n    if (root.Bokeh !== undefined) {\n      if (el != null) {\n        el.textContent = \"BokehJS \" + root.Bokeh.version + \" successfully loaded.\";\n      }\n    } else if (Date.now() < root._bokeh_timeout) {\n      setTimeout(display_loaded, 100)\n    }\n  }\n\n\n  function run_callbacks() {\n    try {\n      root._bokeh_onload_callbacks.forEach(function(callback) {\n        if (callback != null)\n          callback();\n      });\n    } finally {\n      delete root._bokeh_onload_callbacks\n    }\n    console.debug(\"Bokeh: all callbacks have finished\");\n  }\n\n  function load_libs(css_urls, js_urls, callback) {\n    if (css_urls == null) css_urls = [];\n    if (js_urls == null) js_urls = [];\n\n    root._bokeh_onload_callbacks.push(callback);\n    if (root._bokeh_is_loading > 0) {\n      console.debug(\"Bokeh: BokehJS is being loaded, scheduling callback at\", now());\n      return null;\n    }\n    if (js_urls == null || js_urls.length === 0) {\n      run_callbacks();\n      return null;\n    }\n    console.debug(\"Bokeh: BokehJS not loaded, scheduling load and callback at\", now());\n    root._bokeh_is_loading = css_urls.length + js_urls.length;\n\n    function on_load() {\n      root._bokeh_is_loading--;\n      if (root._bokeh_is_loading === 0) {\n        console.debug(\"Bokeh: all BokehJS libraries/stylesheets loaded\");\n        run_callbacks()\n      }\n    }\n\n    function on_error() {\n      console.error(\"failed to load \" + url);\n    }\n\n    for (var i = 0; i < css_urls.length; i++) {\n      var url = css_urls[i];\n      const element = document.createElement(\"link\");\n      element.onload = on_load;\n      element.onerror = on_error;\n      element.rel = \"stylesheet\";\n      element.type = \"text/css\";\n      element.href = url;\n      console.debug(\"Bokeh: injecting link tag for BokehJS stylesheet: \", url);\n      document.body.appendChild(element);\n    }\n\n    for (var i = 0; i < js_urls.length; i++) {\n      var url = js_urls[i];\n      var element = document.createElement('script');\n      element.onload = on_load;\n      element.onerror = on_error;\n      element.async = false;\n      element.src = url;\n      console.debug(\"Bokeh: injecting script tag for BokehJS library: \", url);\n      document.head.appendChild(element);\n    }\n  };\n\n  function inject_raw_css(css) {\n    const element = document.createElement(\"style\");\n    element.appendChild(document.createTextNode(css));\n    document.body.appendChild(element);\n  }\n\n  \n  var js_urls = [\"https://cdn.pydata.org/bokeh/release/bokeh-1.4.0.min.js\", \"https://cdn.pydata.org/bokeh/release/bokeh-widgets-1.4.0.min.js\", \"https://cdn.pydata.org/bokeh/release/bokeh-tables-1.4.0.min.js\", \"https://cdn.pydata.org/bokeh/release/bokeh-gl-1.4.0.min.js\"];\n  var css_urls = [];\n  \n\n  var inline_js = [\n    function(Bokeh) {\n      Bokeh.set_log_level(\"info\");\n    },\n    function(Bokeh) {\n    \n    \n    }\n  ];\n\n  function run_inline_js() {\n    \n    if (root.Bokeh !== undefined || force === true) {\n      \n    for (var i = 0; i < inline_js.length; i++) {\n      inline_js[i].call(root, root.Bokeh);\n    }\n    } else if (Date.now() < root._bokeh_timeout) {\n      setTimeout(run_inline_js, 100);\n    } else if (!root._bokeh_failed_load) {\n      console.log(\"Bokeh: BokehJS failed to load within specified timeout.\");\n      root._bokeh_failed_load = true;\n    } else if (force !== true) {\n      var cell = $(document.getElementById(null)).parents('.cell').data().cell;\n      cell.output_area.append_execute_result(NB_LOAD_WARNING)\n    }\n\n  }\n\n  if (root._bokeh_is_loading === 0) {\n    console.debug(\"Bokeh: BokehJS loaded, going straight to plotting\");\n    run_inline_js();\n  } else {\n    load_libs(css_urls, js_urls, function() {\n      console.debug(\"Bokeh: BokehJS plotting callback run at\", now());\n      run_inline_js();\n    });\n  }\n}(window));"
          },
          "metadata": {
            "tags": []
          }
        },
        {
          "output_type": "error",
          "ename": "RuntimeError",
          "evalue": "ignored",
          "traceback": [
            "\u001b[0;31m---------------------------------------------------------------------------\u001b[0m",
            "\u001b[0;31mRuntimeError\u001b[0m                              Traceback (most recent call last)",
            "\u001b[0;32m<ipython-input-23-91e442abe5db>\u001b[0m in \u001b[0;36m<module>\u001b[0;34m()\u001b[0m\n\u001b[1;32m    260\u001b[0m \u001b[0mhtmlDAN1\u001b[0m\u001b[0;34m=\u001b[0m\u001b[0moutput_file\u001b[0m\u001b[0;34m(\u001b[0m\u001b[0;34m'htmlDAN1.html'\u001b[0m\u001b[0;34m)\u001b[0m\u001b[0;34m\u001b[0m\u001b[0;34m\u001b[0m\u001b[0m\n\u001b[1;32m    261\u001b[0m \u001b[0;34m\u001b[0m\u001b[0m\n\u001b[0;32m--> 262\u001b[0;31m \u001b[0mshow\u001b[0m\u001b[0;34m(\u001b[0m\u001b[0mtabs\u001b[0m\u001b[0;34m)\u001b[0m\u001b[0;34m\u001b[0m\u001b[0;34m\u001b[0m\u001b[0m\n\u001b[0m",
            "\u001b[0;32m/usr/local/lib/python3.6/dist-packages/bokeh/io/showing.py\u001b[0m in \u001b[0;36mshow\u001b[0;34m(obj, browser, new, notebook_handle, notebook_url, **kw)\u001b[0m\n\u001b[1;32m    143\u001b[0m         \u001b[0;32mreturn\u001b[0m \u001b[0mrun_notebook_hook\u001b[0m\u001b[0;34m(\u001b[0m\u001b[0mstate\u001b[0m\u001b[0;34m.\u001b[0m\u001b[0mnotebook_type\u001b[0m\u001b[0;34m,\u001b[0m \u001b[0;34m'app'\u001b[0m\u001b[0;34m,\u001b[0m \u001b[0mobj\u001b[0m\u001b[0;34m,\u001b[0m \u001b[0mstate\u001b[0m\u001b[0;34m,\u001b[0m \u001b[0mnotebook_url\u001b[0m\u001b[0;34m,\u001b[0m \u001b[0;34m**\u001b[0m\u001b[0mkw\u001b[0m\u001b[0;34m)\u001b[0m\u001b[0;34m\u001b[0m\u001b[0;34m\u001b[0m\u001b[0m\n\u001b[1;32m    144\u001b[0m \u001b[0;34m\u001b[0m\u001b[0m\n\u001b[0;32m--> 145\u001b[0;31m     \u001b[0;32mreturn\u001b[0m \u001b[0m_show_with_state\u001b[0m\u001b[0;34m(\u001b[0m\u001b[0mobj\u001b[0m\u001b[0;34m,\u001b[0m \u001b[0mstate\u001b[0m\u001b[0;34m,\u001b[0m \u001b[0mbrowser\u001b[0m\u001b[0;34m,\u001b[0m \u001b[0mnew\u001b[0m\u001b[0;34m,\u001b[0m \u001b[0mnotebook_handle\u001b[0m\u001b[0;34m=\u001b[0m\u001b[0mnotebook_handle\u001b[0m\u001b[0;34m)\u001b[0m\u001b[0;34m\u001b[0m\u001b[0;34m\u001b[0m\u001b[0m\n\u001b[0m\u001b[1;32m    146\u001b[0m \u001b[0;34m\u001b[0m\u001b[0m\n\u001b[1;32m    147\u001b[0m \u001b[0;31m#-----------------------------------------------------------------------------\u001b[0m\u001b[0;34m\u001b[0m\u001b[0;34m\u001b[0m\u001b[0;34m\u001b[0m\u001b[0m\n",
            "\u001b[0;32m/usr/local/lib/python3.6/dist-packages/bokeh/io/showing.py\u001b[0m in \u001b[0;36m_show_with_state\u001b[0;34m(obj, state, browser, new, notebook_handle)\u001b[0m\n\u001b[1;32m    177\u001b[0m \u001b[0;34m\u001b[0m\u001b[0m\n\u001b[1;32m    178\u001b[0m     \u001b[0;32mif\u001b[0m \u001b[0mstate\u001b[0m\u001b[0;34m.\u001b[0m\u001b[0mnotebook\u001b[0m\u001b[0;34m:\u001b[0m\u001b[0;34m\u001b[0m\u001b[0;34m\u001b[0m\u001b[0m\n\u001b[0;32m--> 179\u001b[0;31m         \u001b[0mcomms_handle\u001b[0m \u001b[0;34m=\u001b[0m \u001b[0mrun_notebook_hook\u001b[0m\u001b[0;34m(\u001b[0m\u001b[0mstate\u001b[0m\u001b[0;34m.\u001b[0m\u001b[0mnotebook_type\u001b[0m\u001b[0;34m,\u001b[0m \u001b[0;34m'doc'\u001b[0m\u001b[0;34m,\u001b[0m \u001b[0mobj\u001b[0m\u001b[0;34m,\u001b[0m \u001b[0mstate\u001b[0m\u001b[0;34m,\u001b[0m \u001b[0mnotebook_handle\u001b[0m\u001b[0;34m)\u001b[0m\u001b[0;34m\u001b[0m\u001b[0;34m\u001b[0m\u001b[0m\n\u001b[0m\u001b[1;32m    180\u001b[0m         \u001b[0mshown\u001b[0m \u001b[0;34m=\u001b[0m \u001b[0;32mTrue\u001b[0m\u001b[0;34m\u001b[0m\u001b[0;34m\u001b[0m\u001b[0m\n\u001b[1;32m    181\u001b[0m \u001b[0;34m\u001b[0m\u001b[0m\n",
            "\u001b[0;32m/usr/local/lib/python3.6/dist-packages/bokeh/io/notebook.py\u001b[0m in \u001b[0;36mrun_notebook_hook\u001b[0;34m(notebook_type, action, *args, **kw)\u001b[0m\n\u001b[1;32m    300\u001b[0m     \u001b[0;32mif\u001b[0m \u001b[0m_HOOKS\u001b[0m\u001b[0;34m[\u001b[0m\u001b[0mnotebook_type\u001b[0m\u001b[0;34m]\u001b[0m\u001b[0;34m[\u001b[0m\u001b[0maction\u001b[0m\u001b[0;34m]\u001b[0m \u001b[0;32mis\u001b[0m \u001b[0;32mNone\u001b[0m\u001b[0;34m:\u001b[0m\u001b[0;34m\u001b[0m\u001b[0;34m\u001b[0m\u001b[0m\n\u001b[1;32m    301\u001b[0m         \u001b[0;32mraise\u001b[0m \u001b[0mRuntimeError\u001b[0m\u001b[0;34m(\u001b[0m\u001b[0;34m\"notebook hook for %r did not install %r action\"\u001b[0m \u001b[0;34m%\u001b[0m \u001b[0mnotebook_type\u001b[0m\u001b[0;34m,\u001b[0m \u001b[0maction\u001b[0m\u001b[0;34m)\u001b[0m\u001b[0;34m\u001b[0m\u001b[0;34m\u001b[0m\u001b[0m\n\u001b[0;32m--> 302\u001b[0;31m     \u001b[0;32mreturn\u001b[0m \u001b[0m_HOOKS\u001b[0m\u001b[0;34m[\u001b[0m\u001b[0mnotebook_type\u001b[0m\u001b[0;34m]\u001b[0m\u001b[0;34m[\u001b[0m\u001b[0maction\u001b[0m\u001b[0;34m]\u001b[0m\u001b[0;34m(\u001b[0m\u001b[0;34m*\u001b[0m\u001b[0margs\u001b[0m\u001b[0;34m,\u001b[0m \u001b[0;34m**\u001b[0m\u001b[0mkw\u001b[0m\u001b[0;34m)\u001b[0m\u001b[0;34m\u001b[0m\u001b[0;34m\u001b[0m\u001b[0m\n\u001b[0m\u001b[1;32m    303\u001b[0m \u001b[0;34m\u001b[0m\u001b[0m\n\u001b[1;32m    304\u001b[0m \u001b[0;31m#-----------------------------------------------------------------------------\u001b[0m\u001b[0;34m\u001b[0m\u001b[0;34m\u001b[0m\u001b[0;34m\u001b[0m\u001b[0m\n",
            "\u001b[0;32m/usr/local/lib/python3.6/dist-packages/google/colab/_import_hooks/_bokeh.py\u001b[0m in \u001b[0;36m_show_doc\u001b[0;34m(obj, state, notebook_handle)\u001b[0m\n\u001b[1;32m     83\u001b[0m \u001b[0;34m\u001b[0m\u001b[0m\n\u001b[1;32m     84\u001b[0m   \u001b[0;31m# Call the default bokeh rendering path.\u001b[0m\u001b[0;34m\u001b[0m\u001b[0;34m\u001b[0m\u001b[0;34m\u001b[0m\u001b[0m\n\u001b[0;32m---> 85\u001b[0;31m   \u001b[0;32mreturn\u001b[0m \u001b[0m_bokeh_io_module\u001b[0m\u001b[0;34m.\u001b[0m\u001b[0mnotebook\u001b[0m\u001b[0;34m.\u001b[0m\u001b[0mshow_doc\u001b[0m\u001b[0;34m(\u001b[0m\u001b[0mobj\u001b[0m\u001b[0;34m,\u001b[0m \u001b[0mstate\u001b[0m\u001b[0;34m,\u001b[0m \u001b[0mnotebook_handle\u001b[0m\u001b[0;34m)\u001b[0m\u001b[0;34m\u001b[0m\u001b[0;34m\u001b[0m\u001b[0m\n\u001b[0m\u001b[1;32m     86\u001b[0m \u001b[0;34m\u001b[0m\u001b[0m\n\u001b[1;32m     87\u001b[0m \u001b[0;34m\u001b[0m\u001b[0m\n",
            "\u001b[0;32m/usr/local/lib/python3.6/dist-packages/bokeh/io/notebook.py\u001b[0m in \u001b[0;36mshow_doc\u001b[0;34m(obj, state, notebook_handle)\u001b[0m\n\u001b[1;32m    506\u001b[0m     '''\n\u001b[1;32m    507\u001b[0m     \u001b[0;32mif\u001b[0m \u001b[0mobj\u001b[0m \u001b[0;32mnot\u001b[0m \u001b[0;32min\u001b[0m \u001b[0mstate\u001b[0m\u001b[0;34m.\u001b[0m\u001b[0mdocument\u001b[0m\u001b[0;34m.\u001b[0m\u001b[0mroots\u001b[0m\u001b[0;34m:\u001b[0m\u001b[0;34m\u001b[0m\u001b[0;34m\u001b[0m\u001b[0m\n\u001b[0;32m--> 508\u001b[0;31m         \u001b[0mstate\u001b[0m\u001b[0;34m.\u001b[0m\u001b[0mdocument\u001b[0m\u001b[0;34m.\u001b[0m\u001b[0madd_root\u001b[0m\u001b[0;34m(\u001b[0m\u001b[0mobj\u001b[0m\u001b[0;34m)\u001b[0m\u001b[0;34m\u001b[0m\u001b[0;34m\u001b[0m\u001b[0m\n\u001b[0m\u001b[1;32m    509\u001b[0m \u001b[0;34m\u001b[0m\u001b[0m\n\u001b[1;32m    510\u001b[0m     \u001b[0;32mfrom\u001b[0m \u001b[0;34m.\u001b[0m\u001b[0;34m.\u001b[0m\u001b[0membed\u001b[0m\u001b[0;34m.\u001b[0m\u001b[0mnotebook\u001b[0m \u001b[0;32mimport\u001b[0m \u001b[0mnotebook_content\u001b[0m\u001b[0;34m\u001b[0m\u001b[0;34m\u001b[0m\u001b[0m\n",
            "\u001b[0;32m/usr/local/lib/python3.6/dist-packages/bokeh/document/document.py\u001b[0m in \u001b[0;36madd_root\u001b[0;34m(self, model, setter)\u001b[0m\n\u001b[1;32m    302\u001b[0m             \u001b[0mself\u001b[0m\u001b[0;34m.\u001b[0m\u001b[0m_roots\u001b[0m\u001b[0;34m.\u001b[0m\u001b[0mappend\u001b[0m\u001b[0;34m(\u001b[0m\u001b[0mmodel\u001b[0m\u001b[0;34m)\u001b[0m\u001b[0;34m\u001b[0m\u001b[0;34m\u001b[0m\u001b[0m\n\u001b[1;32m    303\u001b[0m         \u001b[0;32mfinally\u001b[0m\u001b[0;34m:\u001b[0m\u001b[0;34m\u001b[0m\u001b[0;34m\u001b[0m\u001b[0m\n\u001b[0;32m--> 304\u001b[0;31m             \u001b[0mself\u001b[0m\u001b[0;34m.\u001b[0m\u001b[0m_pop_all_models_freeze\u001b[0m\u001b[0;34m(\u001b[0m\u001b[0;34m)\u001b[0m\u001b[0;34m\u001b[0m\u001b[0;34m\u001b[0m\u001b[0m\n\u001b[0m\u001b[1;32m    305\u001b[0m         \u001b[0mself\u001b[0m\u001b[0;34m.\u001b[0m\u001b[0m_trigger_on_change\u001b[0m\u001b[0;34m(\u001b[0m\u001b[0mRootAddedEvent\u001b[0m\u001b[0;34m(\u001b[0m\u001b[0mself\u001b[0m\u001b[0;34m,\u001b[0m \u001b[0mmodel\u001b[0m\u001b[0;34m,\u001b[0m \u001b[0msetter\u001b[0m\u001b[0;34m)\u001b[0m\u001b[0;34m)\u001b[0m\u001b[0;34m\u001b[0m\u001b[0;34m\u001b[0m\u001b[0m\n\u001b[1;32m    306\u001b[0m \u001b[0;34m\u001b[0m\u001b[0m\n",
            "\u001b[0;32m/usr/local/lib/python3.6/dist-packages/bokeh/document/document.py\u001b[0m in \u001b[0;36m_pop_all_models_freeze\u001b[0;34m(self)\u001b[0m\n\u001b[1;32m   1017\u001b[0m         \u001b[0mself\u001b[0m\u001b[0;34m.\u001b[0m\u001b[0m_all_models_freeze_count\u001b[0m \u001b[0;34m-=\u001b[0m \u001b[0;36m1\u001b[0m\u001b[0;34m\u001b[0m\u001b[0;34m\u001b[0m\u001b[0m\n\u001b[1;32m   1018\u001b[0m         \u001b[0;32mif\u001b[0m \u001b[0mself\u001b[0m\u001b[0;34m.\u001b[0m\u001b[0m_all_models_freeze_count\u001b[0m \u001b[0;34m==\u001b[0m \u001b[0;36m0\u001b[0m\u001b[0;34m:\u001b[0m\u001b[0;34m\u001b[0m\u001b[0;34m\u001b[0m\u001b[0m\n\u001b[0;32m-> 1019\u001b[0;31m             \u001b[0mself\u001b[0m\u001b[0;34m.\u001b[0m\u001b[0m_recompute_all_models\u001b[0m\u001b[0;34m(\u001b[0m\u001b[0;34m)\u001b[0m\u001b[0;34m\u001b[0m\u001b[0;34m\u001b[0m\u001b[0m\n\u001b[0m\u001b[1;32m   1020\u001b[0m \u001b[0;34m\u001b[0m\u001b[0m\n\u001b[1;32m   1021\u001b[0m     \u001b[0;32mdef\u001b[0m \u001b[0m_recompute_all_models\u001b[0m\u001b[0;34m(\u001b[0m\u001b[0mself\u001b[0m\u001b[0;34m)\u001b[0m\u001b[0;34m:\u001b[0m\u001b[0;34m\u001b[0m\u001b[0;34m\u001b[0m\u001b[0m\n",
            "\u001b[0;32m/usr/local/lib/python3.6/dist-packages/bokeh/document/document.py\u001b[0m in \u001b[0;36m_recompute_all_models\u001b[0;34m(self)\u001b[0m\n\u001b[1;32m   1040\u001b[0m             \u001b[0md\u001b[0m\u001b[0;34m.\u001b[0m\u001b[0m_detach_document\u001b[0m\u001b[0;34m(\u001b[0m\u001b[0;34m)\u001b[0m\u001b[0;34m\u001b[0m\u001b[0;34m\u001b[0m\u001b[0m\n\u001b[1;32m   1041\u001b[0m         \u001b[0;32mfor\u001b[0m \u001b[0ma\u001b[0m \u001b[0;32min\u001b[0m \u001b[0mto_attach\u001b[0m\u001b[0;34m:\u001b[0m\u001b[0;34m\u001b[0m\u001b[0;34m\u001b[0m\u001b[0m\n\u001b[0;32m-> 1042\u001b[0;31m             \u001b[0ma\u001b[0m\u001b[0;34m.\u001b[0m\u001b[0m_attach_document\u001b[0m\u001b[0;34m(\u001b[0m\u001b[0mself\u001b[0m\u001b[0;34m)\u001b[0m\u001b[0;34m\u001b[0m\u001b[0;34m\u001b[0m\u001b[0m\n\u001b[0m\u001b[1;32m   1043\u001b[0m         \u001b[0mself\u001b[0m\u001b[0;34m.\u001b[0m\u001b[0m_all_models\u001b[0m \u001b[0;34m=\u001b[0m \u001b[0mrecomputed\u001b[0m\u001b[0;34m\u001b[0m\u001b[0;34m\u001b[0m\u001b[0m\n\u001b[1;32m   1044\u001b[0m         \u001b[0mself\u001b[0m\u001b[0;34m.\u001b[0m\u001b[0m_all_models_by_name\u001b[0m \u001b[0;34m=\u001b[0m \u001b[0mrecomputed_by_name\u001b[0m\u001b[0;34m\u001b[0m\u001b[0;34m\u001b[0m\u001b[0m\n",
            "\u001b[0;32m/usr/local/lib/python3.6/dist-packages/bokeh/model.py\u001b[0m in \u001b[0;36m_attach_document\u001b[0;34m(self, doc)\u001b[0m\n\u001b[1;32m    725\u001b[0m         '''\n\u001b[1;32m    726\u001b[0m         \u001b[0;32mif\u001b[0m \u001b[0mself\u001b[0m\u001b[0;34m.\u001b[0m\u001b[0m_document\u001b[0m \u001b[0;32mis\u001b[0m \u001b[0;32mnot\u001b[0m \u001b[0;32mNone\u001b[0m \u001b[0;32mand\u001b[0m \u001b[0mself\u001b[0m\u001b[0;34m.\u001b[0m\u001b[0m_document\u001b[0m \u001b[0;32mis\u001b[0m \u001b[0;32mnot\u001b[0m \u001b[0mdoc\u001b[0m\u001b[0;34m:\u001b[0m\u001b[0;34m\u001b[0m\u001b[0;34m\u001b[0m\u001b[0m\n\u001b[0;32m--> 727\u001b[0;31m             \u001b[0;32mraise\u001b[0m \u001b[0mRuntimeError\u001b[0m\u001b[0;34m(\u001b[0m\u001b[0;34m\"Models must be owned by only a single document, %r is already in a doc\"\u001b[0m \u001b[0;34m%\u001b[0m \u001b[0;34m(\u001b[0m\u001b[0mself\u001b[0m\u001b[0;34m)\u001b[0m\u001b[0;34m)\u001b[0m\u001b[0;34m\u001b[0m\u001b[0;34m\u001b[0m\u001b[0m\n\u001b[0m\u001b[1;32m    728\u001b[0m         \u001b[0mdoc\u001b[0m\u001b[0;34m.\u001b[0m\u001b[0mtheme\u001b[0m\u001b[0;34m.\u001b[0m\u001b[0mapply_to_model\u001b[0m\u001b[0;34m(\u001b[0m\u001b[0mself\u001b[0m\u001b[0;34m)\u001b[0m\u001b[0;34m\u001b[0m\u001b[0;34m\u001b[0m\u001b[0m\n\u001b[1;32m    729\u001b[0m         \u001b[0mself\u001b[0m\u001b[0;34m.\u001b[0m\u001b[0m_document\u001b[0m \u001b[0;34m=\u001b[0m \u001b[0mdoc\u001b[0m\u001b[0;34m\u001b[0m\u001b[0;34m\u001b[0m\u001b[0m\n",
            "\u001b[0;31mRuntimeError\u001b[0m: Models must be owned by only a single document, UnionRenderers(id='4720', ...) is already in a doc"
          ]
        }
      ]
    },
    {
      "cell_type": "markdown",
      "metadata": {
        "id": "bjCg8NanIInQ",
        "colab_type": "text"
      },
      "source": [
        "### Create data for plot #2\n",
        "\n",
        "Now we want to let the reader dive into the coefficients of all the variable that were included in model 3, and allow them to explore what variables actually do impact the performance of the schools."
      ]
    },
    {
      "cell_type": "code",
      "metadata": {
        "scrolled": true,
        "id": "ZRTBZBefIInR",
        "colab_type": "code",
        "colab": {}
      },
      "source": [
        "# Same procedure as for plot #1\n",
        "\n",
        "\n",
        "data = [[X3.columns[6],model3.params[6],'mod2',abs(model3.conf_int().values[6][0]-model3.conf_int().values[6][1]),0.5,0.55,0.45,model3.conf_int().values[6][0],model3.conf_int().values[6][1]],\n",
        "        [X3.columns[5],model3.params[5],'mod2',abs(model3.conf_int().values[5][0]-model3.conf_int().values[5][1]),1.5,1.55,1.45,model3.conf_int().values[5][0],model3.conf_int().values[5][1]],\n",
        "        [X3.columns[4],model3.params[4],'mod2',abs(model3.conf_int().values[4][0]-model3.conf_int().values[4][1]),2.5,2.55,2.45,model3.conf_int().values[4][0],model3.conf_int().values[4][1]],\n",
        "        [X3.columns[3],model3.params[3],'mod2',abs(model3.conf_int().values[3][0]-model3.conf_int().values[3][1]),3.5,3.55,3.45,model3.conf_int().values[3][0],model3.conf_int().values[3][1]],\n",
        "        [X3.columns[2],model3.params[2],'mod2',abs(model3.conf_int().values[2][0]-model3.conf_int().values[2][1]),4.5,4.55,4.45,model3.conf_int().values[2][0],model3.conf_int().values[2][1]],\n",
        "        [X3.columns[1],model3.params[1],'mod1',abs(model3.conf_int().values[1][0]-model3.conf_int().values[1][1]),5.5,5.55,5.45,model3.conf_int().values[1][0],model3.conf_int().values[1][1]]]\n",
        "\n",
        "\n",
        "df = pd.DataFrame(data)\n",
        "df.columns = ['var','coeff','mod','err','idx','idxh','idxl','low','high']\n",
        "df"
      ],
      "execution_count": 0,
      "outputs": []
    },
    {
      "cell_type": "markdown",
      "metadata": {
        "id": "beR8yuH7IInU",
        "colab_type": "text"
      },
      "source": [
        "### Plot #2 (all coefficients from Model 3)"
      ]
    },
    {
      "cell_type": "code",
      "metadata": {
        "id": "QDVukYpdIInV",
        "colab_type": "code",
        "colab": {}
      },
      "source": [
        "\n",
        "\n",
        "from bokeh.models import ColumnDataSource, Label, LabelSet, Range1d\n",
        "from bokeh.plotting import figure, output_file, show\n",
        "from bokeh.models import Arrow, NormalHead, OpenHead, VeeHead\n",
        "\n",
        "source = ColumnDataSource(df)\n",
        "\n",
        "plot = figure(title='Coefficients of Model 3 (Ethnicity + Institutional + Socio-economic)',\n",
        "          x_axis_label='Coefficient', # name of x-axis\n",
        "          y_axis_label='Variable', #name of y-axis #fjern ) + #\n",
        "          y_range=df['var'],\n",
        "          x_range=(-2.75,2.75))# plotting on var axis # udkommenter for var-akse på idx plot\n",
        "\n",
        "plot.rect('coeff', # plotting idx data\n",
        "          'idx',\n",
        "          width='err', \n",
        "          height=0.005,\n",
        "          color='#99d594',\n",
        "          source=source)\n",
        "\n",
        "\n",
        "plot.circle('coeff', # plotting idx data\n",
        "              'idx',\n",
        "              size=10,\n",
        "              color='#99d594',\n",
        "              source=source)\n",
        "\n",
        "plot.segment(x0='low', # til det sidste på de hjemmelavede whiskers.\n",
        "                 y0='idxl',\n",
        "                 x1='low',\n",
        "                 y1='idxh', \n",
        "                 line_width=2,\n",
        "                 color='#99d594',\n",
        "                 source=source)\n",
        "    \n",
        "plot.segment(x0='high', # til det sidste på de hjemmelavede whiskers.\n",
        "                 y0='idxl',\n",
        "                 x1='high',\n",
        "                 y1='idxh', \n",
        "                 line_width=2,\n",
        "                 color='#99d594',\n",
        "                 source=source)\n",
        "\n",
        "# add horizontal line\n",
        "vline = Span(location=0, dimension='height', line_color='black', line_width=2)\n",
        "plot.renderers.extend([vline])\n",
        "\n",
        "# add tooltips \n",
        "hover = HoverTool(tooltips=[('Variable', '@var'),('Coefficient', '@coeff')]) \n",
        "plot.add_tools(hover)\n",
        "\n",
        "# add annotation (citations)\n",
        "\n",
        "citation = Label(x=12, y=160, x_units='screen', y_units='screen',\n",
        "                 text='Only avg. household income is significant.', render_mode='css',\n",
        "                 border_line_color='black', border_line_alpha=1.0,\n",
        "                 background_fill_color='white', background_fill_alpha=10.0, text_font_size='7.4pt')\n",
        "\n",
        "plot.add_layout(citation)\n",
        "\n",
        "citation2 = Label(x=5, y=10, x_units='screen', y_units='screen',\n",
        "                 text='Although education score is pretty close!', render_mode='css',\n",
        "                 border_line_color='black', border_line_alpha=1.0,\n",
        "                 background_fill_color='white', background_fill_alpha=10.0, text_font_size='7.4pt')\n",
        "\n",
        "plot.add_layout(citation2)\n",
        "\n",
        "# add arrows\n",
        "plot.add_layout(Arrow(end=NormalHead(size=10,fill_color=\"black\"),\n",
        "                   x_start=-0.5, y_start=1.9, x_end=0.4, y_end=1.6))\n",
        "\n",
        "plot.add_layout(Arrow(end=NormalHead(size=10,fill_color=\"black\"),\n",
        "                   x_start=-0.45, y_start=0.15, x_end=-0.15, y_end=0.4))\n",
        "\n",
        "# create and save HTML\n",
        "htmlDAN2 = file_html(plot, CDN, \"my plot\")\n",
        "htmlDAN2=output_file('htmlDAN2.html')\n",
        "\n",
        "show(plot)"
      ],
      "execution_count": 0,
      "outputs": []
    },
    {
      "cell_type": "markdown",
      "metadata": {
        "id": "VmOK8wCXIInX",
        "colab_type": "text"
      },
      "source": [
        "### Create data for plot #3\n",
        "\n",
        "This plot is created with \"fake\" data as a visual aid in explaining the concept behind linear regression, coefficients, confidence intervals and significance. Basically, it is a toy example that prepares the reader for the real deal. "
      ]
    },
    {
      "cell_type": "code",
      "metadata": {
        "id": "U0qcbwIbIInY",
        "colab_type": "code",
        "colab": {}
      },
      "source": [
        "# Same procedure as for plot #1\n",
        "\n",
        "\n",
        "data = [['Books read',-0.103,'mod1',0.4,0.5,0.55,0.45,-0.303,0.097],\n",
        "        ['Meetings attended',0.06,'mod1',0.6,1.5,1.55,1.45,-0.24,0.36],\n",
        "        ['Portions of fast food',-0.34,'mod1',0.24,2.5,2.55,2.45,-0.46,-0.22],\n",
        "        ['Hours at the gym',0.54,'mod1',0.16,3.5,3.55,3.45,0.46,0.62]]\n",
        "\n",
        "\n",
        "df = pd.DataFrame(data)\n",
        "df.columns = ['var','coeff','mod','err','idx','idxh','idxl','low','high']\n",
        "df"
      ],
      "execution_count": 0,
      "outputs": []
    },
    {
      "cell_type": "markdown",
      "metadata": {
        "id": "azFkWwnrIIne",
        "colab_type": "text"
      },
      "source": [
        "### Plot #3 (toy example about weight-loss)"
      ]
    },
    {
      "cell_type": "code",
      "metadata": {
        "id": "2X4Awz6cIIne",
        "colab_type": "code",
        "colab": {}
      },
      "source": [
        "\n",
        "source = ColumnDataSource(df)\n",
        "\n",
        "plotF = figure(title='Fake coefficient of a weight-loss model',\n",
        "          x_axis_label='Coefficient', # name of x-axis\n",
        "          y_axis_label='Variable', #name of y-axis \n",
        "          y_range=df['var'],\n",
        "          x_range=(-0.75,0.75))\n",
        "\n",
        "plotF.rect('coeff', # plotting the horisontal bar that is the width of the confidence interval\n",
        "          'idx',\n",
        "          width='err', \n",
        "          height=0.005,\n",
        "          color='#66c2a5',\n",
        "          source=source)\n",
        "\n",
        "\n",
        "plotF.circle('coeff', # plotting a dot at the point of the coefficient\n",
        "              'idx',\n",
        "              size=10,\n",
        "              color='#66c2a5',\n",
        "              source=source)\n",
        "\n",
        "plotF.segment(x0='low', # vertical end of whiskers (bottom).\n",
        "                 y0='idxl',\n",
        "                 x1='low',\n",
        "                 y1='idxh', \n",
        "                 line_width=2,\n",
        "                 color='#66c2a5',\n",
        "                 source=source)\n",
        "    \n",
        "plotF.segment(x0='high', # vertical end of whiskers (top).\n",
        "                 y0='idxl',\n",
        "                 x1='high',\n",
        "                 y1='idxh', \n",
        "                 line_width=2,\n",
        "                 color='#66c2a5',\n",
        "                 source=source)\n",
        "\n",
        "# add horizontal line\n",
        "vline = Span(location=0, dimension='height', line_color='black', line_width=2)\n",
        "plotF.renderers.extend([vline])\n",
        "\n",
        "# add tooltips\n",
        "hover = HoverTool(tooltips=[('Variable', '@var'),('Coefficient', '@coeff')]) \n",
        "plotF.add_tools(hover)\n",
        "\n",
        "# create and save HTML\n",
        "htmlDAN3 = file_html(plotF, CDN, \"my plot\")\n",
        "htmlDAN3=output_file('htmlDAN3.html')\n",
        "\n",
        "show(plotF)"
      ],
      "execution_count": 0,
      "outputs": []
    },
    {
      "cell_type": "code",
      "metadata": {
        "id": "sS6ULxFFIInh",
        "colab_type": "code",
        "colab": {}
      },
      "source": [
        ""
      ],
      "execution_count": 0,
      "outputs": []
    },
    {
      "cell_type": "code",
      "metadata": {
        "id": "s7YEDxkGk5V8",
        "colab_type": "code",
        "colab": {}
      },
      "source": [
        ""
      ],
      "execution_count": 0,
      "outputs": []
    },
    {
      "cell_type": "markdown",
      "metadata": {
        "id": "2rwWIDtJk53F",
        "colab_type": "text"
      },
      "source": [
        "## Mapping of schooldistricts"
      ]
    },
    {
      "cell_type": "markdown",
      "metadata": {
        "id": "rvltCHQU54NO",
        "colab_type": "text"
      },
      "source": [
        "To let the reader explore the data on their own several interactive maps will be coded. This section of the notebook represents the technical aspects of generating the maps. The shapefiles of the school districts is loaded using Geopandas. The Geopandas library makes it possible to work with geospatial data which is the appropriate tool for mapping the school districts. Plotting the data as a map is done by using Bokeh. Bokeh library has a class named Patches, which takes data represented as points. The school district shapefile contains coordinates of the districts as Polygons (array of coordinate arrays). Creating the map using Bokeh gives a lot of benefit when representing data and add interactivity to the map. Bokeh’s hover-tool can let the reader inspect the data associated with the districts. Zooming and dragging tools makes the exploration interactivity smooth."
      ]
    },
    {
      "cell_type": "markdown",
      "metadata": {
        "id": "9QcYIcRHyPPe",
        "colab_type": "text"
      },
      "source": [
        "### Geopandas and bokeh plotting\n",
        "\n"
      ]
    },
    {
      "cell_type": "markdown",
      "metadata": {
        "id": "guzbLpmUyPPi",
        "colab_type": "text"
      },
      "source": [
        "Import libraries: pandas for data preparing and structuring. Bokeh for plotting."
      ]
    },
    {
      "cell_type": "code",
      "metadata": {
        "id": "5rlFWIwFy5Kl",
        "colab_type": "code",
        "colab": {}
      },
      "source": [
        "#!pip install geopandas"
      ],
      "execution_count": 0,
      "outputs": []
    },
    {
      "cell_type": "code",
      "metadata": {
        "id": "6pdFnUEByPPl",
        "colab_type": "code",
        "colab": {}
      },
      "source": [
        "import geopandas as gpd #For reading shapefiles\n",
        "import pandas as pd #For handling data\n",
        "import numpy as np #For datamanipulation like rounding numbers\n",
        "from bokeh.io import output_notebook, output_file,show #To choose between plotting in notebook and as new pane\n",
        "from bokeh.plotting import figure, save, show #For creating, plotting and saving bokeh figures\n",
        "from bokeh.models import ( ColorBar, ColumnDataSource,\n",
        "                          GeoJSONDataSource, HoverTool,\n",
        "                          LinearColorMapper, ColorMapper,Tabs,Panel, OpenURL, TapTool, \n",
        "                          ColumnDataSource) \n",
        "                        #Tools for handling data in Bokeh and adding tools to plot\n",
        "    \n",
        "from bokeh.palettes import brewer #Color palette for coloring the school districts\n",
        "\n",
        "\n",
        "#To save outputs as html the following code can be used (p is the bokeh figure, outputfp is the path):\n",
        "#outfp = r\"try_map.html\"\n",
        "#save(p, outfp)"
      ],
      "execution_count": 0,
      "outputs": []
    },
    {
      "cell_type": "markdown",
      "metadata": {
        "id": "S0LW5qm3yPPt",
        "colab_type": "text"
      },
      "source": [
        "Loading the socieconomic data."
      ]
    },
    {
      "cell_type": "code",
      "metadata": {
        "id": "3fDT_JoHyPPu",
        "colab_type": "code",
        "colab": {}
      },
      "source": [
        "data_socio_path=\"/content/drive/My Drive/Social data analysis and visualization/Final assignment/BerigelseKBH.csv\"\n",
        "data_socio=pd.read_csv(data_socio_path)"
      ],
      "execution_count": 0,
      "outputs": []
    },
    {
      "cell_type": "markdown",
      "metadata": {
        "id": "V7vQH9slyPPz",
        "colab_type": "text"
      },
      "source": [
        "Loading the schooldistrict shapefiles."
      ]
    },
    {
      "cell_type": "code",
      "metadata": {
        "id": "PdihPrp3yPP0",
        "colab_type": "code",
        "colab": {}
      },
      "source": [
        "points_fp =\"/content/drive/My Drive/Social data analysis and visualization/Final assignment//SkoledistrikterOverlap_v2.shp\"\n",
        "points = gpd.read_file(points_fp)"
      ],
      "execution_count": 0,
      "outputs": []
    },
    {
      "cell_type": "markdown",
      "metadata": {
        "id": "cF1Hvgm9yPQC",
        "colab_type": "text"
      },
      "source": [
        "The shapefile holds some duplicates so these are removed so there only exist one row per school."
      ]
    },
    {
      "cell_type": "code",
      "metadata": {
        "id": "MMFf-rU-yPQD",
        "colab_type": "code",
        "colab": {}
      },
      "source": [
        "points=points.drop_duplicates('skoleid')"
      ],
      "execution_count": 0,
      "outputs": []
    },
    {
      "cell_type": "markdown",
      "metadata": {
        "id": "GkvS7D1syPQL",
        "colab_type": "text"
      },
      "source": [
        "Making an initial plot of the schooldistrics (press enter twice if the plot does not appear)."
      ]
    },
    {
      "cell_type": "code",
      "metadata": {
        "id": "6188SgeXyPQN",
        "colab_type": "code",
        "colab": {}
      },
      "source": [
        "points.plot()"
      ],
      "execution_count": 0,
      "outputs": []
    },
    {
      "cell_type": "markdown",
      "metadata": {
        "id": "_LEd7kAoyPQY",
        "colab_type": "text"
      },
      "source": [
        "To plot the socioeconomic data the polygons (saved in the column \"geometry\") from the shapefile are needed. Therefore, the shapefiles and the socioeconomic data must be joined which is done on the School ID (called skoleid on danish). "
      ]
    },
    {
      "cell_type": "code",
      "metadata": {
        "id": "qH50q3WxyPQa",
        "colab_type": "code",
        "colab": {}
      },
      "source": [
        "points.skoleid=points.skoleid.astype(int)"
      ],
      "execution_count": 0,
      "outputs": []
    },
    {
      "cell_type": "code",
      "metadata": {
        "id": "qHlqHCdSyPQh",
        "colab_type": "code",
        "colab": {}
      },
      "source": [
        "data=points.merge(data_socio,left_on=\"skoleid\",right_on=\"School ID\",how='inner')"
      ],
      "execution_count": 0,
      "outputs": []
    },
    {
      "cell_type": "code",
      "metadata": {
        "id": "3jpkKQT8yPQp",
        "colab_type": "code",
        "colab": {}
      },
      "source": [
        "data.shape"
      ],
      "execution_count": 0,
      "outputs": []
    },
    {
      "cell_type": "markdown",
      "metadata": {
        "id": "Zjpx8rJWyPQy",
        "colab_type": "text"
      },
      "source": [
        "The data now consists of 57 schools with 47 different variables."
      ]
    },
    {
      "cell_type": "markdown",
      "metadata": {
        "id": "pMppEW7TyPQz",
        "colab_type": "text"
      },
      "source": [
        "### Output the maps in notebook"
      ]
    },
    {
      "cell_type": "markdown",
      "metadata": {
        "id": "IJBBODF4yPQ0",
        "colab_type": "text"
      },
      "source": [
        "To be able to plot the Bokeh figures directly in the notebook use the following code."
      ]
    },
    {
      "cell_type": "code",
      "metadata": {
        "id": "xInOjCAayPQ0",
        "colab_type": "code",
        "colab": {}
      },
      "source": [
        "output_notebook() "
      ],
      "execution_count": 0,
      "outputs": []
    },
    {
      "cell_type": "markdown",
      "metadata": {
        "id": "APpV-LvEyPRN",
        "colab_type": "text"
      },
      "source": [
        "### Setting up a template for plotting school district data"
      ]
    },
    {
      "cell_type": "markdown",
      "metadata": {
        "id": "9za512DwyPRP",
        "colab_type": "text"
      },
      "source": [
        "First the data should be stored as a GeoJSONDataSource so Bokeh can read the data."
      ]
    },
    {
      "cell_type": "code",
      "metadata": {
        "id": "8RXpz10ryPRW",
        "colab_type": "code",
        "colab": {}
      },
      "source": [
        "geosource_init = GeoJSONDataSource(geojson = data.to_json())"
      ],
      "execution_count": 0,
      "outputs": []
    },
    {
      "cell_type": "markdown",
      "metadata": {
        "id": "k6zP0GlQyPRf",
        "colab_type": "text"
      },
      "source": [
        "Then a figure object is created to hold the plot. The height and width of the plot is chosen so it looks nice at the webpage. The titles make it easier for the user to understand what the plot shows and to know the difference between the different plots that is going to be shown on the webpage. Adding a toolbar makes is possible for the user to interact with the plot."
      ]
    },
    {
      "cell_type": "code",
      "metadata": {
        "id": "YReeDqomyPRg",
        "colab_type": "code",
        "colab": {}
      },
      "source": [
        "# Create figure object.\n",
        "p_init = figure(title = 'Simple plot of the schools', \n",
        "           plot_height = 600 ,\n",
        "           plot_width = 720, \n",
        "           toolbar_location = 'below',\n",
        "           tools = \"wheel_zoom, zoom_in, zoom_out, box_zoom, pan, reset\") "
      ],
      "execution_count": 0,
      "outputs": []
    },
    {
      "cell_type": "markdown",
      "metadata": {
        "id": "fUBYz8u-yPRk",
        "colab_type": "text"
      },
      "source": [
        "To make the plot easy to inspect, the gridlines are removed."
      ]
    },
    {
      "cell_type": "code",
      "metadata": {
        "id": "cGgjqKQDyPRk",
        "colab_type": "code",
        "colab": {}
      },
      "source": [
        "p_init.xgrid.grid_line_color = None\n",
        "p_init.ygrid.grid_line_color = None"
      ],
      "execution_count": 0,
      "outputs": []
    },
    {
      "cell_type": "markdown",
      "metadata": {
        "id": "clj_1Ef9yPR1",
        "colab_type": "text"
      },
      "source": [
        "To visualize all the schooldistricts the bokeh figure has a class called \"patches\". When the data has been converted to GeoJSONDataSource the geometry (polygons) can be found as 'xs' and 'ys' by the patches class."
      ]
    },
    {
      "cell_type": "code",
      "metadata": {
        "id": "pthJSGNryPR2",
        "colab_type": "code",
        "colab": {}
      },
      "source": [
        "schools = p_init.patches('xs','ys', source = geosource_init,\n",
        "                   fill_color = 'lightgray',\n",
        "                   line_color = 'gray', \n",
        "                   line_width = 0.25, \n",
        "                   fill_alpha = 1,)"
      ],
      "execution_count": 0,
      "outputs": []
    },
    {
      "cell_type": "markdown",
      "metadata": {
        "id": "aHw6DdCYyPSC",
        "colab_type": "text"
      },
      "source": [
        "To let the users explore the data on the school district plot they can hover over each schooldistrict. To each of the patches (saved in the variable \"schools\") a hovertool is added. To give an example School ID and School name are added."
      ]
    },
    {
      "cell_type": "code",
      "metadata": {
        "id": "NCjqcvWWyPSX",
        "colab_type": "code",
        "colab": {}
      },
      "source": [
        "p_init.add_tools(HoverTool(renderers = [schools],\n",
        "                      tooltips = [('School ID','@{School ID}'),\n",
        "                                ('Schoolname','@{School name}')]))"
      ],
      "execution_count": 0,
      "outputs": []
    },
    {
      "cell_type": "markdown",
      "metadata": {
        "id": "34rw3a8VyPSj",
        "colab_type": "text"
      },
      "source": [
        "If the user does not know the location of their child's school, the locations of the schools are added. Each school is represented as a orange circle. The visibility of the circle is set to \"False\". The reason is, that he plot should be plotted as simple as possible and it is up to the user to add more visuals to the plot. The circles has a corresponding legend called \"School locations\". "
      ]
    },
    {
      "cell_type": "code",
      "metadata": {
        "id": "SBAquOhLyPSk",
        "colab_type": "code",
        "colab": {}
      },
      "source": [
        "source_p_init = ColumnDataSource(\n",
        "    data=dict(lat=data['lat'],\n",
        "              lon=data['lon'])\n",
        ")\n",
        "\n",
        "punkter_init= p_init.circle(y='lat', x='lon', size=5, alpha=1.0, source=source_p_init,legend='School location',fill_color='Orange',color=\"grey\")\n",
        "punkter_init.visible=False\n"
      ],
      "execution_count": 0,
      "outputs": []
    },
    {
      "cell_type": "markdown",
      "metadata": {
        "id": "QCfPh1N2yPTa",
        "colab_type": "text"
      },
      "source": [
        "Placing the location in the bottom right of the picture so it does not block for any of the content on the figure. When clicking on the legend the circles should hide/unhide. The inactive fill alpha is set to 0 so it is easier to see the legend."
      ]
    },
    {
      "cell_type": "code",
      "metadata": {
        "id": "OT985h4OyPTb",
        "colab_type": "code",
        "colab": {}
      },
      "source": [
        "p_init.legend.click_policy=\"hide\"\n",
        "p_init.legend.location = \"bottom_right\"\n",
        "p_init.legend.inactive_fill_alpha=0"
      ],
      "execution_count": 0,
      "outputs": []
    },
    {
      "cell_type": "markdown",
      "metadata": {
        "id": "CzDO2fFNyPTx",
        "colab_type": "text"
      },
      "source": [
        "The figure is now ready to be plottet."
      ]
    },
    {
      "cell_type": "code",
      "metadata": {
        "id": "ibcdLAGUyPTy",
        "colab_type": "code",
        "colab": {}
      },
      "source": [
        "show(p_init)"
      ],
      "execution_count": 0,
      "outputs": []
    },
    {
      "cell_type": "markdown",
      "metadata": {
        "id": "ovNKHEkV_aPs",
        "colab_type": "text"
      },
      "source": [
        "If Bokeh plot does not render, see the image below (of course without interactivity):"
      ]
    },
    {
      "cell_type": "markdown",
      "metadata": {
        "id": "CWCpbQKS6gBx",
        "colab_type": "text"
      },
      "source": [
        " ![alt text](https://drive.google.com/uc?id=1DAKBN0cQAItaBHbSv-Q0TEEWalj2zccQ)"
      ]
    },
    {
      "cell_type": "markdown",
      "metadata": {
        "id": "2uWohJAOyPT4",
        "colab_type": "text"
      },
      "source": [
        "To be able to save the html file for uploading to the webpage the following code is used."
      ]
    },
    {
      "cell_type": "code",
      "metadata": {
        "id": "o6xUWqNlyPT5",
        "colab_type": "code",
        "colab": {}
      },
      "source": [
        "#import datetime #Importing datetime to give html-files unique path-names\n",
        "#time_now=datetime.datetime.today() #Saving the time\n",
        "#timestampSTR=time_now.strftime(\"%d-%b-%H:%M\") #Save the time as string\n",
        "#outfp_path = r\"map_init_\"+timestampSTR+\"_map.html\" #Define the path-name\n",
        "##Save the map\n",
        "#save(p_init, outfp_path) #Save the map"
      ],
      "execution_count": 0,
      "outputs": []
    },
    {
      "cell_type": "markdown",
      "metadata": {
        "id": "G7M62764yPT8",
        "colab_type": "text"
      },
      "source": [
        "### Plotting Share of foreign students"
      ]
    },
    {
      "cell_type": "markdown",
      "metadata": {
        "id": "_0QxbjC9yPT9",
        "colab_type": "text"
      },
      "source": [
        "To make the data easier to understand for the visitor of the webpage, the ratios of foreign students are converted to percent."
      ]
    },
    {
      "cell_type": "code",
      "metadata": {
        "id": "8W5Pm81cyPT-",
        "colab_type": "code",
        "colab": {}
      },
      "source": [
        "data['Share foreign_percent']=data['Share foreign']*100"
      ],
      "execution_count": 0,
      "outputs": []
    },
    {
      "cell_type": "markdown",
      "metadata": {
        "id": "b-SjMtleyPUG",
        "colab_type": "text"
      },
      "source": [
        "The data which are presented when hovering is converted to a string format so that a percentage-symbol can be added."
      ]
    },
    {
      "cell_type": "code",
      "metadata": {
        "id": "NQgGE-yyyPUJ",
        "colab_type": "code",
        "colab": {}
      },
      "source": [
        "import math #math is used to identify if any data contains NaNs"
      ],
      "execution_count": 0,
      "outputs": []
    },
    {
      "cell_type": "code",
      "metadata": {
        "id": "QRSNu77PyPUe",
        "colab_type": "code",
        "colab": {}
      },
      "source": [
        "data['Share foreign_percent_string']=data['Share foreign_percent'].apply(lambda x: str(int(x))+'%' if not math.isnan(x) else x)"
      ],
      "execution_count": 0,
      "outputs": []
    },
    {
      "cell_type": "markdown",
      "metadata": {
        "id": "N_teziQRyPUm",
        "colab_type": "text"
      },
      "source": [
        "To give an visual representation of the foreign student percentages a colorpalette is defined. The colorpalette\n",
        "\"brewer\" has different graduating colorpalettes which are give the opporunity to let small numbers have a lighter color and big number has darker colors. The colors can be found in [1] in the referencelist. "
      ]
    },
    {
      "cell_type": "code",
      "metadata": {
        "id": "KETXLeBAyPUm",
        "colab_type": "code",
        "colab": {}
      },
      "source": [
        "palette_p = brewer['PuBu'][8]\n",
        "palette_p = palette_p[::-1] # reverse order of colors so higher values have darker colors"
      ],
      "execution_count": 0,
      "outputs": []
    },
    {
      "cell_type": "markdown",
      "metadata": {
        "id": "Yfssr1_zyPUq",
        "colab_type": "text"
      },
      "source": [
        "Before using the colorpalette on the figure a minimum value and maximum value is found. These are used to set the boundaries of the lightest color and the darkest color."
      ]
    },
    {
      "cell_type": "code",
      "metadata": {
        "id": "3YaznyZayPUq",
        "colab_type": "code",
        "colab": {}
      },
      "source": [
        "mini_share_foreign=data['Share foreign_percent'].min()"
      ],
      "execution_count": 0,
      "outputs": []
    },
    {
      "cell_type": "code",
      "metadata": {
        "id": "ZxLIq3BGyPUt",
        "colab_type": "code",
        "colab": {}
      },
      "source": [
        "maxi_share_foreign=data['Share foreign_percent'].max()"
      ],
      "execution_count": 0,
      "outputs": []
    },
    {
      "cell_type": "markdown",
      "metadata": {
        "id": "wAWrPuL5yPUy",
        "colab_type": "text"
      },
      "source": [
        "Bokeh can give a certain color to all NaNs (grey is chosen in this project). NaNs should though be saved as \"NAN\" (string formatted)."
      ]
    },
    {
      "cell_type": "code",
      "metadata": {
        "id": "7ZFsMsFSyPUz",
        "colab_type": "code",
        "colab": {}
      },
      "source": [
        "data['Share foreign_percent_string']=data['Share foreign_percent_string'].replace(float('nan'),\"NAN\")"
      ],
      "execution_count": 0,
      "outputs": []
    },
    {
      "cell_type": "code",
      "metadata": {
        "id": "YxePwHawyPVQ",
        "colab_type": "code",
        "colab": {}
      },
      "source": [
        "data['Share foreign_percent']=data['Share foreign_percent'].replace(float('nan'),\"NAN\")"
      ],
      "execution_count": 0,
      "outputs": []
    },
    {
      "cell_type": "markdown",
      "metadata": {
        "id": "A3Z5cBDWyPVb",
        "colab_type": "text"
      },
      "source": [
        "The following color mapper is a LinearColorMapper that linearly maps numbers in a range, into a sequence of colors."
      ]
    },
    {
      "cell_type": "code",
      "metadata": {
        "id": "dpLEZtrnyPVc",
        "colab_type": "code",
        "colab": {}
      },
      "source": [
        "color_mapper_p = LinearColorMapper(palette = palette_p, low = mini_share_foreign, \n",
        "                                 high = maxi_share_foreign,nan_color='grey') "
      ],
      "execution_count": 0,
      "outputs": []
    },
    {
      "cell_type": "markdown",
      "metadata": {
        "id": "fxQN1oNYyPVg",
        "colab_type": "text"
      },
      "source": [
        "A colorbar gives the users understanding of the scale of which the colors represents. Tick_labels can is used to manually chose that the colorbar should hold every 10th percentage value with an percentage-symbol added."
      ]
    },
    {
      "cell_type": "code",
      "metadata": {
        "id": "QPmZvXxWyPVh",
        "colab_type": "code",
        "colab": {}
      },
      "source": [
        "# Define custom tick labels for color bar.\n",
        "tick_labels_p = {0: '0', 10: '10%',\n",
        " 20:'20%', 30:'30%',\n",
        " 40:'40%', 50:'50%',\n",
        " 60:'60%', 70:'70%',\n",
        " 80:'80%',90:'90%',100:'100%'}"
      ],
      "execution_count": 0,
      "outputs": []
    },
    {
      "cell_type": "markdown",
      "metadata": {
        "id": "7HbeODGcyPVq",
        "colab_type": "text"
      },
      "source": [
        "Defining the colorbar so the width is slightly shorter than the figure and places it horizontantly under the figure."
      ]
    },
    {
      "cell_type": "code",
      "metadata": {
        "id": "zs5wuTtTyPVr",
        "colab_type": "code",
        "colab": {}
      },
      "source": [
        "# Create color bar.\n",
        "color_bar_p = ColorBar(color_mapper = color_mapper_p, \n",
        "                     label_standoff = 8,\n",
        "                     width = 600, height = 20,\n",
        "                     border_line_color = None,\n",
        "                     location = (0,0), \n",
        "                     orientation = 'horizontal',\n",
        "                     major_label_overrides = tick_labels_p)"
      ],
      "execution_count": 0,
      "outputs": []
    },
    {
      "cell_type": "markdown",
      "metadata": {
        "id": "usv08h3_yPVv",
        "colab_type": "text"
      },
      "source": [
        "Creating the figure for foreign student visualization."
      ]
    },
    {
      "cell_type": "code",
      "metadata": {
        "id": "JJW2je74yPVw",
        "colab_type": "code",
        "colab": {}
      },
      "source": [
        "# Create figure object.\n",
        "p = figure(title = 'Share of foreign students', \n",
        "           plot_height = 600, plot_width = 720, \n",
        "           toolbar_location = 'below',\n",
        "           tools = \"wheel_zoom, zoom_in, zoom_out, box_zoom, pan, reset\")\n",
        "p.xgrid.grid_line_color = None\n",
        "p.ygrid.grid_line_color = None"
      ],
      "execution_count": 0,
      "outputs": []
    },
    {
      "cell_type": "markdown",
      "metadata": {
        "id": "qkyQeVNCyPVz",
        "colab_type": "text"
      },
      "source": [
        "Save data as GeoJSONDataSource."
      ]
    },
    {
      "cell_type": "code",
      "metadata": {
        "id": "zV_7qmF9yPV1",
        "colab_type": "code",
        "colab": {}
      },
      "source": [
        "geosource_p = GeoJSONDataSource(geojson = data.to_json())"
      ],
      "execution_count": 0,
      "outputs": []
    },
    {
      "cell_type": "markdown",
      "metadata": {
        "id": "UJvMNFcNyPV-",
        "colab_type": "text"
      },
      "source": [
        "Adding patches to the figure. The colorfilling now uses the linear colormapper. The data which the color should represent is the share of foreign students (as percentages) and is given as an argument to the fill_color \"field\"."
      ]
    },
    {
      "cell_type": "code",
      "metadata": {
        "id": "I6idXe_2yPWC",
        "colab_type": "code",
        "colab": {}
      },
      "source": [
        "# Add patch renderer to figure.\n",
        "skoler_p = p.patches('xs','ys', source = geosource_p,\n",
        "                   fill_color = {'field' :'Share foreign_percent', #what to color should represent\n",
        "                                 'transform' : color_mapper_p},\n",
        "                   line_color = 'red', \n",
        "                   line_width = 0.4, \n",
        "                   fill_alpha = 1,\n",
        "                    )"
      ],
      "execution_count": 0,
      "outputs": []
    },
    {
      "cell_type": "markdown",
      "metadata": {
        "id": "flAG8H8DyPWF",
        "colab_type": "text"
      },
      "source": [
        "Adding the school location."
      ]
    },
    {
      "cell_type": "code",
      "metadata": {
        "id": "WYUh0Pq_yPWJ",
        "colab_type": "code",
        "colab": {}
      },
      "source": [
        "source_p = ColumnDataSource(\n",
        "    data=dict(lat=data['lat'],\n",
        "              lon=data['lon'])\n",
        ")\n",
        "\n",
        "punkter= p.circle(y='lat', x='lon', size=5, alpha=1.0, source=source_p,legend='School location',fill_color='Orange',color=\"grey\")\n",
        "punkter.visible=False\n",
        "\n",
        "p.legend.click_policy=\"hide\"\n",
        "p.legend.location = \"bottom_right\"\n",
        "p.legend.inactive_fill_alpha=0"
      ],
      "execution_count": 0,
      "outputs": []
    },
    {
      "cell_type": "markdown",
      "metadata": {
        "id": "Dk4XhMIqyPWR",
        "colab_type": "text"
      },
      "source": [
        "Adding hover tool with Share of foreign students and colorbar."
      ]
    },
    {
      "cell_type": "code",
      "metadata": {
        "id": "UC8RG59IyPWR",
        "colab_type": "code",
        "colab": {}
      },
      "source": [
        " #Create hover tool\n",
        "p.add_tools(HoverTool(renderers = [skoler_p],\n",
        "                      tooltips = [('Schoolname','@{School name}'),\n",
        "                               ('Share', '@{Share foreign_percent_string}')]))\n",
        "# Specify layout\n",
        "p.add_layout(color_bar_p, 'below')\n",
        "\n"
      ],
      "execution_count": 0,
      "outputs": []
    },
    {
      "cell_type": "code",
      "metadata": {
        "id": "KyjnYt1cyPWZ",
        "colab_type": "code",
        "colab": {}
      },
      "source": [
        "show(p)"
      ],
      "execution_count": 0,
      "outputs": []
    },
    {
      "cell_type": "markdown",
      "metadata": {
        "id": "CV8lUfw-_yyW",
        "colab_type": "text"
      },
      "source": [
        "If Bokeh plot does not render, see the image below (of course without interactivity):"
      ]
    },
    {
      "cell_type": "markdown",
      "metadata": {
        "id": "WvnY840x8k9P",
        "colab_type": "text"
      },
      "source": [
        "![alt text](https://drive.google.com/uc?id=1-6AkPBHhhivqUWzIcfjYHDkPldkpVeU7)"
      ]
    },
    {
      "cell_type": "markdown",
      "metadata": {
        "id": "5g2lKa8TyPWc",
        "colab_type": "text"
      },
      "source": [
        "To be able to save the html file for uploading to the webpage the following code is used."
      ]
    },
    {
      "cell_type": "code",
      "metadata": {
        "id": "vJwzBYBZyPWd",
        "colab_type": "code",
        "colab": {}
      },
      "source": [
        "#import datetime\n",
        "#time_foreign=datetime.datetime.today()\n",
        "#timestampSTR_foreign=time_foreign.strftime(\"%d-%b-%H:%M\")\n",
        "#outfp_foreign = r\"map_with_foreign_\"+timestampSTR_foreign+\"_map.html\"\n",
        "##Save the map\n",
        "#save(p, outfp_foreign)"
      ],
      "execution_count": 0,
      "outputs": []
    },
    {
      "cell_type": "markdown",
      "metadata": {
        "id": "JbJRXZjryPW6",
        "colab_type": "text"
      },
      "source": [
        "To be able to visualize several maps together, the widget called \"panel\" can save the plot to be incoporated into a Tab in the end of this notebook."
      ]
    },
    {
      "cell_type": "code",
      "metadata": {
        "id": "UjMEDDpbyPW7",
        "colab_type": "code",
        "colab": {}
      },
      "source": [
        "tab_foreign = Panel(child=p, title=\"Foreign students\")"
      ],
      "execution_count": 0,
      "outputs": []
    },
    {
      "cell_type": "markdown",
      "metadata": {
        "id": "56jtoegiyPXB",
        "colab_type": "text"
      },
      "source": [
        "### Plotting Average household income"
      ]
    },
    {
      "cell_type": "markdown",
      "metadata": {
        "id": "kW7bUXJoyPXD",
        "colab_type": "text"
      },
      "source": [
        "Defining colorpallette with different colors than previous plotted map."
      ]
    },
    {
      "cell_type": "code",
      "metadata": {
        "id": "y-F2LPOHyPXb",
        "colab_type": "code",
        "colab": {}
      },
      "source": [
        "palette_p1 = brewer['BuGn'][8]\n",
        "palette_p1 = palette_p1[::-1] # reverse order of colors so higher values have darker colors"
      ],
      "execution_count": 0,
      "outputs": []
    },
    {
      "cell_type": "markdown",
      "metadata": {
        "id": "XU8Lj9bXyPXi",
        "colab_type": "text"
      },
      "source": [
        "Defining boundaries for the colormapper. The colorbar can only take numbers like \"100000\", \"200000\", \"30000\", therefore the minimal income is manually set to 300000."
      ]
    },
    {
      "cell_type": "code",
      "metadata": {
        "id": "zNhEus7JyPXj",
        "colab_type": "code",
        "colab": {}
      },
      "source": [
        "#mini_income=data['Avg household income'].min()\n",
        "mini_income=300000\n",
        "maxi_income=data['Avg household income'].max()"
      ],
      "execution_count": 0,
      "outputs": []
    },
    {
      "cell_type": "markdown",
      "metadata": {
        "id": "PJCsX7ntyPX3",
        "colab_type": "text"
      },
      "source": [
        "Define the colormapper for Average Household Income."
      ]
    },
    {
      "cell_type": "code",
      "metadata": {
        "id": "wAcH3zJDyPX4",
        "colab_type": "code",
        "colab": {}
      },
      "source": [
        "color_mapper_p1 = LinearColorMapper(palette = palette_p1, low = mini_income, \n",
        "                                 high =maxi_income,nan_color='grey' ) "
      ],
      "execution_count": 0,
      "outputs": []
    },
    {
      "cell_type": "markdown",
      "metadata": {
        "id": "2c_LK_QkyPX7",
        "colab_type": "text"
      },
      "source": [
        "Define major tick labels with thousand separators and valuta suffix (DKK)."
      ]
    },
    {
      "cell_type": "code",
      "metadata": {
        "id": "OnoTptGTyPX8",
        "colab_type": "code",
        "colab": {}
      },
      "source": [
        "tick_labels_p1={\n",
        "            200000 : '200,000DKK',\n",
        "            300000 : '300,000DKK',\n",
        "            400000 : '400,000DKK',\n",
        "            500000 : '500,000DKK',\n",
        "            600000 : '600,000DKK',\n",
        "            700000 : '700,000DKK+',\n",
        "            }"
      ],
      "execution_count": 0,
      "outputs": []
    },
    {
      "cell_type": "markdown",
      "metadata": {
        "id": "S3QjMSNXyPX_",
        "colab_type": "text"
      },
      "source": [
        "Create the colorbar for presenting the Average Household Income values."
      ]
    },
    {
      "cell_type": "code",
      "metadata": {
        "id": "nWvhEmf3yPYA",
        "colab_type": "code",
        "colab": {}
      },
      "source": [
        "# Create color bar.\n",
        "color_bar_p1 = ColorBar(color_mapper = color_mapper_p1, \n",
        "                     label_standoff = 8,\n",
        "                     width = 600, height = 20,\n",
        "                     border_line_color = None,\n",
        "                     location = (0,0), \n",
        "                     orientation = 'horizontal',\n",
        "                     major_label_overrides = tick_labels_p1)"
      ],
      "execution_count": 0,
      "outputs": []
    },
    {
      "cell_type": "markdown",
      "metadata": {
        "id": "E0fmSta9yPYC",
        "colab_type": "text"
      },
      "source": [
        "Create figure for Average Household Income."
      ]
    },
    {
      "cell_type": "code",
      "metadata": {
        "id": "WESYzEDUyPYE",
        "colab_type": "code",
        "colab": {}
      },
      "source": [
        "# Create figure object.\n",
        "p1 = figure(title = 'Average Household Income', \n",
        "           plot_height = 600, plot_width = 720, \n",
        "           toolbar_location = 'below',\n",
        "           tools = \"wheel_zoom, zoom_in, zoom_out, box_zoom, pan, reset\")\n",
        "p1.xgrid.grid_line_color = None\n",
        "p1.ygrid.grid_line_color = None"
      ],
      "execution_count": 0,
      "outputs": []
    },
    {
      "cell_type": "markdown",
      "metadata": {
        "id": "3K8HY-HhyPYH",
        "colab_type": "text"
      },
      "source": [
        "Income should be the data which is presented when hovering the school districts. Therfore the Income is converted to string format with thousand seperator and danish valuta suffix (DKK). In addition to that, replacing float NaNs with string \"NAN\"."
      ]
    },
    {
      "cell_type": "code",
      "metadata": {
        "id": "jvo9CtIyyPYH",
        "colab_type": "code",
        "colab": {}
      },
      "source": [
        "data['Income_string']=data['Avg household income'].apply(lambda x: '{:,}'.format(x)+'DKK')"
      ],
      "execution_count": 0,
      "outputs": []
    },
    {
      "cell_type": "code",
      "metadata": {
        "id": "at23m8R9yPZb",
        "colab_type": "code",
        "colab": {}
      },
      "source": [
        "data['Avg household income']=data['Avg household income'].replace(float('nan'),\"NAN\")"
      ],
      "execution_count": 0,
      "outputs": []
    },
    {
      "cell_type": "markdown",
      "metadata": {
        "id": "fpTbRPnt99g9",
        "colab_type": "text"
      },
      "source": [
        "Having average house income ready for plotting in the Bokeh figure, the following code follows the same structure as the previous explained template. The new implementation is the colormapping and hovering of the values for Average household income:"
      ]
    },
    {
      "cell_type": "code",
      "metadata": {
        "id": "VatrJRMlyPZj",
        "colab_type": "code",
        "colab": {}
      },
      "source": [
        "geosource_p1 = GeoJSONDataSource(geojson = data.to_json())\n",
        "\n",
        "#District mapping\n",
        "skoler_p1 = p1.patches('xs','ys', source = geosource_p1,\n",
        "                   fill_color = {'field' :'Avg household income', \n",
        "                                 'transform' : color_mapper_p1},\n",
        "                   line_color = 'red', \n",
        "                   line_width = 0.4, \n",
        "                   fill_alpha = 1,\n",
        "                    )\n",
        "#School location data\n",
        "source_p1 = ColumnDataSource(\n",
        "    data=dict(lat=data['lat'],\n",
        "              lon=data['lon'])\n",
        ")\n",
        "\n",
        "#School locations\n",
        "punkter1= p1.circle(y='lat', x='lon', size=5, alpha=1.0, source=source_p1,legend='School location',fill_color='red',color=\"grey\")\n",
        "punkter1.visible=False\n",
        "p1.legend.click_policy=\"hide\"\n",
        "p1.legend.location = \"bottom_right\"\n",
        "p1.legend.inactive_fill_alpha=0\n",
        "\n",
        "#Hover tools\n",
        "p1.add_tools(HoverTool(renderers = [skoler_p1],\n",
        "                      tooltips = [('Schoolname','@{School name}'),\n",
        "                               ('Average household income', '@Income_string')\n",
        "                                 ]          \n",
        "                     ))\n",
        "#Colorbar addin\n",
        "p1.add_layout(color_bar_p1, 'below')\n",
        "\n",
        "\n"
      ],
      "execution_count": 0,
      "outputs": []
    },
    {
      "cell_type": "markdown",
      "metadata": {
        "id": "YsYMTQm4yPcQ",
        "colab_type": "text"
      },
      "source": [
        "Plotting the average household income map."
      ]
    },
    {
      "cell_type": "code",
      "metadata": {
        "id": "XmNQ3kSjyPcR",
        "colab_type": "code",
        "colab": {}
      },
      "source": [
        "show(p1)"
      ],
      "execution_count": 0,
      "outputs": []
    },
    {
      "cell_type": "markdown",
      "metadata": {
        "id": "KxYehDCB_05n",
        "colab_type": "text"
      },
      "source": [
        "If Bokeh plot does not render, see the image below (of course without interactivity):"
      ]
    },
    {
      "cell_type": "markdown",
      "metadata": {
        "id": "0u6HRAHS-FLU",
        "colab_type": "text"
      },
      "source": [
        "![alt text](https://drive.google.com/uc?id=1RIyAqk39UnAvdAn-X08mkYlTiTEF1fIN)"
      ]
    },
    {
      "cell_type": "markdown",
      "metadata": {
        "id": "hcOB4FCRyPcb",
        "colab_type": "text"
      },
      "source": [
        "To be able to save the html file for uploading to the webpage the following code is used."
      ]
    },
    {
      "cell_type": "code",
      "metadata": {
        "id": "iLxoT1RAyPcb",
        "colab_type": "code",
        "colab": {}
      },
      "source": [
        "#time_income=datetime.datetime.today()\n",
        "\n",
        "#timestampSTR_income=time_income.strftime(\"%d-%b-%H:%M\")\n",
        "#outfp_income = r\"map_with_income_\"+timestampSTR_income+\"_map.html\"\n",
        " #Save the map\n",
        "#save(p, outfp_income)"
      ],
      "execution_count": 0,
      "outputs": []
    },
    {
      "cell_type": "markdown",
      "metadata": {
        "id": "nO4EflaWyPcf",
        "colab_type": "text"
      },
      "source": [
        "Save the plot in a Panel for later use:"
      ]
    },
    {
      "cell_type": "code",
      "metadata": {
        "id": "_Zrtams5yPcj",
        "colab_type": "code",
        "colab": {}
      },
      "source": [
        "tab_income = Panel(child=p1, title=\"Income\")"
      ],
      "execution_count": 0,
      "outputs": []
    },
    {
      "cell_type": "markdown",
      "metadata": {
        "id": "6MBB0eDtyPco",
        "colab_type": "text"
      },
      "source": [
        "### Plotting School Performance\n"
      ]
    },
    {
      "cell_type": "markdown",
      "metadata": {
        "id": "pdppKOaUyPco",
        "colab_type": "text"
      },
      "source": [
        "The grades from the mandatory test are saved as floats. Bokeh will display the values with many ending zeroes. Therefore the grades are rounded to one decimal, saved as string and float NaNs are saved as \"NAN\" in string format."
      ]
    },
    {
      "cell_type": "code",
      "metadata": {
        "id": "amVO272ayPcp",
        "colab_type": "code",
        "colab": {}
      },
      "source": [
        "data['Results - mandatory tests_edit']=np.round(data['Result - mandatory tests'].astype(float),decimals=1)"
      ],
      "execution_count": 0,
      "outputs": []
    },
    {
      "cell_type": "code",
      "metadata": {
        "id": "LrkWPc82yPcr",
        "colab_type": "code",
        "colab": {}
      },
      "source": [
        "data['Results - mandatory tests_edit']=data['Results - mandatory tests_edit'].replace(float('nan'),\"NAN\")"
      ],
      "execution_count": 0,
      "outputs": []
    },
    {
      "cell_type": "code",
      "metadata": {
        "id": "D-ZqEHEHyPct",
        "colab_type": "code",
        "colab": {}
      },
      "source": [
        "data['Results - mandatory tests_edit_string']=data['Results - mandatory tests_edit'].astype(str)"
      ],
      "execution_count": 0,
      "outputs": []
    },
    {
      "cell_type": "markdown",
      "metadata": {
        "id": "Ms8tJcSeyPcv",
        "colab_type": "text"
      },
      "source": [
        "Finding the boundaries of the colormapping. The lowest grade is round down to nearest integer and highest grade rounded up."
      ]
    },
    {
      "cell_type": "code",
      "metadata": {
        "id": "5nPFmBr_yPcw",
        "colab_type": "code",
        "colab": {}
      },
      "source": [
        "mini_grade=int(np.floor(pd.DataFrame(data['Results - mandatory tests_edit']).astype(float).min()))"
      ],
      "execution_count": 0,
      "outputs": []
    },
    {
      "cell_type": "code",
      "metadata": {
        "id": "TYc686JZyPcz",
        "colab_type": "code",
        "colab": {}
      },
      "source": [
        "maxi_grade=int(np.ceil(pd.DataFrame(data['Results - mandatory tests_edit']).astype(float).max()))"
      ],
      "execution_count": 0,
      "outputs": []
    },
    {
      "cell_type": "markdown",
      "metadata": {
        "id": "jY14bCKryPc4",
        "colab_type": "text"
      },
      "source": [
        "Define colorpalette which is different than previous used palettes."
      ]
    },
    {
      "cell_type": "code",
      "metadata": {
        "id": "x-7teDAWyPc6",
        "colab_type": "code",
        "colab": {}
      },
      "source": [
        "palette_p3 = brewer['OrRd'][8]\n",
        "palette_p3 = palette_p3[::-1] # reverse order of colors so higher values have darker colors\n"
      ],
      "execution_count": 0,
      "outputs": []
    },
    {
      "cell_type": "markdown",
      "metadata": {
        "id": "sfc5c2EvyPc-",
        "colab_type": "text"
      },
      "source": [
        "Define colormapper for performance."
      ]
    },
    {
      "cell_type": "code",
      "metadata": {
        "id": "FTRqMWrSyPdA",
        "colab_type": "code",
        "colab": {}
      },
      "source": [
        "color_mapper_p3 = LinearColorMapper(palette = palette_p3, low = mini_grade, high = maxi_grade,nan_color='grey')"
      ],
      "execution_count": 0,
      "outputs": []
    },
    {
      "cell_type": "markdown",
      "metadata": {
        "id": "yrGyjicryPdC",
        "colab_type": "text"
      },
      "source": [
        "Create colorbar for performance."
      ]
    },
    {
      "cell_type": "code",
      "metadata": {
        "id": "m65BooTiyPdK",
        "colab_type": "code",
        "colab": {}
      },
      "source": [
        "color_bar_p3 = ColorBar(color_mapper = color_mapper_p3, \n",
        "                     label_standoff = 8,\n",
        "                     width = 600, height = 20,\n",
        "                     border_line_color = None,\n",
        "                     location = (0,0), \n",
        "                     orientation = 'horizontal')"
      ],
      "execution_count": 0,
      "outputs": []
    },
    {
      "cell_type": "markdown",
      "metadata": {
        "id": "feiveHioyPdM",
        "colab_type": "text"
      },
      "source": [
        "Creating the figure."
      ]
    },
    {
      "cell_type": "code",
      "metadata": {
        "id": "YkReo4qXyPdM",
        "colab_type": "code",
        "colab": {}
      },
      "source": [
        "p3 = figure(title = 'Performance of schools', \n",
        "           plot_height = 600, plot_width = 720, \n",
        "           toolbar_location = 'below',\n",
        "           tools = \"wheel_zoom, zoom_in, zoom_out, box_zoom, pan, reset\")\n",
        "p3.xgrid.grid_line_color = None\n",
        "p3.ygrid.grid_line_color = None"
      ],
      "execution_count": 0,
      "outputs": []
    },
    {
      "cell_type": "markdown",
      "metadata": {
        "id": "ipFY9YLYyPdO",
        "colab_type": "text"
      },
      "source": [
        "Having Performance values ready for plotting in the Bokeh figure, the following code follows the same structure as the previous explained template. The new implementation is the colormapping and hovering of the values for School Performance:"
      ]
    },
    {
      "cell_type": "code",
      "metadata": {
        "id": "KWyvTkJOyPdQ",
        "colab_type": "code",
        "colab": {}
      },
      "source": [
        "geosource_p3 = GeoJSONDataSource(geojson = data.to_json())\n",
        "\n",
        "#District mapping\n",
        "skoler_p3 = p3.patches('xs','ys', source = geosource_p3,\n",
        "                   fill_color = {'field' :'Results - mandatory tests_edit',\n",
        "                                 'transform' : color_mapper_p3},\n",
        "                   line_color = 'red', \n",
        "                   line_width = 0.4, \n",
        "                   fill_alpha = 1,\n",
        "                    )\n",
        "#Hovertools\n",
        "p3.add_tools(HoverTool(renderers = [skoler_p3],\n",
        "                      tooltips = [('Schoolname','@{School name}'),\n",
        "                               ('Performance', '@{Results - mandatory tests_edit_string}')]))\n",
        "#School location data\n",
        "source_p3 = ColumnDataSource(\n",
        "    data=dict(lat=data['lat'],\n",
        "              lon=data['lon'])\n",
        ")\n",
        "\n",
        "#Adding school locations\n",
        "punkter3= p3.circle(y='lat', x='lon', size=5, alpha=1.0, source=source_p3,legend='School location',fill_color='black',color=\"grey\")\n",
        "punkter3.visible=False\n",
        "p3.legend.click_policy=\"hide\"\n",
        "p3.legend.location = \"bottom_right\"\n",
        "p3.legend.inactive_fill_alpha=0\n",
        "\n",
        "#Adding colorbar\n",
        "p3.add_layout(color_bar_p3, 'below')"
      ],
      "execution_count": 0,
      "outputs": []
    },
    {
      "cell_type": "markdown",
      "metadata": {
        "id": "TNyNm1UfyPfD",
        "colab_type": "text"
      },
      "source": [
        "Show the plot for performances."
      ]
    },
    {
      "cell_type": "code",
      "metadata": {
        "id": "XnJldmK5yPfH",
        "colab_type": "code",
        "colab": {}
      },
      "source": [
        "show(p3)"
      ],
      "execution_count": 0,
      "outputs": []
    },
    {
      "cell_type": "markdown",
      "metadata": {
        "id": "obvOInvi_2rc",
        "colab_type": "text"
      },
      "source": [
        "If Bokeh plot does not render, see the image below (of course without interactivity):"
      ]
    },
    {
      "cell_type": "markdown",
      "metadata": {
        "id": "nd0H7pvl-TFk",
        "colab_type": "text"
      },
      "source": [
        "![alt text](https://drive.google.com/uc?id=13fAiokLIVsIC2Q99ql5L85YQ8V3nDsmq)"
      ]
    },
    {
      "cell_type": "markdown",
      "metadata": {
        "id": "X1dToPKOyPfk",
        "colab_type": "text"
      },
      "source": [
        "Saving the grades in a Panel for later use."
      ]
    },
    {
      "cell_type": "code",
      "metadata": {
        "id": "KjJ1Z0UKyPgW",
        "colab_type": "code",
        "colab": {}
      },
      "source": [
        "tab_performance = Panel(child=p3, title=\"School performance\")"
      ],
      "execution_count": 0,
      "outputs": []
    },
    {
      "cell_type": "markdown",
      "metadata": {
        "id": "6cQInfI0yPgo",
        "colab_type": "text"
      },
      "source": [
        "To be able to save the html file for uploading to the webpage the following code is used."
      ]
    },
    {
      "cell_type": "code",
      "metadata": {
        "id": "0md7WNkGyPgo",
        "colab_type": "code",
        "colab": {}
      },
      "source": [
        "#time_performance=datetime.datetime.today()\n",
        "#timestampSTR_performance=time_performance.strftime(\"%d-%b-%H:%M\")\n",
        "#outfp_performance = r\"map_with_performance_\"+timestampSTR_performance+\"_map.html\"\n",
        "#Save the map\n",
        "#save(p3, outfp_performance)"
      ],
      "execution_count": 0,
      "outputs": []
    },
    {
      "cell_type": "markdown",
      "metadata": {
        "id": "GUtmE-j7yPgq",
        "colab_type": "text"
      },
      "source": [
        "### Plotting  schooldistricts with links to .kk.dk webpages"
      ]
    },
    {
      "cell_type": "markdown",
      "metadata": {
        "id": "fHNA05ToyPgq",
        "colab_type": "text"
      },
      "source": [
        "Replacing float nans with \"NAN\"-string so Bokeh can interpret it as NANs."
      ]
    },
    {
      "cell_type": "code",
      "metadata": {
        "id": "P-UbzvdEyPgq",
        "colab_type": "code",
        "colab": {}
      },
      "source": [
        "data['Home page']=data['Home page'].replace(float('nan'),'NAN')"
      ],
      "execution_count": 0,
      "outputs": []
    },
    {
      "cell_type": "markdown",
      "metadata": {
        "id": "ccDIrSInyPgx",
        "colab_type": "text"
      },
      "source": [
        "Creating figure for plotting. Here is added a \"tap\"-tool so that the user can navigate to the webpage of the selected school."
      ]
    },
    {
      "cell_type": "code",
      "metadata": {
        "id": "dZZSRGdByPg1",
        "colab_type": "code",
        "colab": {}
      },
      "source": [
        "# Create figure object.\n",
        "p4 = figure(title = 'Click on the school district to be directed to its \"\".kk.dk\" homepage', \n",
        "           plot_height = 600, plot_width = 720, \n",
        "           toolbar_location = 'below',\n",
        "           tools = \"wheel_zoom, zoom_in, zoom_out, box_zoom, pan, reset,tap\")\n",
        "p4.xgrid.grid_line_color = None\n",
        "p4.ygrid.grid_line_color = None\n"
      ],
      "execution_count": 0,
      "outputs": []
    },
    {
      "cell_type": "markdown",
      "metadata": {
        "id": "XUDwVVQDyPg4",
        "colab_type": "text"
      },
      "source": [
        "Save the data as GeoJSONDataSource."
      ]
    },
    {
      "cell_type": "code",
      "metadata": {
        "id": "XJPQxczMyPg5",
        "colab_type": "code",
        "colab": {}
      },
      "source": [
        "geosource_p4 = GeoJSONDataSource(geojson = data.to_json())\n"
      ],
      "execution_count": 0,
      "outputs": []
    },
    {
      "cell_type": "markdown",
      "metadata": {
        "id": "h5SlulGpyPg7",
        "colab_type": "text"
      },
      "source": [
        "Plotting the districts with yellow color. No colormapper is needed because the website-data are nominal data."
      ]
    },
    {
      "cell_type": "code",
      "metadata": {
        "id": "g81LJKTlyPg7",
        "colab_type": "code",
        "colab": {}
      },
      "source": [
        "skoler_p4 = p4.patches('xs','ys', source = geosource_p4,\n",
        "                    fill_color='yellow',\n",
        "                   line_color = 'red', \n",
        "                   line_width = 0.4, \n",
        "                   fill_alpha = 1,\n",
        "                    )"
      ],
      "execution_count": 0,
      "outputs": []
    },
    {
      "cell_type": "markdown",
      "metadata": {
        "id": "PHNyYuDByPg-",
        "colab_type": "text"
      },
      "source": [
        "Add hover data with the homepage-url."
      ]
    },
    {
      "cell_type": "code",
      "metadata": {
        "id": "43rhPvZJyPhF",
        "colab_type": "code",
        "colab": {}
      },
      "source": [
        "p4.add_tools(HoverTool(renderers = [skoler_p4],\n",
        "                      tooltips = [('Schoolname','@{School name}'),\n",
        "                               ('Students', '@{Home page}')]))"
      ],
      "execution_count": 0,
      "outputs": []
    },
    {
      "cell_type": "markdown",
      "metadata": {
        "id": "FEEnIZG8yPhL",
        "colab_type": "text"
      },
      "source": [
        "Add the school locations to the figure."
      ]
    },
    {
      "cell_type": "code",
      "metadata": {
        "id": "bwteS4hRyPhM",
        "colab_type": "code",
        "colab": {}
      },
      "source": [
        "source_p4 = ColumnDataSource(\n",
        "    data=dict(lat=data['lat'],\n",
        "              lon=data['lon'])\n",
        ")\n",
        "\n",
        "punkter4= p4.circle(y='lat', x='lon', size=5, alpha=1.0, source=source_p4,legend='School location',fill_color='green',color=\"grey\")\n",
        "punkter4.visible=False\n",
        "p4.legend.click_policy=\"hide\"\n",
        "p4.legend.location = \"bottom_right\"\n",
        "p4.legend.inactive_fill_alpha=0\n"
      ],
      "execution_count": 0,
      "outputs": []
    },
    {
      "cell_type": "markdown",
      "metadata": {
        "id": "4nJfXgcwyPhY",
        "colab_type": "text"
      },
      "source": [
        "Adding the tap tool with the schools url."
      ]
    },
    {
      "cell_type": "code",
      "metadata": {
        "id": "AYLtj5E1yPhZ",
        "colab_type": "code",
        "colab": {}
      },
      "source": [
        "\n",
        "#If we want to implement \"tap to homepage\"\n",
        "taptool = p4.select(type=TapTool)\n",
        "taptool.callback = OpenURL(url='@{Home page}')\n"
      ],
      "execution_count": 0,
      "outputs": []
    },
    {
      "cell_type": "code",
      "metadata": {
        "id": "LVC_9W_myPiA",
        "colab_type": "code",
        "colab": {}
      },
      "source": [
        "show(p4)"
      ],
      "execution_count": 0,
      "outputs": []
    },
    {
      "cell_type": "markdown",
      "metadata": {
        "id": "ZvViX1dQ_4hV",
        "colab_type": "text"
      },
      "source": [
        "If Bokeh plot does not render, see the image below (of course without interactivity):"
      ]
    },
    {
      "cell_type": "markdown",
      "metadata": {
        "id": "GFzpQWLU-gda",
        "colab_type": "text"
      },
      "source": [
        "![alt text](https://drive.google.com/uc?id=1jQ9W4ECRoxYrhXgzngoMNONPj_imGZw4)"
      ]
    },
    {
      "cell_type": "markdown",
      "metadata": {
        "id": "YkBBgG36yPiR",
        "colab_type": "text"
      },
      "source": [
        "Saving the plot as Panel for later use:"
      ]
    },
    {
      "cell_type": "code",
      "metadata": {
        "id": "4_g1JegLyPiS",
        "colab_type": "code",
        "colab": {}
      },
      "source": [
        "tab_web = Panel(child=p4, title=\"Webpages\")"
      ],
      "execution_count": 0,
      "outputs": []
    },
    {
      "cell_type": "markdown",
      "metadata": {
        "id": "EyIVI9aAyPiY",
        "colab_type": "text"
      },
      "source": [
        "To be able to save the html file for uploading to the webpage the following code is used."
      ]
    },
    {
      "cell_type": "code",
      "metadata": {
        "id": "WIpdbPoOyPiY",
        "colab_type": "code",
        "colab": {}
      },
      "source": [
        "#time_web=datetime.datetime.today()\n",
        "\n",
        "#timestampSTR_web=time_web.strftime(\"%d-%b-%H:%M\")\n",
        "#outfp_web = r\"map_with_web_\"+timestampSTR_web+\"_map.html\"\n",
        "##Save the map\n",
        "#save(p4, outfp_web)"
      ],
      "execution_count": 0,
      "outputs": []
    },
    {
      "cell_type": "markdown",
      "metadata": {
        "id": "W63mTR8oyPih",
        "colab_type": "text"
      },
      "source": [
        "### Plotting Education score"
      ]
    },
    {
      "cell_type": "markdown",
      "metadata": {
        "id": "EbnxQmHCyPii",
        "colab_type": "text"
      },
      "source": [
        "The education scores are saved as floats. Bokeh will display the values with many ending zeroes. Therefore the scores are rounded to one decimal, saved as string and float NaNs are saved as \"NAN\" in string format."
      ]
    },
    {
      "cell_type": "code",
      "metadata": {
        "id": "iuoYpY0iyPii",
        "colab_type": "code",
        "colab": {}
      },
      "source": [
        "data['Education score_edit']=np.round(data['Education score'].astype(float),decimals=1)"
      ],
      "execution_count": 0,
      "outputs": []
    },
    {
      "cell_type": "code",
      "metadata": {
        "id": "-jS3Mj1EyPir",
        "colab_type": "code",
        "colab": {}
      },
      "source": [
        "data['Education score_edit']=data['Education score_edit'].replace(float('nan'),\"NAN\")"
      ],
      "execution_count": 0,
      "outputs": []
    },
    {
      "cell_type": "code",
      "metadata": {
        "id": "U7qPYt4nyPix",
        "colab_type": "code",
        "colab": {}
      },
      "source": [
        "data['Education score_edit_string']=data['Education score_edit'].astype(str)"
      ],
      "execution_count": 0,
      "outputs": []
    },
    {
      "cell_type": "markdown",
      "metadata": {
        "id": "DUV4fEqqyPiz",
        "colab_type": "text"
      },
      "source": [
        "Finding the boundaries of the colormapping. The lowest score is round down to nearest integer and highest score rounded up."
      ]
    },
    {
      "cell_type": "code",
      "metadata": {
        "id": "2tXUVkS_yPi3",
        "colab_type": "code",
        "colab": {}
      },
      "source": [
        "mini_score=int(np.floor(pd.DataFrame(data['Education score_edit']).astype(float).min()))"
      ],
      "execution_count": 0,
      "outputs": []
    },
    {
      "cell_type": "code",
      "metadata": {
        "id": "9RrY6NWOyPi8",
        "colab_type": "code",
        "colab": {}
      },
      "source": [
        "maxi_score=int(np.ceil(pd.DataFrame(data['Education score_edit']).astype(float).max()))"
      ],
      "execution_count": 0,
      "outputs": []
    },
    {
      "cell_type": "markdown",
      "metadata": {
        "id": "mswFUg5QyPi_",
        "colab_type": "text"
      },
      "source": [
        "Define colorpalette with new colors."
      ]
    },
    {
      "cell_type": "code",
      "metadata": {
        "id": "dhXLOk0wyPjA",
        "colab_type": "code",
        "colab": {}
      },
      "source": [
        "palette_p5 = brewer['Purples'][9] \n",
        "palette_p5 = palette_p5[::-1] # reverse order of colors so higher values have darker colors"
      ],
      "execution_count": 0,
      "outputs": []
    },
    {
      "cell_type": "markdown",
      "metadata": {
        "id": "O1AAD78NyPjB",
        "colab_type": "text"
      },
      "source": [
        "Define colormapper for education score."
      ]
    },
    {
      "cell_type": "code",
      "metadata": {
        "id": "a5siCGVnyPjC",
        "colab_type": "code",
        "colab": {}
      },
      "source": [
        "color_mapper_p5 = LinearColorMapper(palette = palette_p5, low = mini_score, high = maxi_score,nan_color='grey')"
      ],
      "execution_count": 0,
      "outputs": []
    },
    {
      "cell_type": "markdown",
      "metadata": {
        "id": "maru3EoByPjG",
        "colab_type": "text"
      },
      "source": [
        "Create colorbar for the education score."
      ]
    },
    {
      "cell_type": "code",
      "metadata": {
        "id": "gEScPS3tyPjG",
        "colab_type": "code",
        "colab": {}
      },
      "source": [
        "color_bar_p5 = ColorBar(color_mapper = color_mapper_p5, \n",
        "                     label_standoff = 8,\n",
        "                     width = 600, height = 20,\n",
        "                     border_line_color = None,\n",
        "                     location = (0,0), \n",
        "                     orientation = 'horizontal')"
      ],
      "execution_count": 0,
      "outputs": []
    },
    {
      "cell_type": "markdown",
      "metadata": {
        "id": "xC-2TrRUyPjL",
        "colab_type": "text"
      },
      "source": [
        "Create the figure."
      ]
    },
    {
      "cell_type": "code",
      "metadata": {
        "id": "PJ6ufH-3yPjP",
        "colab_type": "code",
        "colab": {}
      },
      "source": [
        "p5 = figure(title = 'Educational score (5 = five years beyond primary school)', \n",
        "           plot_height = 600, plot_width = 720, \n",
        "           toolbar_location = 'below',\n",
        "           tools = \"wheel_zoom, zoom_in, zoom_out, box_zoom, pan, reset\")\n",
        "p5.xgrid.grid_line_color = None\n",
        "p5.ygrid.grid_line_color = None"
      ],
      "execution_count": 0,
      "outputs": []
    },
    {
      "cell_type": "markdown",
      "metadata": {
        "id": "You3taEzyPjR",
        "colab_type": "text"
      },
      "source": [
        "Having education score values ready for plotting in the Bokeh figure, the following code follows the same structure as the previous explained template. The new implementation is the colormapping and hovering of the values for Education score:"
      ]
    },
    {
      "cell_type": "code",
      "metadata": {
        "id": "7CniX-JQyPjR",
        "colab_type": "code",
        "colab": {}
      },
      "source": [
        "geosource_p5 = GeoJSONDataSource(geojson = data.to_json())\n",
        "\n",
        "#Mapping districts\n",
        "skoler_p5 = p5.patches('xs','ys', source = geosource_p5,\n",
        "                   fill_color = {'field' :'Education score_edit', #what to color should represent\n",
        "                                 'transform' : color_mapper_p5},\n",
        "                   line_color = 'red', \n",
        "                   line_width = 0.4, \n",
        "                   fill_alpha = 1,\n",
        "                    )\n",
        "#Add hover tool\n",
        "p5.add_tools(HoverTool(renderers = [skoler_p5],\n",
        "                      tooltips = [('Schoolname','@{School name}'),\n",
        "                               ('Performance', '@{Education score_edit_string}')]))\n",
        "#School location data\n",
        "source_p5 = ColumnDataSource(\n",
        "    data=dict(lat=data['lat'],\n",
        "              lon=data['lon'])\n",
        ")\n",
        "\n",
        "#School locations\n",
        "punkter5= p5.circle(y='lat', x='lon', size=5, alpha=1.0, source=source_p5,legend='School location',fill_color='Orange',color=\"grey\")\n",
        "punkter5.visible=False\n",
        "p5.legend.click_policy=\"hide\"\n",
        "p5.legend.location = \"bottom_right\"\n",
        "p5.legend.inactive_fill_alpha=0\n",
        "\n",
        "#Add colorbar\n",
        "p5.add_layout(color_bar_p5, 'below')"
      ],
      "execution_count": 0,
      "outputs": []
    },
    {
      "cell_type": "markdown",
      "metadata": {
        "id": "dlG6Hd-MyPkF",
        "colab_type": "text"
      },
      "source": [
        "Show the plot for education score."
      ]
    },
    {
      "cell_type": "code",
      "metadata": {
        "id": "IjphZXapyPkK",
        "colab_type": "code",
        "colab": {}
      },
      "source": [
        "show(p5)"
      ],
      "execution_count": 0,
      "outputs": []
    },
    {
      "cell_type": "markdown",
      "metadata": {
        "id": "nxHrZZMU_6w8",
        "colab_type": "text"
      },
      "source": [
        "If Bokeh plot does not render, see the image below (of course without interactivity):"
      ]
    },
    {
      "cell_type": "markdown",
      "metadata": {
        "id": "Ufgo_S_b-uEW",
        "colab_type": "text"
      },
      "source": [
        "![alt text](https://drive.google.com/uc?id=1kpGbMBpiGgAxRO-YD0pO0L0oqX4kF7KF)"
      ]
    },
    {
      "cell_type": "markdown",
      "metadata": {
        "id": "l3p2vkW_yPkN",
        "colab_type": "text"
      },
      "source": [
        "Saving the education score plot in a Panel for later use."
      ]
    },
    {
      "cell_type": "code",
      "metadata": {
        "id": "6Mz5ffeoyPkN",
        "colab_type": "code",
        "colab": {}
      },
      "source": [
        "tab_education = Panel(child=p5, title=\"Education score\")"
      ],
      "execution_count": 0,
      "outputs": []
    },
    {
      "cell_type": "markdown",
      "metadata": {
        "id": "u2l5HJOvyPkV",
        "colab_type": "text"
      },
      "source": [
        "To be able to save the html file for uploading to the webpage the following code is used."
      ]
    },
    {
      "cell_type": "code",
      "metadata": {
        "id": "G5Pb4qEbyPkW",
        "colab_type": "code",
        "colab": {}
      },
      "source": [
        "#time_graduation=datetime.datetime.today()\n",
        "#timestampSTR_grade=time_graduation.strftime(\"%d-%b-%H:%M\")\n",
        "#outfp_graduation = r\"map_with_graduation_\"+timestampSTR_graduation+\"_map.html\"\n",
        "##Save the map\n",
        "#save(p5, outfp_graduation)"
      ],
      "execution_count": 0,
      "outputs": []
    },
    {
      "cell_type": "markdown",
      "metadata": {
        "id": "PmLglec5yPkY",
        "colab_type": "text"
      },
      "source": [
        "### Making the final plot (with Tabs)"
      ]
    },
    {
      "cell_type": "markdown",
      "metadata": {
        "id": "4C5DRcOZyPka",
        "colab_type": "text"
      },
      "source": [
        "The final plot should contain all maps where the users can navigate between them using Tabs. Each of the previous saved Panels are then insertet into the Tab-class."
      ]
    },
    {
      "cell_type": "code",
      "metadata": {
        "id": "Ri2S_tywyPkc",
        "colab_type": "code",
        "colab": {}
      },
      "source": [
        "tabs = Tabs(tabs=[ tab_performance,tab_income,tab_education,tab_foreign,tab_web],sizing_mode=\"stretch_width\")"
      ],
      "execution_count": 0,
      "outputs": []
    },
    {
      "cell_type": "code",
      "metadata": {
        "id": "xfM4GiGGyPke",
        "colab_type": "code",
        "colab": {}
      },
      "source": [
        "show(tabs)"
      ],
      "execution_count": 0,
      "outputs": []
    },
    {
      "cell_type": "markdown",
      "metadata": {
        "id": "GOItHZEp_8Hh",
        "colab_type": "text"
      },
      "source": [
        "If Bokeh plot does not render, see the image below (of course without interactivity):"
      ]
    },
    {
      "cell_type": "markdown",
      "metadata": {
        "id": "Qw2AOFIz-_Ea",
        "colab_type": "text"
      },
      "source": [
        "![alt text](https://drive.google.com/uc?id=1P1e9NYGS0ZSb1HycpDpHGIex9W9-6dxS)"
      ]
    },
    {
      "cell_type": "markdown",
      "metadata": {
        "id": "lHZzBDs7yPki",
        "colab_type": "text"
      },
      "source": [
        "To be able to save the html file for uploading to the webpage the following code is used."
      ]
    },
    {
      "cell_type": "code",
      "metadata": {
        "id": "6HxGcIBayPki",
        "colab_type": "code",
        "colab": {}
      },
      "source": [
        "#time_tabs=datetime.datetime.today()\n",
        "#timestampSTR_tabs=time_tabs.strftime(\"%d-%b-%H:%M\")\n",
        "#outfp_tabs = r\"map_with_tab_\"+timestampSTR_tabs+\"_map.html\"\n",
        "# Save the map\n",
        "#save(tabs, outfp_tabs)"
      ],
      "execution_count": 0,
      "outputs": []
    },
    {
      "cell_type": "markdown",
      "metadata": {
        "id": "K8rss63owFrh",
        "colab_type": "text"
      },
      "source": [
        "\n",
        "\n",
        "---\n",
        "\n"
      ]
    },
    {
      "cell_type": "markdown",
      "metadata": {
        "id": "q5nIQhLRLZXe",
        "colab_type": "text"
      },
      "source": [
        "#6. Discussion (Mandatory)"
      ]
    },
    {
      "cell_type": "markdown",
      "metadata": {
        "id": "c0rVloXZ3OXI",
        "colab_type": "text"
      },
      "source": [
        "\n",
        "\n",
        "*General*<br>\n",
        "In this project, we look at the relation between ethnicity, institution and socio-economic levels of school in explaining performance. But we only look at school in Copenhagen. This is primarily because of practical reasons - school district data is made available by each municipality locally, and we couldn't find a shape-file that contained all school districts in Denmark. This is would be an interesting avenue for future research, since Copenhagen is not at all representative of Denmark. Specifically parts of Denmark that are ethnically homogeneus (primarly ethnically danish) and also have low levels of income, education and high levels of unemployment, are not represented in Copenhagen. This demographic could be very interesting to include in future research.    \n",
        "\n",
        "*Scatter plot*<br>\n",
        "It works well to guide the viewer towards the end goal from the beginning by only showing a narrow selection of variables nad making them appear in a predetermined order. However, there is no guarantee that the user will interact with the plot and thus see the premis of the narrative. This could be forced more at the risk of appearing manipulative from the beginning. Also, as there is more data available behind the scenes, a feature could be included making it possible to browse through more of these to make the plot customizable and more time consuming.\n",
        "A filter on schools could make it easier for the explorer to find the school they attended or the one in their current school district and see its stats.\n",
        "\n",
        "\n",
        "*Regression models*<br>\n",
        "We could have done more in terms of adding/expanding the regression models with either totally new variables, or new variable calculated from existing variable (say squred or by taking logarithm of variable). However, as we were most interested in being able to explain our models to the non-technical reader, we tried to keep the models as \"clean\" as possible.\n",
        "\n",
        "*School district maps*<br>\n",
        "When comparing income and education score with Share of foreign the reader could be confused by the colorscaling. Darker areas on the first two plots have positive influences of the performance. Whereas in the originally plot with Share of foreign students the dark areas corresponds to values that have a negative influence on the performance (NB: This perspective was from the medias point of view). Comparing the variables on the three maps could therefore be too difficult for a non-technical reader. "
      ]
    },
    {
      "cell_type": "markdown",
      "metadata": {
        "id": "TQfl0JWJ3ORC",
        "colab_type": "text"
      },
      "source": [
        "#7. Contributions (Mandatory)"
      ]
    },
    {
      "cell_type": "markdown",
      "metadata": {
        "id": "0Ghq_XxJIuKI",
        "colab_type": "text"
      },
      "source": [
        "*Frederik Kromann Hansen (s161800)* <br>\n",
        "Took the leading role of making datapreparation in Alteryx. Other than that, took the primary responsibility for making all the scatter plot visualization in Bokeh, describing the scatter plot visualisation and explaining the code associated with the scatterplots.  <br>\n",
        "\n",
        "*Daniel Juhász Vigild(s164749)* <br>\n",
        "Took the leading role of doing the linear regression analysis and describtions of the method and associated results. Was also in charge of making the linear regression visualizations, describing the visualisation of regresson coefficients and explaining the code associated with regression.\n",
        "<br>\n",
        "\n",
        "*Lau Johansson (s164512)*<br>\n",
        "Took the leading role in coding all the maps in Bokeh, describing the map visualisation and explaining the code associated with the maps. In charge of setting up the website www.explorifydata.com [5] and making customized HTML-code to integrate Bokeh-visualizations into the wepage. \n",
        "\n"
      ]
    },
    {
      "cell_type": "markdown",
      "metadata": {
        "id": "1Rn8elA0OcGL",
        "colab_type": "text"
      },
      "source": [
        "#8. References"
      ]
    },
    {
      "cell_type": "markdown",
      "metadata": {
        "id": "iUMZ9JtwOexC",
        "colab_type": "text"
      },
      "source": [
        "\n",
        "\n",
        "\n",
        "\n",
        "[1] Bokeh Contributors (2020). Bokeh palettes. Retrieved from https://docs.bokeh.org/en/latest/docs/reference/palettes.html <br> <br>\n",
        "[2] Børne- og undervisningsministeriet, (n.d). Uddannelsesstatistik. Retrieved from https://uddannelsesstatistik.dk/Pages/main.aspx <br> <br>\n",
        "[3] Børne- og undervisningsministeriet, (2019). Udtræk fra Institutionsregistret. Retrieved from: https://statistik.uni-c.dk/instregudtraek/ <br> <br>\n",
        "[4] Dingeo.dk Aps, (n.d). Grundskoler og Skoledistrikter. Retrived from https://www.dingeo.dk/data/grundskoler/ <br> <br>\n",
        "[5] Explorifydata.com, (2020). Students with foreign backgrounds in Copenhagen public schools. Retrieved from https://explorifydata.com/social-data-analysis/copenhagen-public-schools/ <br> <br>\n",
        "[6] Open Data DK, (n.d). Skoledistrikter (inkl. historik fra 2014). Retrived from: https://www.opendata.dk/city-of-copenhagen/skoledistrikter <br> <br>\n",
        "[7] Segel, Edward & Heer, Jeffrey. (2011). Narrative Visualization: Telling Stories with Data. IEEE transactions on visualization and computer graphics. 16. 1139-48. 10.1109/TVCG.2010.179. <br> <br>\n",
        "\n",
        "\n"
      ]
    },
    {
      "cell_type": "code",
      "metadata": {
        "id": "nJlaUDjhTPnd",
        "colab_type": "code",
        "colab": {}
      },
      "source": [
        ""
      ],
      "execution_count": 0,
      "outputs": []
    }
  ]
}